{
 "cells": [
  {
   "cell_type": "code",
   "execution_count": 67,
   "metadata": {},
   "outputs": [],
   "source": [
    "import networkx as nx\n",
    "from matplotlib import pyplot as plt\n",
    "import random\n",
    "import math\n",
    "from matplotlib import pyplot as plt\n",
    "from matplotlib.animation import FuncAnimation\n",
    "import numpy as np\n",
    "import pandas as pd\n",
    "from tqdm import tqdm\n",
    "import threading\n",
    "import queue"
   ]
  },
  {
   "cell_type": "code",
   "execution_count": 68,
   "metadata": {},
   "outputs": [],
   "source": [
    "def initialize_graph(node_count, contact_radius = 1, queue = None, time = 0):\n",
    "    square_size = math.sqrt(node_count) #size of square\n",
    "    custom_pos = {} #custom position for plotting\n",
    "    G = nx.Graph(time = time) #initialize graph\n",
    "    for i in range(node_count):\n",
    "        G.add_node(i)\n",
    "        G.nodes[i]['state'] = 'S'  \n",
    "        x,y = random.uniform(0, square_size), random.uniform(0, square_size)\n",
    "        G.nodes[i]['pos'] = (x,y)\n",
    "        G.nodes[i]['observed'] = False\n",
    "        G.nodes[i]['SIR_prob'] = [1,0,0]\n",
    "        custom_pos[i] = (x,y)\n",
    "    #initialize node state, color, and position\n",
    "    #set the colors\n",
    "    #S = susceptible (green)\n",
    "    #I = infected (red)\n",
    "    #R = recovered (blue)\n",
    "    #set the edges\n",
    "    edges = nx.geometric_edges(G, radius = contact_radius)\n",
    "    G.add_edges_from(edges)\n",
    "    queue.put((G, custom_pos))"
   ]
  },
  {
   "cell_type": "code",
   "execution_count": 69,
   "metadata": {},
   "outputs": [],
   "source": [
    "def infectRandomNode(G, node_count):\n",
    "    #infect a random node that is susceptible\n",
    "    sample = random.sample(G.nodes(), G.number_of_nodes())\n",
    "    count = 0\n",
    "    for i in sample:\n",
    "        if (count >= node_count):\n",
    "            break\n",
    "        if G.nodes[i]['state'] == 'S':\n",
    "            G.nodes[i]['state'] = 'I'\n",
    "        count += 1"
   ]
  },
  {
   "cell_type": "code",
   "execution_count": 70,
   "metadata": {},
   "outputs": [],
   "source": [
    "def update(G_t1, G_t2, infection_rate, recovery_rate):\n",
    "    #update Gt2 based on G_t1 assuming they are similar node size\n",
    "    for node in G_t1.nodes():\n",
    "        #check if node is observed\n",
    "        if G_t1.nodes[node]['observed'] == True:\n",
    "            G_t2.nodes[node]['observed'] = True\n",
    "        \n",
    "        #check node state\n",
    "        if G_t1.nodes[node]['state'] == 'S':\n",
    "            for neighbor in G_t1.neighbors(node):\n",
    "                if G_t1.nodes[neighbor]['state'] == 'I':\n",
    "                    if random.uniform(0, 1) < infection_rate:\n",
    "                        G_t2.nodes[node]['state'] = 'I'\n",
    "                        break\n",
    "        elif G_t1.nodes[node]['state'] == 'I':\n",
    "            if random.uniform(0, 1) < recovery_rate:\n",
    "                G_t2.nodes[node]['state'] = 'R'\n",
    "            else:\n",
    "                G_t2.nodes[node]['state'] = 'I'\n",
    "        else:\n",
    "            G_t2.nodes[node]['state'] = 'R'\n",
    "        \n",
    "        #update SIR probabilities\n",
    "        G_t2.nodes[node]['SIR_prob'] = G_t1.nodes[node]['SIR_prob']\n",
    "    return G_t2"
   ]
  },
  {
   "cell_type": "code",
   "execution_count": 71,
   "metadata": {},
   "outputs": [],
   "source": [
    "def SurroundInfectionRate(graph, node, infection_rate):\n",
    "    #total infection rate of a node based on the infection rate of its neighbors\n",
    "    neighbors = list(graph.neighbors(node))\n",
    "    result = 0\n",
    "    for neighbor in neighbors:\n",
    "        result += infection_rate * graph.nodes[neighbor]['SIR_prob'][1]\n",
    "    return result"
   ]
  },
  {
   "cell_type": "code",
   "execution_count": 72,
   "metadata": {},
   "outputs": [],
   "source": [
    "def MeanFieldInference(graph_t, infection_rate, recovery_rate):\n",
    "    predicted_state_t1 = {}\n",
    "    for node in graph_t.nodes():\n",
    "        factor = SurroundInfectionRate(graph_t, node, infection_rate)\n",
    "        Ps = graph_t.nodes[node]['SIR_prob'][0]*(1-factor)\n",
    "        Pi = (1-recovery_rate)*graph_t.nodes[node]['SIR_prob'][1] + graph_t.nodes[node]['SIR_prob'][0]*factor\n",
    "        Pr = graph_t.nodes[node]['SIR_prob'][2] + recovery_rate*graph_t.nodes[node]['SIR_prob'][1]\n",
    "        predicted_state_t1[node] = [Ps, Pi, Pr]\n",
    "    return predicted_state_t1"
   ]
  },
  {
   "cell_type": "code",
   "execution_count": 73,
   "metadata": {},
   "outputs": [],
   "source": [
    "def BackloopUpdate(temporal_graphs,t ,delta, node, state):\n",
    "    mapper = {'S':[1,0,0], 'I':[0,1,0], 'R':[0,0,1]}\n",
    "    for i in range(t, t-delta-1, -1):\n",
    "        temporal_graphs[i][0].nodes[node]['SIR_prob'] = mapper[state]\n",
    "        temporal_graphs[i][0].nodes[node]['observed'] = True"
   ]
  },
  {
   "cell_type": "code",
   "execution_count": 74,
   "metadata": {},
   "outputs": [],
   "source": [
    "#@param: give a list of nodes that are observed\n",
    "def DetectObserve(obs, temporal_graphs, observe_per_day, t, delta):\n",
    "    list_of_nodes = []\n",
    "    count = 0\n",
    "    for entry in obs:\n",
    "        state = temporal_graphs[t][0].nodes[entry]['state']\n",
    "        obs_state = temporal_graphs[t][0].nodes[entry]['observed']\n",
    "        if obs_state == True:\n",
    "            continue\n",
    "        if state == 'S':\n",
    "            BackloopUpdate(temporal_graphs, t, delta, entry, 'S')\n",
    "        elif state == 'I':\n",
    "            BackloopUpdate(temporal_graphs, t, delta, entry, 'I')\n",
    "        elif state == 'R':\n",
    "            BackloopUpdate(temporal_graphs, t, delta, entry, 'R')\n",
    "        if count == observe_per_day:\n",
    "            break\n",
    "        count += 1\n",
    "        list_of_nodes.append(entry)\n",
    "    return list_of_nodes\n",
    "        \n",
    "        "
   ]
  },
  {
   "cell_type": "code",
   "execution_count": 75,
   "metadata": {},
   "outputs": [],
   "source": [
    "def SetRemove(graph, list):\n",
    "    for entry in list:\n",
    "        graph.nodes[entry]['observed'] = True\n",
    "        graph.nodes[entry]['SIR_prob'] = [0,0,1]\n",
    "        graph.nodes[entry]['state'] = 'R'"
   ]
  },
  {
   "cell_type": "code",
   "execution_count": 76,
   "metadata": {},
   "outputs": [],
   "source": [
    "def SIR_count(graph):\n",
    "    S_count = 0\n",
    "    I_count = 0\n",
    "    R_count = 0\n",
    "    for node in graph.nodes():\n",
    "        if graph.nodes[node]['state'] == 'S':\n",
    "            S_count += 1\n",
    "        elif graph.nodes[node]['state'] == 'I':\n",
    "            I_count += 1\n",
    "        elif graph.nodes[node]['state'] == 'R':\n",
    "            R_count += 1\n",
    "    return S_count, I_count, R_count"
   ]
  },
  {
   "cell_type": "code",
   "execution_count": 77,
   "metadata": {},
   "outputs": [],
   "source": [
    "def Sampler(graph, s_count):\n",
    "    nodes = list(graph.nodes())\n",
    "    random.shuffle(nodes)\n",
    "    result = []\n",
    "    count = 0\n",
    "    for i in range(len(nodes)):\n",
    "        if graph.nodes[nodes[i]]['observed']:\n",
    "            result.append(nodes[i])\n",
    "            count += 1\n",
    "        if count == s_count:\n",
    "            break\n",
    "    return result"
   ]
  },
  {
   "cell_type": "code",
   "execution_count": 78,
   "metadata": {},
   "outputs": [],
   "source": [
    "def generate_graphs(node_count, contact_radius, nr_graphs):\n",
    "    que_graphs = queue.Queue()\n",
    "    thread_list = []\n",
    "    for t in range(0, nr_graphs):\n",
    "        thread = threading.Thread(target=initialize_graph, args=(node_count, contact_radius, que_graphs, t), name='thread'+str(t))\n",
    "        thread.start()\n",
    "        #print('thread'+str(t)+' started')\n",
    "        thread_list.append(thread)\n",
    "\n",
    "    for thread in tqdm(thread_list, desc='Generating Graphs'):\n",
    "        #print('thread'+thread.name +' joined')\n",
    "        thread.join()\n",
    "    temporal_graph_dict = {}\n",
    "    while not que_graphs.empty():\n",
    "        G,custom_pos = que_graphs.get()\n",
    "        temporal_graph_dict[G.graph['time']] = (G, custom_pos)\n",
    "    return temporal_graph_dict"
   ]
  },
  {
   "cell_type": "code",
   "execution_count": 79,
   "metadata": {},
   "outputs": [],
   "source": [
    "#mode = 'MF', 'R', 'None'\n",
    "node_count = 20\n",
    "infection_rate = 0.05\n",
    "recovery_rate = 0\n",
    "contact_radius = 6\n",
    "time_steps = 20\n",
    "temporal_graph_dict = {}\n",
    "observe_per_day = 2\n",
    "t_mf = 5\n",
    "color_map = {'S': 'green', 'I': 'red', 'R': 'blue'}\n",
    "def sim(DataFrame, id, mode):\n",
    "    temporal_graph_dict = generate_graphs(node_count, contact_radius, time_steps)\n",
    "    infectRandomNode(temporal_graph_dict[0][0], 1)\n",
    "    graph = temporal_graph_dict[0][0]\n",
    "    S, I, R = SIR_count(graph)\n",
    "    DataFrame.loc[len(DataFrame)] = [id, 0, S, I, R]\n",
    "    #string for description of loop:\n",
    "    desc = 'Simulating (mode: '+mode +')'\n",
    "    for i in tqdm(range(1, time_steps), desc=desc):\n",
    "        graph = update(temporal_graph_dict[i-1][0], temporal_graph_dict[i][0], infection_rate, recovery_rate)\n",
    "        if (mode == 'MF' and i > 10):\n",
    "            pred = MeanFieldInference(graph, infection_rate, recovery_rate)\n",
    "            sort_pred = sorted(pred.items(), key=lambda x: x[1])\n",
    "            node_list = [node[0] for node in sort_pred]\n",
    "            print(\"day\", i)\n",
    "            print(pred)\n",
    "            #print(node_list)\n",
    "            list_remove = DetectObserve(node_list, temporal_graph_dict,observe_per_day,i, t_mf)\n",
    "            SetRemove(temporal_graph_dict[i][0], list_remove)\n",
    "        elif (mode == 'R' and i > 10):\n",
    "            sample = Sampler(graph, observe_per_day)\n",
    "            #DetectObserve(sample, temporal_graph_dict, i, t_mf)\n",
    "            SetRemove(temporal_graph_dict[i], sample)\n",
    "        S, I, R = SIR_count(graph)\n",
    "        DataFrame.loc[len(DataFrame)] = [id, i, S, I, R]\n",
    "    return temporal_graph_dict"
   ]
  },
  {
   "cell_type": "code",
   "execution_count": 80,
   "metadata": {},
   "outputs": [
    {
     "name": "stderr",
     "output_type": "stream",
     "text": [
      "Generating Graphs: 100%|██████████| 20/20 [00:00<?, ?it/s]\n",
      "C:\\Users\\frank\\AppData\\Local\\Temp\\ipykernel_4828\\3500474817.py:3: DeprecationWarning: Sampling from a set deprecated\n",
      "since Python 3.9 and will be removed in a subsequent version.\n",
      "  sample = random.sample(G.nodes(), G.number_of_nodes())\n",
      "Simulating (mode: MF): 100%|██████████| 19/19 [00:00<00:00, 1002.02it/s]"
     ]
    },
    {
     "name": "stdout",
     "output_type": "stream",
     "text": [
      "day 11\n",
      "{0: [1.0, 0.0, 0], 1: [1.0, 0.0, 0], 2: [1.0, 0.0, 0], 3: [1.0, 0.0, 0], 4: [1.0, 0.0, 0], 5: [1.0, 0.0, 0], 6: [1.0, 0.0, 0], 7: [1.0, 0.0, 0], 8: [1.0, 0.0, 0], 9: [1.0, 0.0, 0], 10: [1.0, 0.0, 0], 11: [1.0, 0.0, 0], 12: [1.0, 0.0, 0], 13: [1.0, 0.0, 0], 14: [1.0, 0.0, 0], 15: [1.0, 0.0, 0], 16: [1.0, 0.0, 0], 17: [1.0, 0.0, 0], 18: [1.0, 0.0, 0], 19: [1.0, 0.0, 0]}\n",
      "day 12\n",
      "{0: [0.0, 0.0, 1], 1: [0.0, 0.0, 1], 2: [0.0, 1.0, 0], 3: [0.95, 0.05, 0], 4: [0.95, 0.05, 0], 5: [0.95, 0.05, 0], 6: [0.95, 0.05, 0], 7: [0.95, 0.05, 0], 8: [0.95, 0.05, 0], 9: [0.95, 0.05, 0], 10: [0.95, 0.05, 0], 11: [0.95, 0.05, 0], 12: [0.95, 0.05, 0], 13: [0.95, 0.05, 0], 14: [0.95, 0.05, 0], 15: [0.95, 0.05, 0], 16: [0.95, 0.05, 0], 17: [0.95, 0.05, 0], 18: [0.95, 0.05, 0], 19: [0.95, 0.05, 0]}\n",
      "day 13\n",
      "{0: [0.0, 0.0, 1], 1: [0.0, 0.0, 1], 2: [0.0, 1.0, 0], 3: [0.0, 0.0, 1], 4: [0.0, 0.0, 1], 5: [0.0, 1.0, 0], 6: [0.9, 0.1, 0], 7: [0.9, 0.1, 0], 8: [0.9, 0.1, 0], 9: [0.9, 0.1, 0], 10: [0.9, 0.1, 0], 11: [0.9, 0.1, 0], 12: [0.9, 0.1, 0], 13: [0.9, 0.1, 0], 14: [0.9, 0.1, 0], 15: [0.9, 0.1, 0], 16: [0.9, 0.1, 0], 17: [0.9, 0.1, 0], 18: [0.9, 0.1, 0], 19: [0.9, 0.1, 0]}\n",
      "day 14\n",
      "{0: [0.0, 0.0, 1], 1: [0.0, 0.0, 1], 2: [0.0, 1.0, 0], 3: [0.0, 0.0, 1], 4: [0.0, 0.0, 1], 5: [0.0, 1.0, 0], 6: [0.0, 0.0, 1], 7: [0.0, 0.0, 1], 8: [0.0, 1.0, 0], 9: [0.85, 0.15000000000000002, 0], 10: [0.85, 0.15000000000000002, 0], 11: [0.85, 0.15000000000000002, 0], 12: [0.85, 0.15000000000000002, 0], 13: [0.85, 0.15000000000000002, 0], 14: [0.85, 0.15000000000000002, 0], 15: [0.85, 0.15000000000000002, 0], 16: [0.85, 0.15000000000000002, 0], 17: [0.85, 0.15000000000000002, 0], 18: [0.85, 0.15000000000000002, 0], 19: [0.85, 0.15000000000000002, 0]}\n",
      "day 15\n",
      "{0: [0.0, 0.0, 1], 1: [0.0, 0.0, 1], 2: [0.0, 1.0, 0], 3: [0.0, 0.0, 1], 4: [0.0, 0.0, 1], 5: [0.0, 1.0, 0], 6: [0.0, 0.0, 1], 7: [0.0, 0.0, 1], 8: [0.0, 1.0, 0], 9: [0.0, 0.0, 1], 10: [0.0, 0.0, 1], 11: [0.0, 1.0, 0], 12: [0.8, 0.2, 0], 13: [0.8, 0.2, 0], 14: [0.8, 0.2, 0], 15: [0.8, 0.2, 0], 16: [0.8, 0.2, 0], 17: [0.8, 0.2, 0], 18: [0.8, 0.2, 0], 19: [0.8, 0.2, 0]}\n",
      "day 16\n",
      "{0: [0.0, 0.0, 1], 1: [0.0, 0.0, 1], 2: [0.0, 1.0, 0], 3: [0.0, 0.0, 1], 4: [0.0, 0.0, 1], 5: [0.0, 1.0, 0], 6: [0.0, 0.0, 1], 7: [0.0, 0.0, 1], 8: [0.0, 1.0, 0], 9: [0.0, 0.0, 1], 10: [0.0, 0.0, 1], 11: [0.0, 1.0, 0], 12: [0.0, 0.0, 1], 13: [0.0, 0.0, 1], 14: [0.0, 1.0, 0], 15: [0.75, 0.25, 0], 16: [0.75, 0.25, 0], 17: [0.75, 0.25, 0], 18: [0.75, 0.25, 0], 19: [0.75, 0.25, 0]}\n",
      "day 17\n",
      "{0: [0.0, 0.0, 1], 1: [0.0, 0.0, 1], 2: [0.0, 1.0, 0], 3: [0.0, 0.0, 1], 4: [0.0, 0.0, 1], 5: [0.0, 1.0, 0], 6: [0.0, 0.0, 1], 7: [0.0, 0.0, 1], 8: [0.0, 1.0, 0], 9: [0.0, 0.0, 1], 10: [0.0, 0.0, 1], 11: [0.0, 1.0, 0], 12: [0.0, 0.0, 1], 13: [0.0, 0.0, 1], 14: [0.0, 1.0, 0], 15: [0.0, 0.0, 1], 16: [0.0, 0.0, 1], 17: [0.0, 1.0, 0], 18: [0.7, 0.3, 0], 19: [0.7, 0.3, 0]}\n",
      "day 18\n",
      "{0: [0.0, 0.0, 1], 1: [0.0, 0.0, 1], 2: [0.0, 1.0, 0], 3: [0.0, 0.0, 1], 4: [0.0, 0.0, 1], 5: [0.0, 1.0, 0], 6: [0.0, 0.0, 1], 7: [0.0, 0.0, 1], 8: [0.0, 1.0, 0], 9: [0.0, 0.0, 1], 10: [0.0, 0.0, 1], 11: [0.0, 1.0, 0], 12: [0.0, 0.0, 1], 13: [0.0, 0.0, 1], 14: [0.0, 1.0, 0], 15: [0.0, 0.0, 1], 16: [0.0, 0.0, 1], 17: [0.0, 1.0, 0], 18: [0.0, 0.0, 1], 19: [0.0, 0.0, 1]}\n",
      "day 19\n",
      "{0: [0.0, 0.0, 1], 1: [0.0, 0.0, 1], 2: [0.0, 1.0, 0], 3: [0.0, 0.0, 1], 4: [0.0, 0.0, 1], 5: [0.0, 1.0, 0], 6: [0.0, 0.0, 1], 7: [0.0, 0.0, 1], 8: [0.0, 1.0, 0], 9: [0.0, 0.0, 1], 10: [0.0, 0.0, 1], 11: [0.0, 1.0, 0], 12: [0.0, 0.0, 1], 13: [0.0, 0.0, 1], 14: [0.0, 1.0, 0], 15: [0.0, 0.0, 1], 16: [0.0, 0.0, 1], 17: [0.0, 1.0, 0], 18: [0.0, 0.0, 1], 19: [0.0, 0.0, 1]}\n"
     ]
    },
    {
     "name": "stderr",
     "output_type": "stream",
     "text": [
      "\n"
     ]
    }
   ],
   "source": [
    "Dataframe = pd.DataFrame(columns=['id', 'time', 'S', 'I', 'R'])\n",
    "tempograph = sim(Dataframe, 1, 'MF')"
   ]
  },
  {
   "cell_type": "code",
   "execution_count": 81,
   "metadata": {},
   "outputs": [],
   "source": [
    "def drawgraph(tempograph, t):\n",
    "    graph = tempograph[t][0]\n",
    "    custom_pos = tempograph[t][1]\n",
    "    colors = [color_map[graph.nodes[node]['state']] for node in graph.nodes()]\n",
    "    nx.draw(graph, pos = custom_pos, node_color = colors, with_labels = True)"
   ]
  },
  {
   "cell_type": "code",
   "execution_count": 82,
   "metadata": {},
   "outputs": [
    {
     "data": {
      "application/vnd.jupyter.widget-view+json": {
       "model_id": "128b8d5365b94545a6a7b4febdbf117b",
       "version_major": 2,
       "version_minor": 0
      },
      "text/plain": [
       "interactive(children=(IntSlider(value=0, description='t', max=19), Output()), _dom_classes=('widget-interact',…"
      ]
     },
     "metadata": {},
     "output_type": "display_data"
    },
    {
     "data": {
      "text/plain": [
       "<function __main__.drawgraph(tempograph, t)>"
      ]
     },
     "execution_count": 82,
     "metadata": {},
     "output_type": "execute_result"
    }
   ],
   "source": [
    "from ipywidgets import *\n",
    "interact(drawgraph, tempograph = fixed(tempograph), t = widgets.IntSlider(min=0, max=time_steps-1, step=1, value=0))"
   ]
  },
  {
   "cell_type": "code",
   "execution_count": 83,
   "metadata": {},
   "outputs": [
    {
     "data": {
      "text/plain": [
       "[0, 0, 1]"
      ]
     },
     "execution_count": 83,
     "metadata": {},
     "output_type": "execute_result"
    }
   ],
   "source": [
    "tempograph[15][0].nodes[0]['SIR_prob']"
   ]
  },
  {
   "cell_type": "code",
   "execution_count": null,
   "metadata": {},
   "outputs": [],
   "source": []
  }
 ],
 "metadata": {
  "kernelspec": {
   "display_name": "datalysis",
   "language": "python",
   "name": "python3"
  },
  "language_info": {
   "codemirror_mode": {
    "name": "ipython",
    "version": 3
   },
   "file_extension": ".py",
   "mimetype": "text/x-python",
   "name": "python",
   "nbconvert_exporter": "python",
   "pygments_lexer": "ipython3",
   "version": "3.9.16"
  },
  "orig_nbformat": 4
 },
 "nbformat": 4,
 "nbformat_minor": 2
}
