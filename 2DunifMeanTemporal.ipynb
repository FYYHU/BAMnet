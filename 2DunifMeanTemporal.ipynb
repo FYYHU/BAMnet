{
 "cells": [
  {
   "cell_type": "code",
   "execution_count": 1,
   "metadata": {},
   "outputs": [],
   "source": [
    "import networkx as nx\n",
    "from matplotlib import pyplot as plt\n",
    "import random\n",
    "import math\n",
    "from matplotlib import pyplot as plt\n",
    "from matplotlib.animation import FuncAnimation\n",
    "import numpy as np\n",
    "import pandas as pd\n",
    "from tqdm.notebook import tqdm\n",
    "import threading\n",
    "import queue"
   ]
  },
  {
   "cell_type": "code",
   "execution_count": 2,
   "metadata": {},
   "outputs": [],
   "source": [
    "def distance(a, b):\n",
    "    return math.sqrt((a[0] - b[0])**2 + (a[1] - b[1])**2)\n",
    "\n",
    "def exp_dist(x, y, density, graph):\n",
    "    a = graph.nodes[x]['pos']\n",
    "    b = graph.nodes[y]['pos']\n",
    "    return math.exp(-distance(a, b)/density)"
   ]
  },
  {
   "cell_type": "code",
   "execution_count": 3,
   "metadata": {},
   "outputs": [],
   "source": [
    "def initialize_graph(node_count, contact_radius = 1, queue = None, time = 0, edge_dist='geometric'):\n",
    "    square_size = math.sqrt(node_count) #size of square\n",
    "    custom_pos = {} #custom position for plotting\n",
    "    G = nx.Graph(time = time) #initialize graph\n",
    "    for i in range(node_count):\n",
    "        G.add_node(i)\n",
    "        G.nodes[i]['state'] = 'S'  \n",
    "        x,y = random.uniform(0, square_size), random.uniform(0, square_size)\n",
    "        G.nodes[i]['pos'] = (x,y)\n",
    "        G.nodes[i]['observed'] = False\n",
    "        G.nodes[i]['SIR_prob'] = [1,0,0]\n",
    "        custom_pos[i] = (x,y)\n",
    "    #initialize node state, color, and position\n",
    "    #set the colors\n",
    "    #S = susceptible (green)\n",
    "    #I = infected (red)\n",
    "    #R = recovered (blue)\n",
    "    #set the edges\n",
    "    edges = []\n",
    "    if edge_dist == 'geometric':\n",
    "        edges = nx.geometric_edges(G, radius = contact_radius)\n",
    "    elif edge_dist == 'exp':\n",
    "        matrix = np.fromfunction(exp_dist, (node_count, node_count), density = contact_radius, graph = G)\n",
    "        pairs = np.array(np.triu_indices(node_count, k=1)).T\n",
    "        for pair in pairs:\n",
    "            i,j = pair\n",
    "            if matrix[i,j] > random.uniform(0,1):\n",
    "                    edges.append((i,j))\n",
    "    G.add_edges_from(edges)\n",
    "    queue.put((G, custom_pos))"
   ]
  },
  {
   "cell_type": "code",
   "execution_count": 4,
   "metadata": {},
   "outputs": [],
   "source": [
    "def infectRandomNode(G, node_count):\n",
    "    #infect a random node that is susceptible\n",
    "    sample = random.sample(G.nodes(), G.number_of_nodes())\n",
    "    count = 0\n",
    "    for i in sample:\n",
    "        if (count >= node_count):\n",
    "            break\n",
    "        if G.nodes[i]['state'] == 'S':\n",
    "            G.nodes[i]['state'] = 'I'\n",
    "        count += 1"
   ]
  },
  {
   "cell_type": "code",
   "execution_count": 5,
   "metadata": {},
   "outputs": [],
   "source": [
    "def update(G_t1, G_t2, infection_rate, recovery_rate):\n",
    "    #update Gt2 based on G_t1 assuming they are similar node size\n",
    "    for node in G_t1.nodes():\n",
    "        #check if node is observed\n",
    "        G_t1.nodes[node]['observed'] = G_t2.nodes[node]['observed']\n",
    "        \n",
    "        #check node state\n",
    "        if G_t1.nodes[node]['state'] == 'S':\n",
    "            for neighbor in G_t1.neighbors(node):\n",
    "                if G_t1.nodes[neighbor]['state'] == 'I':\n",
    "                    if random.uniform(0, 1) < infection_rate:\n",
    "                        G_t2.nodes[node]['state'] = 'I'\n",
    "                        break\n",
    "        elif G_t1.nodes[node]['state'] == 'I':\n",
    "            if random.uniform(0, 1) < recovery_rate:\n",
    "                G_t2.nodes[node]['state'] = 'R'\n",
    "            else:\n",
    "                G_t2.nodes[node]['state'] = 'I'\n",
    "        else:\n",
    "            G_t2.nodes[node]['state'] = 'R'\n",
    "        \n",
    "        #update SIR probabilities\n",
    "        G_t2.nodes[node]['SIR_prob'] = G_t1.nodes[node]['SIR_prob']\n",
    "    return G_t2"
   ]
  },
  {
   "cell_type": "code",
   "execution_count": 6,
   "metadata": {},
   "outputs": [],
   "source": [
    "def SurroundInfectionRate(graph, node, infection_rate):\n",
    "    #total infection rate of a node based on the infection rate of its neighbors\n",
    "    neighbors = list(graph.neighbors(node))\n",
    "    result = 0\n",
    "    for neighbor in neighbors:\n",
    "        result += infection_rate * graph.nodes[neighbor]['SIR_prob'][1]\n",
    "    return result"
   ]
  },
  {
   "cell_type": "code",
   "execution_count": 7,
   "metadata": {},
   "outputs": [],
   "source": [
    "def MeanFieldInference(graph_t, graph_t1, infection_rate, recovery_rate):\n",
    "    predicted_state_t1 = {}\n",
    "    for node in graph_t.nodes():\n",
    "        if graph_t.nodes[node]['observed'] == True:\n",
    "            predicted_state_t1[node] = graph_t.nodes[node]['SIR_prob']\n",
    "            continue\n",
    "        factor = SurroundInfectionRate(graph_t, node, infection_rate)\n",
    "        Ps = graph_t.nodes[node]['SIR_prob'][0]*(1-factor)\n",
    "        Pi = (1-recovery_rate)*graph_t.nodes[node]['SIR_prob'][1] + graph_t.nodes[node]['SIR_prob'][0]*factor\n",
    "        Pr = graph_t.nodes[node]['SIR_prob'][2] + recovery_rate*graph_t.nodes[node]['SIR_prob'][1]\n",
    "        predicted_state_t1[node] = [Ps, Pi, Pr]\n",
    "        graph_t1.nodes[node]['SIR_prob'] = [Ps, Pi, Pr]\n",
    "    return predicted_state_t1"
   ]
  },
  {
   "cell_type": "code",
   "execution_count": 8,
   "metadata": {},
   "outputs": [],
   "source": [
    "def BackloopUpdate(temporal_graphs,t ,delta, node, state):\n",
    "    mapper = {'S':[1,0,0], 'I':[0,1,0], 'R':[0,0,1]}\n",
    "    for i in range(t, t-delta-1, -1):\n",
    "        temporal_graphs[i][0].nodes[node]['SIR_prob'] = mapper[state]\n",
    "        temporal_graphs[i][0].nodes[node]['observed'] = True"
   ]
  },
  {
   "cell_type": "code",
   "execution_count": 9,
   "metadata": {},
   "outputs": [],
   "source": [
    "#@param: given a list of nodes that are observed\n",
    "def DetectObserve(obs, temporal_graphs, observe_per_day, t, delta):\n",
    "    list_of_nodes = []\n",
    "    count = 0\n",
    "    for entry in obs:\n",
    "        state = temporal_graphs[t][0].nodes[entry]['state']\n",
    "        obs_state = temporal_graphs[t][0].nodes[entry]['observed']\n",
    "        if obs_state == True:\n",
    "            continue\n",
    "        BackloopUpdate(temporal_graphs, t, delta, entry, state)\n",
    "        if count == observe_per_day:\n",
    "            break\n",
    "        count += 1\n",
    "        list_of_nodes.append(entry)\n",
    "    return list_of_nodes\n",
    "        \n",
    "        "
   ]
  },
  {
   "cell_type": "code",
   "execution_count": 10,
   "metadata": {},
   "outputs": [],
   "source": [
    "def SetRemove(graph, list):\n",
    "    for entry in list:\n",
    "        graph.nodes[entry]['observed'] = True\n",
    "        graph.nodes[entry]['SIR_prob'] = [0,0,1]\n",
    "        graph.nodes[entry]['state'] = 'R'"
   ]
  },
  {
   "cell_type": "code",
   "execution_count": 11,
   "metadata": {},
   "outputs": [],
   "source": [
    "def SIR_count(graph):\n",
    "    S_count = 0\n",
    "    I_count = 0\n",
    "    R_count = 0\n",
    "    for node in graph.nodes():\n",
    "        if graph.nodes[node]['state'] == 'S':\n",
    "            S_count += 1\n",
    "        elif graph.nodes[node]['state'] == 'I':\n",
    "            I_count += 1\n",
    "        elif graph.nodes[node]['state'] == 'R':\n",
    "            R_count += 1\n",
    "    return S_count, I_count, R_count"
   ]
  },
  {
   "cell_type": "code",
   "execution_count": 12,
   "metadata": {},
   "outputs": [],
   "source": [
    "def Sampler(graph, s_count):\n",
    "    nodes = list(graph.nodes())\n",
    "    random.shuffle(nodes)\n",
    "    result = []\n",
    "    count = 0\n",
    "    for i in range(len(nodes)):\n",
    "        if graph.nodes[nodes[i]]['observed']:\n",
    "            result.append(nodes[i])\n",
    "            count += 1\n",
    "        if count == s_count:\n",
    "            break\n",
    "    return result"
   ]
  },
  {
   "cell_type": "code",
   "execution_count": 13,
   "metadata": {},
   "outputs": [],
   "source": [
    "def generate_graphs(node_count, contact_radius, nr_graphs):\n",
    "    que_graphs = queue.Queue()\n",
    "    thread_list = []\n",
    "    for t in range(0, nr_graphs):\n",
    "        thread = threading.Thread(target=initialize_graph, args=(node_count, contact_radius, que_graphs, t, 'geometric'), name='thread'+str(t))\n",
    "        thread.start()\n",
    "        #print('thread'+str(t)+' started')\n",
    "        thread_list.append(thread)\n",
    "    for thread in tqdm(thread_list,desc='Generating Graphs Done'):\n",
    "        #print('thread'+thread.name +' joined')\n",
    "        thread.join()\n",
    "    thread_list = []\n",
    "    temporal_graph_dict = {}\n",
    "    while not que_graphs.empty():\n",
    "        G,custom_pos = que_graphs.get()\n",
    "        temporal_graph_dict[G.graph['time']] = (G, custom_pos)\n",
    "    return temporal_graph_dict"
   ]
  },
  {
   "cell_type": "code",
   "execution_count": 14,
   "metadata": {},
   "outputs": [],
   "source": [
    "#mode = 'MF', 'R', 'None'\n",
    "node_count = 10000\n",
    "infection_rate = 0.05\n",
    "recovery_rate = 0.01\n",
    "contact_radius = 1\n",
    "time_steps = 80\n",
    "temporal_graph_dict = {}\n",
    "observe_per_day = 5\n",
    "t_mf = 5\n",
    "delay = 10\n",
    "mode = 'R'\n",
    "color_map = {'S': 'green', 'I': 'red', 'R': 'blue'}\n",
    "def sim(DataFrame, id, mode, queue = None):\n",
    "    temporal_graph_dict = generate_graphs(node_count, contact_radius, time_steps)\n",
    "    infectRandomNode(temporal_graph_dict[0][0], 1)\n",
    "    graph = temporal_graph_dict[0][0]\n",
    "    S, I, R = SIR_count(graph)\n",
    "    DataFrame.loc[len(DataFrame)] = [id, 0, S, I, R]\n",
    "    #string for description of loop:\n",
    "    desc = 'Simulating (mode: '+mode +')'\n",
    "    for i in tqdm(range(1, time_steps), desc=desc):\n",
    "        graph = update(temporal_graph_dict[i-1][0], temporal_graph_dict[i][0], infection_rate, recovery_rate)\n",
    "        if (mode == 'MF' and i > delay):\n",
    "            pred = MeanFieldInference(temporal_graph_dict[i-1][0], graph, infection_rate, recovery_rate)\n",
    "            sort_pred = sorted(pred.items(), key=lambda x: x[1])\n",
    "            node_list = [node[0] for node in sort_pred]\n",
    "            #print(\"day\", i)\n",
    "            #print(pred)\n",
    "            #print(node_list)\n",
    "            list_remove = DetectObserve(node_list, temporal_graph_dict,observe_per_day,i, t_mf)\n",
    "            SetRemove(temporal_graph_dict[i][0], list_remove)\n",
    "            for time in range(i-t_mf, i):\n",
    "                pred = MeanFieldInference(temporal_graph_dict[time][0], temporal_graph_dict[time+1][0], infection_rate, recovery_rate)\n",
    "        elif (mode == 'R' and i > delay):\n",
    "            sample = Sampler(graph, observe_per_day)\n",
    "            #DetectObserve(sample, temporal_graph_dict, i, t_mf)\n",
    "            SetRemove(temporal_graph_dict[i], sample)\n",
    "        S, I, R = SIR_count(graph)\n",
    "        DataFrame.loc[len(DataFrame)] = [id, i, S, I, R]\n",
    "    if queue != None:\n",
    "        queue.put(DataFrame)\n",
    "    return temporal_graph_dict"
   ]
  },
  {
   "cell_type": "code",
   "execution_count": 15,
   "metadata": {},
   "outputs": [],
   "source": [
    "#Dataframe = pd.DataFrame(columns=['id', 'time', 'S', 'I', 'R'])\n",
    "#tempograph = sim(Dataframe, 1, 'MF')\n",
    "#for x in range(100):\n",
    "    #sim(Dataframe, x, mode)"
   ]
  },
  {
   "cell_type": "code",
   "execution_count": 16,
   "metadata": {},
   "outputs": [
    {
     "data": {
      "application/vnd.jupyter.widget-view+json": {
       "model_id": "8494e357111649f78d694028d0781b50",
       "version_major": 2,
       "version_minor": 0
      },
      "text/plain": [
       "Simulating Main (mode: R):   0%|          | 0/100 [00:00<?, ?it/s]"
      ]
     },
     "metadata": {},
     "output_type": "display_data"
    },
    {
     "data": {
      "application/vnd.jupyter.widget-view+json": {
       "model_id": "08591fb978cf460ab37f38907ca74a13",
       "version_major": 2,
       "version_minor": 0
      },
      "text/plain": [
       "Generating Graphs Done:   0%|          | 0/80 [00:34<?, ?it/s]"
      ]
     },
     "metadata": {},
     "output_type": "display_data"
    },
    {
     "data": {
      "application/vnd.jupyter.widget-view+json": {
       "model_id": "6247e42db6364d32810fa10f833bd711",
       "version_major": 2,
       "version_minor": 0
      },
      "text/plain": [
       "Generating Graphs Done:   0%|          | 0/80 [00:04<?, ?it/s]"
      ]
     },
     "metadata": {},
     "output_type": "display_data"
    },
    {
     "data": {
      "application/vnd.jupyter.widget-view+json": {
       "model_id": "700d297ba8e94a6196c4f99da2879989",
       "version_major": 2,
       "version_minor": 0
      },
      "text/plain": [
       "Generating Graphs Done:   0%|          | 0/80 [00:14<?, ?it/s]"
      ]
     },
     "metadata": {},
     "output_type": "display_data"
    },
    {
     "data": {
      "application/vnd.jupyter.widget-view+json": {
       "model_id": "5a33811dccba4428a57557bd74602862",
       "version_major": 2,
       "version_minor": 0
      },
      "text/plain": [
       "Generating Graphs Done:   0%|          | 0/80 [00:40<?, ?it/s]"
      ]
     },
     "metadata": {},
     "output_type": "display_data"
    },
    {
     "data": {
      "application/vnd.jupyter.widget-view+json": {
       "model_id": "448a91c6622f45449346cb058ba730cf",
       "version_major": 2,
       "version_minor": 0
      },
      "text/plain": [
       "Generating Graphs Done:   0%|          | 0/80 [00:51<?, ?it/s]"
      ]
     },
     "metadata": {},
     "output_type": "display_data"
    },
    {
     "data": {
      "application/vnd.jupyter.widget-view+json": {
       "model_id": "a7a84ccf6e0943449d4bf225cf3afdef",
       "version_major": 2,
       "version_minor": 0
      },
      "text/plain": [
       "Generating Graphs Done:   0%|          | 0/80 [00:01<?, ?it/s]"
      ]
     },
     "metadata": {},
     "output_type": "display_data"
    },
    {
     "data": {
      "application/vnd.jupyter.widget-view+json": {
       "model_id": "4f5883d6778d497798e03517e3288323",
       "version_major": 2,
       "version_minor": 0
      },
      "text/plain": [
       "Generating Graphs Done:   0%|          | 0/80 [00:05<?, ?it/s]"
      ]
     },
     "metadata": {},
     "output_type": "display_data"
    },
    {
     "data": {
      "application/vnd.jupyter.widget-view+json": {
       "model_id": "269b3774241f4b7e8fe3e4853902739a",
       "version_major": 2,
       "version_minor": 0
      },
      "text/plain": [
       "Generating Graphs Done:   0%|          | 0/80 [00:01<?, ?it/s]"
      ]
     },
     "metadata": {},
     "output_type": "display_data"
    },
    {
     "data": {
      "application/vnd.jupyter.widget-view+json": {
       "model_id": "0427ca828b1146dc86364d3fa2d9d5ab",
       "version_major": 2,
       "version_minor": 0
      },
      "text/plain": [
       "Generating Graphs Done:   0%|          | 0/80 [00:01<?, ?it/s]"
      ]
     },
     "metadata": {},
     "output_type": "display_data"
    },
    {
     "data": {
      "application/vnd.jupyter.widget-view+json": {
       "model_id": "3d5db0d1754347c5966f9b4637bbec37",
       "version_major": 2,
       "version_minor": 0
      },
      "text/plain": [
       "Generating Graphs Done:   0%|          | 0/80 [00:08<?, ?it/s]"
      ]
     },
     "metadata": {},
     "output_type": "display_data"
    },
    {
     "data": {
      "application/vnd.jupyter.widget-view+json": {
       "model_id": "fffe404867ac4cc8bdda424dd10a41b2",
       "version_major": 2,
       "version_minor": 0
      },
      "text/plain": [
       "Generating Graphs Done:   0%|          | 0/80 [00:08<?, ?it/s]"
      ]
     },
     "metadata": {},
     "output_type": "display_data"
    },
    {
     "data": {
      "application/vnd.jupyter.widget-view+json": {
       "model_id": "67c055fa1e1244dab88be7ff538b8053",
       "version_major": 2,
       "version_minor": 0
      },
      "text/plain": [
       "Generating Graphs Done:   0%|          | 0/80 [00:06<?, ?it/s]"
      ]
     },
     "metadata": {},
     "output_type": "display_data"
    },
    {
     "data": {
      "application/vnd.jupyter.widget-view+json": {
       "model_id": "a1b511c7732248b98cec7976bae52adf",
       "version_major": 2,
       "version_minor": 0
      },
      "text/plain": [
       "Generating Graphs Done:   0%|          | 0/80 [00:30<?, ?it/s]"
      ]
     },
     "metadata": {},
     "output_type": "display_data"
    },
    {
     "data": {
      "application/vnd.jupyter.widget-view+json": {
       "model_id": "ba91dfd3d3fe4a85b7a6c3dfdd111a0e",
       "version_major": 2,
       "version_minor": 0
      },
      "text/plain": [
       "Generating Graphs Done:   0%|          | 0/80 [00:01<?, ?it/s]"
      ]
     },
     "metadata": {},
     "output_type": "display_data"
    },
    {
     "data": {
      "application/vnd.jupyter.widget-view+json": {
       "model_id": "7696bf52c05943288fdebc33c4f363b9",
       "version_major": 2,
       "version_minor": 0
      },
      "text/plain": [
       "Generating Graphs Done:   0%|          | 0/80 [00:29<?, ?it/s]"
      ]
     },
     "metadata": {},
     "output_type": "display_data"
    },
    {
     "data": {
      "application/vnd.jupyter.widget-view+json": {
       "model_id": "6486649213d54f81818c8fa22904cb4a",
       "version_major": 2,
       "version_minor": 0
      },
      "text/plain": [
       "Generating Graphs Done:   0%|          | 0/80 [00:38<?, ?it/s]"
      ]
     },
     "metadata": {},
     "output_type": "display_data"
    },
    {
     "data": {
      "application/vnd.jupyter.widget-view+json": {
       "model_id": "a49afa083cf244e8bdeb90605ea6b69d",
       "version_major": 2,
       "version_minor": 0
      },
      "text/plain": [
       "Generating Graphs Done:   0%|          | 0/80 [00:16<?, ?it/s]"
      ]
     },
     "metadata": {},
     "output_type": "display_data"
    },
    {
     "data": {
      "application/vnd.jupyter.widget-view+json": {
       "model_id": "adbab8a832e2427f960ad09eeca5ed7f",
       "version_major": 2,
       "version_minor": 0
      },
      "text/plain": [
       "Generating Graphs Done:   0%|          | 0/80 [00:13<?, ?it/s]"
      ]
     },
     "metadata": {},
     "output_type": "display_data"
    },
    {
     "data": {
      "application/vnd.jupyter.widget-view+json": {
       "model_id": "b2275c4cd3c54ca7aebdae7ebbb3adca",
       "version_major": 2,
       "version_minor": 0
      },
      "text/plain": [
       "Generating Graphs Done:   0%|          | 0/80 [00:06<?, ?it/s]"
      ]
     },
     "metadata": {},
     "output_type": "display_data"
    },
    {
     "data": {
      "application/vnd.jupyter.widget-view+json": {
       "model_id": "1baf3af8079a441d87d7d557daf5f8c2",
       "version_major": 2,
       "version_minor": 0
      },
      "text/plain": [
       "Generating Graphs Done:   0%|          | 0/80 [00:30<?, ?it/s]"
      ]
     },
     "metadata": {},
     "output_type": "display_data"
    },
    {
     "name": "stderr",
     "output_type": "stream",
     "text": [
      "C:\\Users\\Frank\\AppData\\Local\\Temp\\ipykernel_23304\\3500474817.py:3: DeprecationWarning: Sampling from a set deprecated\n",
      "since Python 3.9 and will be removed in a subsequent version.\n",
      "  sample = random.sample(G.nodes(), G.number_of_nodes())\n"
     ]
    },
    {
     "data": {
      "application/vnd.jupyter.widget-view+json": {
       "model_id": "8a641a69516e43cda0ad19e674f25c4a",
       "version_major": 2,
       "version_minor": 0
      },
      "text/plain": [
       "Simulating (mode: R):   0%|          | 0/79 [00:00<?, ?it/s]"
      ]
     },
     "metadata": {},
     "output_type": "display_data"
    },
    {
     "data": {
      "application/vnd.jupyter.widget-view+json": {
       "model_id": "e32f94bc4b984e4da4075dc4fb1640b6",
       "version_major": 2,
       "version_minor": 0
      },
      "text/plain": [
       "Simulating (mode: R):   0%|          | 0/79 [00:00<?, ?it/s]"
      ]
     },
     "metadata": {},
     "output_type": "display_data"
    },
    {
     "data": {
      "application/vnd.jupyter.widget-view+json": {
       "model_id": "cdc3dc0f0f6746efb1ac3c8fdbf862e0",
       "version_major": 2,
       "version_minor": 0
      },
      "text/plain": [
       "Simulating (mode: R):   0%|          | 0/79 [00:07<?, ?it/s]"
      ]
     },
     "metadata": {},
     "output_type": "display_data"
    },
    {
     "data": {
      "application/vnd.jupyter.widget-view+json": {
       "model_id": "5e7397ab90d94f589df846c1d1ea766a",
       "version_major": 2,
       "version_minor": 0
      },
      "text/plain": [
       "Simulating (mode: R):   0%|          | 0/79 [00:16<?, ?it/s]"
      ]
     },
     "metadata": {},
     "output_type": "display_data"
    },
    {
     "data": {
      "application/vnd.jupyter.widget-view+json": {
       "model_id": "6c4fdc8fd91f4859beab5418be34f455",
       "version_major": 2,
       "version_minor": 0
      },
      "text/plain": [
       "Simulating (mode: R):   0%|          | 0/79 [00:18<?, ?it/s]"
      ]
     },
     "metadata": {},
     "output_type": "display_data"
    },
    {
     "data": {
      "application/vnd.jupyter.widget-view+json": {
       "model_id": "952c7ac44b9a46588a49e4e5ed9fe699",
       "version_major": 2,
       "version_minor": 0
      },
      "text/plain": [
       "Simulating (mode: R):   0%|          | 0/79 [00:28<?, ?it/s]"
      ]
     },
     "metadata": {},
     "output_type": "display_data"
    },
    {
     "data": {
      "application/vnd.jupyter.widget-view+json": {
       "model_id": "c6af736c7f134f26a0e60c59b64f2e0e",
       "version_major": 2,
       "version_minor": 0
      },
      "text/plain": [
       "Simulating (mode: R):   0%|          | 0/79 [00:32<?, ?it/s]"
      ]
     },
     "metadata": {},
     "output_type": "display_data"
    },
    {
     "data": {
      "application/vnd.jupyter.widget-view+json": {
       "model_id": "71d285769e3e499391225112072f8d11",
       "version_major": 2,
       "version_minor": 0
      },
      "text/plain": [
       "Simulating (mode: R):   0%|          | 0/79 [00:35<?, ?it/s]"
      ]
     },
     "metadata": {},
     "output_type": "display_data"
    },
    {
     "data": {
      "application/vnd.jupyter.widget-view+json": {
       "model_id": "d5e6d2511b1147b99cec3f11d0b53a52",
       "version_major": 2,
       "version_minor": 0
      },
      "text/plain": [
       "Simulating (mode: R):   0%|          | 0/79 [00:36<?, ?it/s]"
      ]
     },
     "metadata": {},
     "output_type": "display_data"
    },
    {
     "data": {
      "application/vnd.jupyter.widget-view+json": {
       "model_id": "eb7b8032a7a94180b4b81b5310d00caf",
       "version_major": 2,
       "version_minor": 0
      },
      "text/plain": [
       "Simulating (mode: R):   0%|          | 0/79 [00:40<?, ?it/s]"
      ]
     },
     "metadata": {},
     "output_type": "display_data"
    },
    {
     "data": {
      "application/vnd.jupyter.widget-view+json": {
       "model_id": "a4f0be24b3ac4608ad828620d36b4c73",
       "version_major": 2,
       "version_minor": 0
      },
      "text/plain": [
       "Simulating (mode: R):   0%|          | 0/79 [00:40<?, ?it/s]"
      ]
     },
     "metadata": {},
     "output_type": "display_data"
    },
    {
     "data": {
      "application/vnd.jupyter.widget-view+json": {
       "model_id": "ca2b5c59b1a847e29ee37c31a5c9a44c",
       "version_major": 2,
       "version_minor": 0
      },
      "text/plain": [
       "Simulating (mode: R):   0%|          | 0/79 [00:40<?, ?it/s]"
      ]
     },
     "metadata": {},
     "output_type": "display_data"
    },
    {
     "data": {
      "application/vnd.jupyter.widget-view+json": {
       "model_id": "21f26085086d4717b417c3d7efb04b4c",
       "version_major": 2,
       "version_minor": 0
      },
      "text/plain": [
       "Simulating (mode: R):   0%|          | 0/79 [00:45<?, ?it/s]"
      ]
     },
     "metadata": {},
     "output_type": "display_data"
    },
    {
     "data": {
      "application/vnd.jupyter.widget-view+json": {
       "model_id": "41f73cfef1bb4166af11dd6a33ae9ee8",
       "version_major": 2,
       "version_minor": 0
      },
      "text/plain": [
       "Simulating (mode: R):   0%|          | 0/79 [00:47<?, ?it/s]"
      ]
     },
     "metadata": {},
     "output_type": "display_data"
    },
    {
     "data": {
      "application/vnd.jupyter.widget-view+json": {
       "model_id": "7924bd078c084192a931cd1a0052b4f1",
       "version_major": 2,
       "version_minor": 0
      },
      "text/plain": [
       "Simulating (mode: R):   0%|          | 0/79 [00:53<?, ?it/s]"
      ]
     },
     "metadata": {},
     "output_type": "display_data"
    },
    {
     "data": {
      "application/vnd.jupyter.widget-view+json": {
       "model_id": "d36aac971ba447caa7dc5aa63176fdfc",
       "version_major": 2,
       "version_minor": 0
      },
      "text/plain": [
       "Simulating (mode: R):   0%|          | 0/79 [00:55<?, ?it/s]"
      ]
     },
     "metadata": {},
     "output_type": "display_data"
    },
    {
     "data": {
      "application/vnd.jupyter.widget-view+json": {
       "model_id": "57d45e9fdb554558a9815f2ec17aa25b",
       "version_major": 2,
       "version_minor": 0
      },
      "text/plain": [
       "Simulating (mode: R):   0%|          | 0/79 [00:55<?, ?it/s]"
      ]
     },
     "metadata": {},
     "output_type": "display_data"
    },
    {
     "data": {
      "application/vnd.jupyter.widget-view+json": {
       "model_id": "01dc15dc6909407bacf1fc833dccfa3a",
       "version_major": 2,
       "version_minor": 0
      },
      "text/plain": [
       "Simulating (mode: R):   0%|          | 0/79 [01:03<?, ?it/s]"
      ]
     },
     "metadata": {},
     "output_type": "display_data"
    },
    {
     "data": {
      "application/vnd.jupyter.widget-view+json": {
       "model_id": "abad6d331e9d4d06b8702722a3f046f6",
       "version_major": 2,
       "version_minor": 0
      },
      "text/plain": [
       "Simulating (mode: R):   0%|          | 0/79 [01:10<?, ?it/s]"
      ]
     },
     "metadata": {},
     "output_type": "display_data"
    },
    {
     "data": {
      "application/vnd.jupyter.widget-view+json": {
       "model_id": "e38da418935146278191e63d9a02a9c5",
       "version_major": 2,
       "version_minor": 0
      },
      "text/plain": [
       "Simulating (mode: R):   0%|          | 0/79 [01:11<?, ?it/s]"
      ]
     },
     "metadata": {},
     "output_type": "display_data"
    },
    {
     "data": {
      "application/vnd.jupyter.widget-view+json": {
       "model_id": "e390bccb276d4905943b1ece2c8ed5aa",
       "version_major": 2,
       "version_minor": 0
      },
      "text/plain": [
       "Generating Graphs Done:   0%|          | 0/80 [01:32<?, ?it/s]"
      ]
     },
     "metadata": {},
     "output_type": "display_data"
    },
    {
     "data": {
      "application/vnd.jupyter.widget-view+json": {
       "model_id": "dd48ba0fed474b72a496531bc6e5ba96",
       "version_major": 2,
       "version_minor": 0
      },
      "text/plain": [
       "Generating Graphs Done:   0%|          | 0/80 [01:41<?, ?it/s]"
      ]
     },
     "metadata": {},
     "output_type": "display_data"
    },
    {
     "data": {
      "application/vnd.jupyter.widget-view+json": {
       "model_id": "867ad03e8f714e8e9146521bf1857917",
       "version_major": 2,
       "version_minor": 0
      },
      "text/plain": [
       "Generating Graphs Done:   0%|          | 0/80 [02:15<?, ?it/s]"
      ]
     },
     "metadata": {},
     "output_type": "display_data"
    },
    {
     "name": "stderr",
     "output_type": "stream",
     "text": [
      "C:\\Users\\Frank\\AppData\\Local\\Temp\\ipykernel_23304\\3500474817.py:3: DeprecationWarning: Sampling from a set deprecated\n",
      "since Python 3.9 and will be removed in a subsequent version.\n",
      "  sample = random.sample(G.nodes(), G.number_of_nodes())\n"
     ]
    },
    {
     "data": {
      "application/vnd.jupyter.widget-view+json": {
       "model_id": "d0bad1cb4d92417285507dfae993bf49",
       "version_major": 2,
       "version_minor": 0
      },
      "text/plain": [
       "Generating Graphs Done:   0%|          | 0/80 [00:52<?, ?it/s]"
      ]
     },
     "metadata": {},
     "output_type": "display_data"
    },
    {
     "data": {
      "application/vnd.jupyter.widget-view+json": {
       "model_id": "823540ef5654430a805843eb0a3937ad",
       "version_major": 2,
       "version_minor": 0
      },
      "text/plain": [
       "Generating Graphs Done:   0%|          | 0/80 [00:23<?, ?it/s]"
      ]
     },
     "metadata": {},
     "output_type": "display_data"
    },
    {
     "data": {
      "application/vnd.jupyter.widget-view+json": {
       "model_id": "d1f6d2a02c2d4500af38a35ddbbc3ea5",
       "version_major": 2,
       "version_minor": 0
      },
      "text/plain": [
       "Generating Graphs Done:   0%|          | 0/80 [04:37<?, ?it/s]"
      ]
     },
     "metadata": {},
     "output_type": "display_data"
    },
    {
     "data": {
      "application/vnd.jupyter.widget-view+json": {
       "model_id": "a94fb770f7e04bf0816b854a0847c18e",
       "version_major": 2,
       "version_minor": 0
      },
      "text/plain": [
       "Generating Graphs Done:   0%|          | 0/80 [00:03<?, ?it/s]"
      ]
     },
     "metadata": {},
     "output_type": "display_data"
    },
    {
     "data": {
      "application/vnd.jupyter.widget-view+json": {
       "model_id": "75e271e43c1043c0b9898825f157bca0",
       "version_major": 2,
       "version_minor": 0
      },
      "text/plain": [
       "Simulating (mode: R):   0%|          | 0/79 [00:00<?, ?it/s]"
      ]
     },
     "metadata": {},
     "output_type": "display_data"
    },
    {
     "data": {
      "application/vnd.jupyter.widget-view+json": {
       "model_id": "4541b87b4fcc45ac832bbea62dc021bd",
       "version_major": 2,
       "version_minor": 0
      },
      "text/plain": [
       "Generating Graphs Done:   0%|          | 0/80 [01:08<?, ?it/s]"
      ]
     },
     "metadata": {},
     "output_type": "display_data"
    },
    {
     "data": {
      "application/vnd.jupyter.widget-view+json": {
       "model_id": "e41cb168991c45689099fbb0c3b71eb8",
       "version_major": 2,
       "version_minor": 0
      },
      "text/plain": [
       "Generating Graphs Done:   0%|          | 0/80 [00:55<?, ?it/s]"
      ]
     },
     "metadata": {},
     "output_type": "display_data"
    },
    {
     "data": {
      "application/vnd.jupyter.widget-view+json": {
       "model_id": "4ee03be1b5db49b1b837794d4c3eb940",
       "version_major": 2,
       "version_minor": 0
      },
      "text/plain": [
       "Generating Graphs Done:   0%|          | 0/80 [00:00<?, ?it/s]"
      ]
     },
     "metadata": {},
     "output_type": "display_data"
    },
    {
     "data": {
      "application/vnd.jupyter.widget-view+json": {
       "model_id": "60a7c8d4b93b4d6e8927733b7e12fe78",
       "version_major": 2,
       "version_minor": 0
      },
      "text/plain": [
       "Generating Graphs Done:   0%|          | 0/80 [00:11<?, ?it/s]"
      ]
     },
     "metadata": {},
     "output_type": "display_data"
    },
    {
     "data": {
      "application/vnd.jupyter.widget-view+json": {
       "model_id": "97ff59801da3468590a2461b20902d4d",
       "version_major": 2,
       "version_minor": 0
      },
      "text/plain": [
       "Simulating (mode: R):   0%|          | 0/79 [00:01<?, ?it/s]"
      ]
     },
     "metadata": {},
     "output_type": "display_data"
    },
    {
     "name": "stderr",
     "output_type": "stream",
     "text": [
      "C:\\Users\\Frank\\AppData\\Local\\Temp\\ipykernel_23304\\3500474817.py:3: DeprecationWarning: Sampling from a set deprecated\n",
      "since Python 3.9 and will be removed in a subsequent version.\n",
      "  sample = random.sample(G.nodes(), G.number_of_nodes())\n"
     ]
    },
    {
     "data": {
      "application/vnd.jupyter.widget-view+json": {
       "model_id": "80cb9be568f5416396015c5456912210",
       "version_major": 2,
       "version_minor": 0
      },
      "text/plain": [
       "Generating Graphs Done:   0%|          | 0/80 [03:14<?, ?it/s]"
      ]
     },
     "metadata": {},
     "output_type": "display_data"
    },
    {
     "name": "stderr",
     "output_type": "stream",
     "text": [
      "C:\\Users\\Frank\\AppData\\Local\\Temp\\ipykernel_23304\\3500474817.py:3: DeprecationWarning: Sampling from a set deprecated\n",
      "since Python 3.9 and will be removed in a subsequent version.\n",
      "  sample = random.sample(G.nodes(), G.number_of_nodes())\n",
      "C:\\Users\\Frank\\AppData\\Local\\Temp\\ipykernel_23304\\3500474817.py:3: DeprecationWarning: Sampling from a set deprecated\n",
      "since Python 3.9 and will be removed in a subsequent version.\n",
      "  sample = random.sample(G.nodes(), G.number_of_nodes())\n",
      "C:\\Users\\Frank\\AppData\\Local\\Temp\\ipykernel_23304\\3500474817.py:3: DeprecationWarning: Sampling from a set deprecated\n",
      "since Python 3.9 and will be removed in a subsequent version.\n",
      "  sample = random.sample(G.nodes(), G.number_of_nodes())\n"
     ]
    },
    {
     "data": {
      "application/vnd.jupyter.widget-view+json": {
       "model_id": "a0570c4a8863442798315e79b13c2d55",
       "version_major": 2,
       "version_minor": 0
      },
      "text/plain": [
       "Simulating (mode: R):   0%|          | 0/79 [00:03<?, ?it/s]"
      ]
     },
     "metadata": {},
     "output_type": "display_data"
    },
    {
     "data": {
      "application/vnd.jupyter.widget-view+json": {
       "model_id": "36fa4060c5af4e2c8444334361f5820d",
       "version_major": 2,
       "version_minor": 0
      },
      "text/plain": [
       "Generating Graphs Done:   0%|          | 0/80 [04:42<?, ?it/s]"
      ]
     },
     "metadata": {},
     "output_type": "display_data"
    },
    {
     "name": "stderr",
     "output_type": "stream",
     "text": [
      "C:\\Users\\Frank\\AppData\\Local\\Temp\\ipykernel_23304\\3500474817.py:3: DeprecationWarning: Sampling from a set deprecated\n",
      "since Python 3.9 and will be removed in a subsequent version.\n",
      "  sample = random.sample(G.nodes(), G.number_of_nodes())\n"
     ]
    },
    {
     "data": {
      "application/vnd.jupyter.widget-view+json": {
       "model_id": "582267f9688046b880638ea018c36ae9",
       "version_major": 2,
       "version_minor": 0
      },
      "text/plain": [
       "Generating Graphs Done:   0%|          | 0/80 [00:25<?, ?it/s]"
      ]
     },
     "metadata": {},
     "output_type": "display_data"
    },
    {
     "data": {
      "application/vnd.jupyter.widget-view+json": {
       "model_id": "2a74550a60264d80a561b7e98c46f5a2",
       "version_major": 2,
       "version_minor": 0
      },
      "text/plain": [
       "Generating Graphs Done:   0%|          | 0/80 [04:44<?, ?it/s]"
      ]
     },
     "metadata": {},
     "output_type": "display_data"
    },
    {
     "name": "stderr",
     "output_type": "stream",
     "text": [
      "C:\\Users\\Frank\\AppData\\Local\\Temp\\ipykernel_23304\\3500474817.py:3: DeprecationWarning: Sampling from a set deprecated\n",
      "since Python 3.9 and will be removed in a subsequent version.\n",
      "  sample = random.sample(G.nodes(), G.number_of_nodes())\n"
     ]
    },
    {
     "data": {
      "application/vnd.jupyter.widget-view+json": {
       "model_id": "5ecd8b90a9184830a964be6081a527a5",
       "version_major": 2,
       "version_minor": 0
      },
      "text/plain": [
       "Generating Graphs Done:   0%|          | 0/80 [00:09<?, ?it/s]"
      ]
     },
     "metadata": {},
     "output_type": "display_data"
    },
    {
     "name": "stderr",
     "output_type": "stream",
     "text": [
      "C:\\Users\\Frank\\AppData\\Local\\Temp\\ipykernel_23304\\3500474817.py:3: DeprecationWarning: Sampling from a set deprecated\n",
      "since Python 3.9 and will be removed in a subsequent version.\n",
      "  sample = random.sample(G.nodes(), G.number_of_nodes())\n",
      "C:\\Users\\Frank\\AppData\\Local\\Temp\\ipykernel_23304\\3500474817.py:3: DeprecationWarning: Sampling from a set deprecated\n",
      "since Python 3.9 and will be removed in a subsequent version.\n",
      "  sample = random.sample(G.nodes(), G.number_of_nodes())\n"
     ]
    },
    {
     "data": {
      "application/vnd.jupyter.widget-view+json": {
       "model_id": "730cde0c911748598aec994f87f63232",
       "version_major": 2,
       "version_minor": 0
      },
      "text/plain": [
       "Generating Graphs Done:   0%|          | 0/80 [01:36<?, ?it/s]"
      ]
     },
     "metadata": {},
     "output_type": "display_data"
    },
    {
     "name": "stderr",
     "output_type": "stream",
     "text": [
      "C:\\Users\\Frank\\AppData\\Local\\Temp\\ipykernel_23304\\3500474817.py:3: DeprecationWarning: Sampling from a set deprecated\n",
      "since Python 3.9 and will be removed in a subsequent version.\n",
      "  sample = random.sample(G.nodes(), G.number_of_nodes())\n"
     ]
    },
    {
     "data": {
      "application/vnd.jupyter.widget-view+json": {
       "model_id": "5ceeab03aca74b72bae36a207598fc7b",
       "version_major": 2,
       "version_minor": 0
      },
      "text/plain": [
       "Simulating (mode: R):   0%|          | 0/79 [01:06<?, ?it/s]"
      ]
     },
     "metadata": {},
     "output_type": "display_data"
    },
    {
     "data": {
      "application/vnd.jupyter.widget-view+json": {
       "model_id": "d85d9f74d592420ea4a37b46638c0b89",
       "version_major": 2,
       "version_minor": 0
      },
      "text/plain": [
       "Simulating (mode: R):   0%|          | 0/79 [01:41<?, ?it/s]"
      ]
     },
     "metadata": {},
     "output_type": "display_data"
    },
    {
     "data": {
      "application/vnd.jupyter.widget-view+json": {
       "model_id": "5a4bfc68d28f4705b91c485fc7723ef5",
       "version_major": 2,
       "version_minor": 0
      },
      "text/plain": [
       "Simulating (mode: R):   0%|          | 0/79 [01:48<?, ?it/s]"
      ]
     },
     "metadata": {},
     "output_type": "display_data"
    },
    {
     "data": {
      "application/vnd.jupyter.widget-view+json": {
       "model_id": "1ae25a1ed74347109f7a7bd339639ab0",
       "version_major": 2,
       "version_minor": 0
      },
      "text/plain": [
       "Simulating (mode: R):   0%|          | 0/79 [01:49<?, ?it/s]"
      ]
     },
     "metadata": {},
     "output_type": "display_data"
    },
    {
     "data": {
      "application/vnd.jupyter.widget-view+json": {
       "model_id": "202b770aa16a4b7db0bfdf22096ca195",
       "version_major": 2,
       "version_minor": 0
      },
      "text/plain": [
       "Generating Graphs Done:   0%|          | 0/80 [00:20<?, ?it/s]"
      ]
     },
     "metadata": {},
     "output_type": "display_data"
    },
    {
     "name": "stderr",
     "output_type": "stream",
     "text": [
      "C:\\Users\\Frank\\AppData\\Local\\Temp\\ipykernel_23304\\3500474817.py:3: DeprecationWarning: Sampling from a set deprecated\n",
      "since Python 3.9 and will be removed in a subsequent version.\n",
      "  sample = random.sample(G.nodes(), G.number_of_nodes())\n"
     ]
    },
    {
     "data": {
      "application/vnd.jupyter.widget-view+json": {
       "model_id": "e85fda326bf4431e841431c688b56568",
       "version_major": 2,
       "version_minor": 0
      },
      "text/plain": [
       "Simulating (mode: R):   0%|          | 0/79 [01:55<?, ?it/s]"
      ]
     },
     "metadata": {},
     "output_type": "display_data"
    },
    {
     "data": {
      "application/vnd.jupyter.widget-view+json": {
       "model_id": "034403cec4e347899bd313bb8e2b733b",
       "version_major": 2,
       "version_minor": 0
      },
      "text/plain": [
       "Generating Graphs Done:   0%|          | 0/80 [02:20<?, ?it/s]"
      ]
     },
     "metadata": {},
     "output_type": "display_data"
    },
    {
     "name": "stderr",
     "output_type": "stream",
     "text": [
      "C:\\Users\\Frank\\AppData\\Local\\Temp\\ipykernel_23304\\3500474817.py:3: DeprecationWarning: Sampling from a set deprecated\n",
      "since Python 3.9 and will be removed in a subsequent version.\n",
      "  sample = random.sample(G.nodes(), G.number_of_nodes())\n"
     ]
    },
    {
     "data": {
      "application/vnd.jupyter.widget-view+json": {
       "model_id": "a85a89094f82430e8a48649049e1cba7",
       "version_major": 2,
       "version_minor": 0
      },
      "text/plain": [
       "Simulating (mode: R):   0%|          | 0/79 [01:56<?, ?it/s]"
      ]
     },
     "metadata": {},
     "output_type": "display_data"
    },
    {
     "data": {
      "application/vnd.jupyter.widget-view+json": {
       "model_id": "206da67209c44d98b03ee41a9bdb7985",
       "version_major": 2,
       "version_minor": 0
      },
      "text/plain": [
       "Generating Graphs Done:   0%|          | 0/80 [00:33<?, ?it/s]"
      ]
     },
     "metadata": {},
     "output_type": "display_data"
    },
    {
     "name": "stderr",
     "output_type": "stream",
     "text": [
      "C:\\Users\\Frank\\AppData\\Local\\Temp\\ipykernel_23304\\3500474817.py:3: DeprecationWarning: Sampling from a set deprecated\n",
      "since Python 3.9 and will be removed in a subsequent version.\n",
      "  sample = random.sample(G.nodes(), G.number_of_nodes())\n"
     ]
    },
    {
     "data": {
      "application/vnd.jupyter.widget-view+json": {
       "model_id": "f19f51f99ba449c698aca8cae64640ba",
       "version_major": 2,
       "version_minor": 0
      },
      "text/plain": [
       "Generating Graphs Done:   0%|          | 0/80 [00:42<?, ?it/s]"
      ]
     },
     "metadata": {},
     "output_type": "display_data"
    },
    {
     "name": "stderr",
     "output_type": "stream",
     "text": [
      "C:\\Users\\Frank\\AppData\\Local\\Temp\\ipykernel_23304\\3500474817.py:3: DeprecationWarning: Sampling from a set deprecated\n",
      "since Python 3.9 and will be removed in a subsequent version.\n",
      "  sample = random.sample(G.nodes(), G.number_of_nodes())\n"
     ]
    },
    {
     "data": {
      "application/vnd.jupyter.widget-view+json": {
       "model_id": "41d0202a6d6546efba9aee9b6e63ad60",
       "version_major": 2,
       "version_minor": 0
      },
      "text/plain": [
       "Generating Graphs Done:   0%|          | 0/80 [05:28<?, ?it/s]"
      ]
     },
     "metadata": {},
     "output_type": "display_data"
    },
    {
     "data": {
      "application/vnd.jupyter.widget-view+json": {
       "model_id": "cf5a8167844b47db8b6a1bb4244102f1",
       "version_major": 2,
       "version_minor": 0
      },
      "text/plain": [
       "Simulating (mode: R):   0%|          | 0/79 [01:51<?, ?it/s]"
      ]
     },
     "metadata": {},
     "output_type": "display_data"
    },
    {
     "data": {
      "application/vnd.jupyter.widget-view+json": {
       "model_id": "4e97e16cf5724160808b247cf1d3b860",
       "version_major": 2,
       "version_minor": 0
      },
      "text/plain": [
       "Simulating (mode: R):   0%|          | 0/79 [01:55<?, ?it/s]"
      ]
     },
     "metadata": {},
     "output_type": "display_data"
    },
    {
     "data": {
      "application/vnd.jupyter.widget-view+json": {
       "model_id": "a1079311679c459b97ab39fe1535b6b0",
       "version_major": 2,
       "version_minor": 0
      },
      "text/plain": [
       "Simulating (mode: R):   0%|          | 0/79 [01:50<?, ?it/s]"
      ]
     },
     "metadata": {},
     "output_type": "display_data"
    },
    {
     "name": "stderr",
     "output_type": "stream",
     "text": [
      "C:\\Users\\Frank\\AppData\\Local\\Temp\\ipykernel_23304\\3500474817.py:3: DeprecationWarning: Sampling from a set deprecated\n",
      "since Python 3.9 and will be removed in a subsequent version.\n",
      "  sample = random.sample(G.nodes(), G.number_of_nodes())\n"
     ]
    },
    {
     "data": {
      "application/vnd.jupyter.widget-view+json": {
       "model_id": "8cfbd0e542324b708360cab3b93c3600",
       "version_major": 2,
       "version_minor": 0
      },
      "text/plain": [
       "Generating Graphs Done:   0%|          | 0/80 [02:17<?, ?it/s]"
      ]
     },
     "metadata": {},
     "output_type": "display_data"
    },
    {
     "data": {
      "application/vnd.jupyter.widget-view+json": {
       "model_id": "0961d76af2274f9b9b6fa70abb2c0610",
       "version_major": 2,
       "version_minor": 0
      },
      "text/plain": [
       "Simulating (mode: R):   0%|          | 0/79 [02:11<?, ?it/s]"
      ]
     },
     "metadata": {},
     "output_type": "display_data"
    },
    {
     "data": {
      "application/vnd.jupyter.widget-view+json": {
       "model_id": "601d55def55943139be1fd44b4b97d40",
       "version_major": 2,
       "version_minor": 0
      },
      "text/plain": [
       "Simulating (mode: R):   0%|          | 0/79 [02:14<?, ?it/s]"
      ]
     },
     "metadata": {},
     "output_type": "display_data"
    },
    {
     "data": {
      "application/vnd.jupyter.widget-view+json": {
       "model_id": "1b4017fa38d6444c9246b5e58d1e7ff6",
       "version_major": 2,
       "version_minor": 0
      },
      "text/plain": [
       "Simulating (mode: R):   0%|          | 0/79 [02:36<?, ?it/s]"
      ]
     },
     "metadata": {},
     "output_type": "display_data"
    },
    {
     "data": {
      "application/vnd.jupyter.widget-view+json": {
       "model_id": "94b309963ccf4b83a88e02fed71d98ed",
       "version_major": 2,
       "version_minor": 0
      },
      "text/plain": [
       "Simulating (mode: R):   0%|          | 0/79 [00:31<?, ?it/s]"
      ]
     },
     "metadata": {},
     "output_type": "display_data"
    },
    {
     "data": {
      "application/vnd.jupyter.widget-view+json": {
       "model_id": "f945c3c78c8e435dbd108710d79f9a4b",
       "version_major": 2,
       "version_minor": 0
      },
      "text/plain": [
       "Simulating (mode: R):   0%|          | 0/79 [00:45<?, ?it/s]"
      ]
     },
     "metadata": {},
     "output_type": "display_data"
    },
    {
     "data": {
      "application/vnd.jupyter.widget-view+json": {
       "model_id": "4a79f8ed3b7241498a1c65916e982475",
       "version_major": 2,
       "version_minor": 0
      },
      "text/plain": [
       "Simulating (mode: R):   0%|          | 0/79 [02:45<?, ?it/s]"
      ]
     },
     "metadata": {},
     "output_type": "display_data"
    },
    {
     "data": {
      "application/vnd.jupyter.widget-view+json": {
       "model_id": "4ff06a2ae4464652968bc99f3ffbaca7",
       "version_major": 2,
       "version_minor": 0
      },
      "text/plain": [
       "Simulating (mode: R):   0%|          | 0/79 [00:39<?, ?it/s]"
      ]
     },
     "metadata": {},
     "output_type": "display_data"
    },
    {
     "data": {
      "application/vnd.jupyter.widget-view+json": {
       "model_id": "1111c1cacf9a44078e23e9c51a256f4c",
       "version_major": 2,
       "version_minor": 0
      },
      "text/plain": [
       "Simulating (mode: R):   0%|          | 0/79 [00:41<?, ?it/s]"
      ]
     },
     "metadata": {},
     "output_type": "display_data"
    },
    {
     "data": {
      "application/vnd.jupyter.widget-view+json": {
       "model_id": "011cd8282da945c591c67202f20582f6",
       "version_major": 2,
       "version_minor": 0
      },
      "text/plain": [
       "Simulating (mode: R):   0%|          | 0/79 [01:23<?, ?it/s]"
      ]
     },
     "metadata": {},
     "output_type": "display_data"
    },
    {
     "data": {
      "application/vnd.jupyter.widget-view+json": {
       "model_id": "ff441329a7ae4eb0a0dd73bbd96b6617",
       "version_major": 2,
       "version_minor": 0
      },
      "text/plain": [
       "Simulating (mode: R):   0%|          | 0/79 [00:57<?, ?it/s]"
      ]
     },
     "metadata": {},
     "output_type": "display_data"
    },
    {
     "data": {
      "application/vnd.jupyter.widget-view+json": {
       "model_id": "102162d1c46647bfa355eafc11b763a3",
       "version_major": 2,
       "version_minor": 0
      },
      "text/plain": [
       "Simulating (mode: R):   0%|          | 0/79 [00:38<?, ?it/s]"
      ]
     },
     "metadata": {},
     "output_type": "display_data"
    },
    {
     "data": {
      "application/vnd.jupyter.widget-view+json": {
       "model_id": "f5ca151de87a45ba95f50f850a6bd474",
       "version_major": 2,
       "version_minor": 0
      },
      "text/plain": [
       "Generating Graphs Done:   0%|          | 0/80 [00:51<?, ?it/s]"
      ]
     },
     "metadata": {},
     "output_type": "display_data"
    },
    {
     "data": {
      "application/vnd.jupyter.widget-view+json": {
       "model_id": "8439789a09b74077b72de729a516cc99",
       "version_major": 2,
       "version_minor": 0
      },
      "text/plain": [
       "Generating Graphs Done:   0%|          | 0/80 [00:04<?, ?it/s]"
      ]
     },
     "metadata": {},
     "output_type": "display_data"
    },
    {
     "data": {
      "application/vnd.jupyter.widget-view+json": {
       "model_id": "c3dec710f1174e89bfd47e5c9ea24dab",
       "version_major": 2,
       "version_minor": 0
      },
      "text/plain": [
       "Generating Graphs Done:   0%|          | 0/80 [00:54<?, ?it/s]"
      ]
     },
     "metadata": {},
     "output_type": "display_data"
    },
    {
     "name": "stderr",
     "output_type": "stream",
     "text": [
      "C:\\Users\\Frank\\AppData\\Local\\Temp\\ipykernel_23304\\3500474817.py:3: DeprecationWarning: Sampling from a set deprecated\n",
      "since Python 3.9 and will be removed in a subsequent version.\n",
      "  sample = random.sample(G.nodes(), G.number_of_nodes())\n",
      "C:\\Users\\Frank\\AppData\\Local\\Temp\\ipykernel_23304\\3500474817.py:3: DeprecationWarning: Sampling from a set deprecated\n",
      "since Python 3.9 and will be removed in a subsequent version.\n",
      "  sample = random.sample(G.nodes(), G.number_of_nodes())\n",
      "C:\\Users\\Frank\\AppData\\Local\\Temp\\ipykernel_23304\\3500474817.py:3: DeprecationWarning: Sampling from a set deprecated\n",
      "since Python 3.9 and will be removed in a subsequent version.\n",
      "  sample = random.sample(G.nodes(), G.number_of_nodes())\n"
     ]
    },
    {
     "data": {
      "application/vnd.jupyter.widget-view+json": {
       "model_id": "9a71d9e17d01406aab306f88044b7c15",
       "version_major": 2,
       "version_minor": 0
      },
      "text/plain": [
       "Simulating (mode: R):   0%|          | 0/79 [04:35<?, ?it/s]"
      ]
     },
     "metadata": {},
     "output_type": "display_data"
    },
    {
     "data": {
      "application/vnd.jupyter.widget-view+json": {
       "model_id": "376957a63ae14028ba5c6d587c059d17",
       "version_major": 2,
       "version_minor": 0
      },
      "text/plain": [
       "Generating Graphs Done:   0%|          | 0/80 [00:00<?, ?it/s]"
      ]
     },
     "metadata": {},
     "output_type": "display_data"
    },
    {
     "data": {
      "application/vnd.jupyter.widget-view+json": {
       "model_id": "f101ed93ced949549d5380f39edc8859",
       "version_major": 2,
       "version_minor": 0
      },
      "text/plain": [
       "Generating Graphs Done:   0%|          | 0/80 [00:04<?, ?it/s]"
      ]
     },
     "metadata": {},
     "output_type": "display_data"
    },
    {
     "data": {
      "application/vnd.jupyter.widget-view+json": {
       "model_id": "2351088f9cc84573beee9cd6e6d6ab91",
       "version_major": 2,
       "version_minor": 0
      },
      "text/plain": [
       "Simulating (mode: R):   0%|          | 0/79 [04:34<?, ?it/s]"
      ]
     },
     "metadata": {},
     "output_type": "display_data"
    },
    {
     "data": {
      "application/vnd.jupyter.widget-view+json": {
       "model_id": "d1af6b567ae0436ea74bf619b51ff882",
       "version_major": 2,
       "version_minor": 0
      },
      "text/plain": [
       "Generating Graphs Done:   0%|          | 0/80 [00:11<?, ?it/s]"
      ]
     },
     "metadata": {},
     "output_type": "display_data"
    },
    {
     "data": {
      "application/vnd.jupyter.widget-view+json": {
       "model_id": "dee787cc6bfe4ff09d4227cf11334483",
       "version_major": 2,
       "version_minor": 0
      },
      "text/plain": [
       "Generating Graphs Done:   0%|          | 0/80 [01:04<?, ?it/s]"
      ]
     },
     "metadata": {},
     "output_type": "display_data"
    },
    {
     "data": {
      "application/vnd.jupyter.widget-view+json": {
       "model_id": "f3aae475d5e44f678fb2f2fa1202185c",
       "version_major": 2,
       "version_minor": 0
      },
      "text/plain": [
       "Simulating (mode: R):   0%|          | 0/79 [04:34<?, ?it/s]"
      ]
     },
     "metadata": {},
     "output_type": "display_data"
    },
    {
     "name": "stderr",
     "output_type": "stream",
     "text": [
      "C:\\Users\\Frank\\AppData\\Local\\Temp\\ipykernel_23304\\3500474817.py:3: DeprecationWarning: Sampling from a set deprecated\n",
      "since Python 3.9 and will be removed in a subsequent version.\n",
      "  sample = random.sample(G.nodes(), G.number_of_nodes())\n",
      "C:\\Users\\Frank\\AppData\\Local\\Temp\\ipykernel_23304\\3500474817.py:3: DeprecationWarning: Sampling from a set deprecated\n",
      "since Python 3.9 and will be removed in a subsequent version.\n",
      "  sample = random.sample(G.nodes(), G.number_of_nodes())\n",
      "C:\\Users\\Frank\\AppData\\Local\\Temp\\ipykernel_23304\\3500474817.py:3: DeprecationWarning: Sampling from a set deprecated\n",
      "since Python 3.9 and will be removed in a subsequent version.\n",
      "  sample = random.sample(G.nodes(), G.number_of_nodes())\n"
     ]
    },
    {
     "data": {
      "application/vnd.jupyter.widget-view+json": {
       "model_id": "c19a362dfba54639924ee2073bcbb2c8",
       "version_major": 2,
       "version_minor": 0
      },
      "text/plain": [
       "Generating Graphs Done:   0%|          | 0/80 [00:02<?, ?it/s]"
      ]
     },
     "metadata": {},
     "output_type": "display_data"
    },
    {
     "name": "stderr",
     "output_type": "stream",
     "text": [
      "C:\\Users\\Frank\\AppData\\Local\\Temp\\ipykernel_23304\\3500474817.py:3: DeprecationWarning: Sampling from a set deprecated\n",
      "since Python 3.9 and will be removed in a subsequent version.\n",
      "  sample = random.sample(G.nodes(), G.number_of_nodes())\n",
      "C:\\Users\\Frank\\AppData\\Local\\Temp\\ipykernel_23304\\3500474817.py:3: DeprecationWarning: Sampling from a set deprecated\n",
      "since Python 3.9 and will be removed in a subsequent version.\n",
      "  sample = random.sample(G.nodes(), G.number_of_nodes())\n"
     ]
    },
    {
     "data": {
      "application/vnd.jupyter.widget-view+json": {
       "model_id": "8da58bcac3004d0c976b3d8d099962fa",
       "version_major": 2,
       "version_minor": 0
      },
      "text/plain": [
       "Generating Graphs Done:   0%|          | 0/80 [00:22<?, ?it/s]"
      ]
     },
     "metadata": {},
     "output_type": "display_data"
    },
    {
     "data": {
      "application/vnd.jupyter.widget-view+json": {
       "model_id": "0f1035c4a09944c69ca49dbb69bfbe5d",
       "version_major": 2,
       "version_minor": 0
      },
      "text/plain": [
       "Generating Graphs Done:   0%|          | 0/80 [00:33<?, ?it/s]"
      ]
     },
     "metadata": {},
     "output_type": "display_data"
    },
    {
     "data": {
      "application/vnd.jupyter.widget-view+json": {
       "model_id": "ffe5e7f01bc042caa30cc2ee5dd003dd",
       "version_major": 2,
       "version_minor": 0
      },
      "text/plain": [
       "Generating Graphs Done:   0%|          | 0/80 [00:13<?, ?it/s]"
      ]
     },
     "metadata": {},
     "output_type": "display_data"
    },
    {
     "data": {
      "application/vnd.jupyter.widget-view+json": {
       "model_id": "286c6678def74c0e80cb243b7603d475",
       "version_major": 2,
       "version_minor": 0
      },
      "text/plain": [
       "Generating Graphs Done:   0%|          | 0/80 [00:32<?, ?it/s]"
      ]
     },
     "metadata": {},
     "output_type": "display_data"
    },
    {
     "name": "stderr",
     "output_type": "stream",
     "text": [
      "C:\\Users\\Frank\\AppData\\Local\\Temp\\ipykernel_23304\\3500474817.py:3: DeprecationWarning: Sampling from a set deprecated\n",
      "since Python 3.9 and will be removed in a subsequent version.\n",
      "  sample = random.sample(G.nodes(), G.number_of_nodes())\n"
     ]
    },
    {
     "data": {
      "application/vnd.jupyter.widget-view+json": {
       "model_id": "0cd1f816ed9542b68fcd051f318a6e36",
       "version_major": 2,
       "version_minor": 0
      },
      "text/plain": [
       "Generating Graphs Done:   0%|          | 0/80 [01:32<?, ?it/s]"
      ]
     },
     "metadata": {},
     "output_type": "display_data"
    },
    {
     "data": {
      "application/vnd.jupyter.widget-view+json": {
       "model_id": "9299c79e4d02423abee981dc872b7232",
       "version_major": 2,
       "version_minor": 0
      },
      "text/plain": [
       "Generating Graphs Done:   0%|          | 0/80 [01:27<?, ?it/s]"
      ]
     },
     "metadata": {},
     "output_type": "display_data"
    },
    {
     "data": {
      "application/vnd.jupyter.widget-view+json": {
       "model_id": "694f36d886d842fdb578e9f9eecbc9c8",
       "version_major": 2,
       "version_minor": 0
      },
      "text/plain": [
       "Generating Graphs Done:   0%|          | 0/80 [01:44<?, ?it/s]"
      ]
     },
     "metadata": {},
     "output_type": "display_data"
    },
    {
     "data": {
      "application/vnd.jupyter.widget-view+json": {
       "model_id": "f17443dbfac5407cab43a9ac1e68ebed",
       "version_major": 2,
       "version_minor": 0
      },
      "text/plain": [
       "Simulating (mode: R):   0%|          | 0/79 [00:00<?, ?it/s]"
      ]
     },
     "metadata": {},
     "output_type": "display_data"
    },
    {
     "data": {
      "application/vnd.jupyter.widget-view+json": {
       "model_id": "4c710f2ba76045dfb819421a878dabc1",
       "version_major": 2,
       "version_minor": 0
      },
      "text/plain": [
       "Generating Graphs Done:   0%|          | 0/80 [02:20<?, ?it/s]"
      ]
     },
     "metadata": {},
     "output_type": "display_data"
    },
    {
     "name": "stderr",
     "output_type": "stream",
     "text": [
      "C:\\Users\\Frank\\AppData\\Local\\Temp\\ipykernel_23304\\3500474817.py:3: DeprecationWarning: Sampling from a set deprecated\n",
      "since Python 3.9 and will be removed in a subsequent version.\n",
      "  sample = random.sample(G.nodes(), G.number_of_nodes())\n"
     ]
    },
    {
     "data": {
      "application/vnd.jupyter.widget-view+json": {
       "model_id": "b728ffd24edf4504b55d1b8cf8406e02",
       "version_major": 2,
       "version_minor": 0
      },
      "text/plain": [
       "Generating Graphs Done:   0%|          | 0/80 [01:49<?, ?it/s]"
      ]
     },
     "metadata": {},
     "output_type": "display_data"
    },
    {
     "name": "stderr",
     "output_type": "stream",
     "text": [
      "C:\\Users\\Frank\\AppData\\Local\\Temp\\ipykernel_23304\\3500474817.py:3: DeprecationWarning: Sampling from a set deprecated\n",
      "since Python 3.9 and will be removed in a subsequent version.\n",
      "  sample = random.sample(G.nodes(), G.number_of_nodes())\n"
     ]
    },
    {
     "data": {
      "application/vnd.jupyter.widget-view+json": {
       "model_id": "021d939f6b6c448c8ff7d5da3381ceea",
       "version_major": 2,
       "version_minor": 0
      },
      "text/plain": [
       "Generating Graphs Done:   0%|          | 0/80 [01:28<?, ?it/s]"
      ]
     },
     "metadata": {},
     "output_type": "display_data"
    },
    {
     "data": {
      "application/vnd.jupyter.widget-view+json": {
       "model_id": "b18b25dae00e4862affda47a903248f0",
       "version_major": 2,
       "version_minor": 0
      },
      "text/plain": [
       "Generating Graphs Done:   0%|          | 0/80 [02:23<?, ?it/s]"
      ]
     },
     "metadata": {},
     "output_type": "display_data"
    },
    {
     "data": {
      "application/vnd.jupyter.widget-view+json": {
       "model_id": "c538e3724e35403c9eca3f01fafc2af0",
       "version_major": 2,
       "version_minor": 0
      },
      "text/plain": [
       "Simulating (mode: R):   0%|          | 0/79 [00:00<?, ?it/s]"
      ]
     },
     "metadata": {},
     "output_type": "display_data"
    },
    {
     "data": {
      "application/vnd.jupyter.widget-view+json": {
       "model_id": "69d1e78a1b8d44fbb210c01d408acb43",
       "version_major": 2,
       "version_minor": 0
      },
      "text/plain": [
       "Simulating (mode: R):   0%|          | 0/79 [00:12<?, ?it/s]"
      ]
     },
     "metadata": {},
     "output_type": "display_data"
    },
    {
     "data": {
      "application/vnd.jupyter.widget-view+json": {
       "model_id": "7060bfe151fa4ff5b5f92180afdddf26",
       "version_major": 2,
       "version_minor": 0
      },
      "text/plain": [
       "Simulating (mode: R):   0%|          | 0/79 [01:36<?, ?it/s]"
      ]
     },
     "metadata": {},
     "output_type": "display_data"
    },
    {
     "data": {
      "application/vnd.jupyter.widget-view+json": {
       "model_id": "a0a5871dcf104362a255fbc83f97d274",
       "version_major": 2,
       "version_minor": 0
      },
      "text/plain": [
       "Simulating (mode: R):   0%|          | 0/79 [01:37<?, ?it/s]"
      ]
     },
     "metadata": {},
     "output_type": "display_data"
    },
    {
     "data": {
      "application/vnd.jupyter.widget-view+json": {
       "model_id": "fa470242dacc48208904c52cec11f016",
       "version_major": 2,
       "version_minor": 0
      },
      "text/plain": [
       "Simulating (mode: R):   0%|          | 0/79 [01:43<?, ?it/s]"
      ]
     },
     "metadata": {},
     "output_type": "display_data"
    },
    {
     "data": {
      "application/vnd.jupyter.widget-view+json": {
       "model_id": "99e76e29b0b744ff86db89be8abd5db3",
       "version_major": 2,
       "version_minor": 0
      },
      "text/plain": [
       "Simulating (mode: R):   0%|          | 0/79 [00:31<?, ?it/s]"
      ]
     },
     "metadata": {},
     "output_type": "display_data"
    },
    {
     "data": {
      "application/vnd.jupyter.widget-view+json": {
       "model_id": "8d7e8635abe546dca838a29599b03109",
       "version_major": 2,
       "version_minor": 0
      },
      "text/plain": [
       "Simulating (mode: R):   0%|          | 0/79 [00:32<?, ?it/s]"
      ]
     },
     "metadata": {},
     "output_type": "display_data"
    },
    {
     "data": {
      "application/vnd.jupyter.widget-view+json": {
       "model_id": "90b1557984744777a13f883746b8575a",
       "version_major": 2,
       "version_minor": 0
      },
      "text/plain": [
       "Simulating (mode: R):   0%|          | 0/79 [01:52<?, ?it/s]"
      ]
     },
     "metadata": {},
     "output_type": "display_data"
    },
    {
     "data": {
      "application/vnd.jupyter.widget-view+json": {
       "model_id": "c6d08cda20d74b28b3aa2b4664af9c59",
       "version_major": 2,
       "version_minor": 0
      },
      "text/plain": [
       "Simulating (mode: R):   0%|          | 0/79 [00:36<?, ?it/s]"
      ]
     },
     "metadata": {},
     "output_type": "display_data"
    },
    {
     "data": {
      "application/vnd.jupyter.widget-view+json": {
       "model_id": "a5b7f131d1054e498c3fd7ee7686b619",
       "version_major": 2,
       "version_minor": 0
      },
      "text/plain": [
       "Simulating (mode: R):   0%|          | 0/79 [01:52<?, ?it/s]"
      ]
     },
     "metadata": {},
     "output_type": "display_data"
    },
    {
     "data": {
      "application/vnd.jupyter.widget-view+json": {
       "model_id": "0dc6fd6c1ee443818eacb0c1a3ee7814",
       "version_major": 2,
       "version_minor": 0
      },
      "text/plain": [
       "Simulating (mode: R):   0%|          | 0/79 [00:39<?, ?it/s]"
      ]
     },
     "metadata": {},
     "output_type": "display_data"
    },
    {
     "data": {
      "application/vnd.jupyter.widget-view+json": {
       "model_id": "319c12e669904ad3ba57847d05f18bf8",
       "version_major": 2,
       "version_minor": 0
      },
      "text/plain": [
       "Generating Graphs Done:   0%|          | 0/80 [02:26<?, ?it/s]"
      ]
     },
     "metadata": {},
     "output_type": "display_data"
    },
    {
     "data": {
      "application/vnd.jupyter.widget-view+json": {
       "model_id": "ad9ebcbf6e7540148001a3b356d52793",
       "version_major": 2,
       "version_minor": 0
      },
      "text/plain": [
       "Generating Graphs Done:   0%|          | 0/80 [00:48<?, ?it/s]"
      ]
     },
     "metadata": {},
     "output_type": "display_data"
    },
    {
     "data": {
      "application/vnd.jupyter.widget-view+json": {
       "model_id": "cbc9017dc0254d0db489290dec14cb43",
       "version_major": 2,
       "version_minor": 0
      },
      "text/plain": [
       "Simulating (mode: R):   0%|          | 0/79 [00:47<?, ?it/s]"
      ]
     },
     "metadata": {},
     "output_type": "display_data"
    },
    {
     "data": {
      "application/vnd.jupyter.widget-view+json": {
       "model_id": "1461ac3a44ed4e1ebf209bd398849be2",
       "version_major": 2,
       "version_minor": 0
      },
      "text/plain": [
       "Simulating (mode: R):   0%|          | 0/79 [01:12<?, ?it/s]"
      ]
     },
     "metadata": {},
     "output_type": "display_data"
    },
    {
     "data": {
      "application/vnd.jupyter.widget-view+json": {
       "model_id": "f04e969692344abdbc1cc90d84fc0178",
       "version_major": 2,
       "version_minor": 0
      },
      "text/plain": [
       "Simulating (mode: R):   0%|          | 0/79 [00:39<?, ?it/s]"
      ]
     },
     "metadata": {},
     "output_type": "display_data"
    },
    {
     "data": {
      "application/vnd.jupyter.widget-view+json": {
       "model_id": "a107f6279a814af3a0315209de15fbb3",
       "version_major": 2,
       "version_minor": 0
      },
      "text/plain": [
       "Generating Graphs Done:   0%|          | 0/80 [00:47<?, ?it/s]"
      ]
     },
     "metadata": {},
     "output_type": "display_data"
    },
    {
     "data": {
      "application/vnd.jupyter.widget-view+json": {
       "model_id": "c9f82804398f45ca90d958349f71de5a",
       "version_major": 2,
       "version_minor": 0
      },
      "text/plain": [
       "Generating Graphs Done:   0%|          | 0/80 [00:47<?, ?it/s]"
      ]
     },
     "metadata": {},
     "output_type": "display_data"
    },
    {
     "data": {
      "application/vnd.jupyter.widget-view+json": {
       "model_id": "bd59fdf404c548f3bcb0b4b42e61c708",
       "version_major": 2,
       "version_minor": 0
      },
      "text/plain": [
       "Simulating (mode: R):   0%|          | 0/79 [00:39<?, ?it/s]"
      ]
     },
     "metadata": {},
     "output_type": "display_data"
    },
    {
     "name": "stderr",
     "output_type": "stream",
     "text": [
      "C:\\Users\\Frank\\AppData\\Local\\Temp\\ipykernel_23304\\3500474817.py:3: DeprecationWarning: Sampling from a set deprecated\n",
      "since Python 3.9 and will be removed in a subsequent version.\n",
      "  sample = random.sample(G.nodes(), G.number_of_nodes())\n",
      "C:\\Users\\Frank\\AppData\\Local\\Temp\\ipykernel_23304\\3500474817.py:3: DeprecationWarning: Sampling from a set deprecated\n",
      "since Python 3.9 and will be removed in a subsequent version.\n",
      "  sample = random.sample(G.nodes(), G.number_of_nodes())\n",
      "C:\\Users\\Frank\\AppData\\Local\\Temp\\ipykernel_23304\\3500474817.py:3: DeprecationWarning: Sampling from a set deprecated\n",
      "since Python 3.9 and will be removed in a subsequent version.\n",
      "  sample = random.sample(G.nodes(), G.number_of_nodes())\n",
      "C:\\Users\\Frank\\AppData\\Local\\Temp\\ipykernel_23304\\3500474817.py:3: DeprecationWarning: Sampling from a set deprecated\n",
      "since Python 3.9 and will be removed in a subsequent version.\n",
      "  sample = random.sample(G.nodes(), G.number_of_nodes())\n"
     ]
    },
    {
     "data": {
      "application/vnd.jupyter.widget-view+json": {
       "model_id": "fb44e9ffba25467e9513a4adf15469b5",
       "version_major": 2,
       "version_minor": 0
      },
      "text/plain": [
       "Simulating (mode: R):   0%|          | 0/79 [00:53<?, ?it/s]"
      ]
     },
     "metadata": {},
     "output_type": "display_data"
    },
    {
     "data": {
      "application/vnd.jupyter.widget-view+json": {
       "model_id": "ab1078f18a7947578f6fcf3b8ab5dace",
       "version_major": 2,
       "version_minor": 0
      },
      "text/plain": [
       "Simulating (mode: R):   0%|          | 0/79 [00:53<?, ?it/s]"
      ]
     },
     "metadata": {},
     "output_type": "display_data"
    },
    {
     "data": {
      "application/vnd.jupyter.widget-view+json": {
       "model_id": "99bbf3ebe7de432393514d1e53bd15ac",
       "version_major": 2,
       "version_minor": 0
      },
      "text/plain": [
       "Simulating (mode: R):   0%|          | 0/79 [00:54<?, ?it/s]"
      ]
     },
     "metadata": {},
     "output_type": "display_data"
    },
    {
     "data": {
      "application/vnd.jupyter.widget-view+json": {
       "model_id": "6d777255620943d48c06b7ee4b55e9f4",
       "version_major": 2,
       "version_minor": 0
      },
      "text/plain": [
       "Generating Graphs Done:   0%|          | 0/80 [00:56<?, ?it/s]"
      ]
     },
     "metadata": {},
     "output_type": "display_data"
    },
    {
     "data": {
      "application/vnd.jupyter.widget-view+json": {
       "model_id": "8b26d36701f54f8d8b333f68addad9ab",
       "version_major": 2,
       "version_minor": 0
      },
      "text/plain": [
       "Generating Graphs Done:   0%|          | 0/80 [00:01<?, ?it/s]"
      ]
     },
     "metadata": {},
     "output_type": "display_data"
    },
    {
     "data": {
      "application/vnd.jupyter.widget-view+json": {
       "model_id": "6459ae7b778446568049a0dc2975a60a",
       "version_major": 2,
       "version_minor": 0
      },
      "text/plain": [
       "Generating Graphs Done:   0%|          | 0/80 [00:01<?, ?it/s]"
      ]
     },
     "metadata": {},
     "output_type": "display_data"
    },
    {
     "data": {
      "application/vnd.jupyter.widget-view+json": {
       "model_id": "eed9fd04b354428f94d3eab7bf2f0ebc",
       "version_major": 2,
       "version_minor": 0
      },
      "text/plain": [
       "Simulating (mode: R):   0%|          | 0/79 [00:58<?, ?it/s]"
      ]
     },
     "metadata": {},
     "output_type": "display_data"
    },
    {
     "name": "stderr",
     "output_type": "stream",
     "text": [
      "C:\\Users\\Frank\\AppData\\Local\\Temp\\ipykernel_23304\\3500474817.py:3: DeprecationWarning: Sampling from a set deprecated\n",
      "since Python 3.9 and will be removed in a subsequent version.\n",
      "  sample = random.sample(G.nodes(), G.number_of_nodes())\n"
     ]
    },
    {
     "data": {
      "application/vnd.jupyter.widget-view+json": {
       "model_id": "24908a067ced4703ad5bb7b7e887a67f",
       "version_major": 2,
       "version_minor": 0
      },
      "text/plain": [
       "Generating Graphs Done:   0%|          | 0/80 [00:54<?, ?it/s]"
      ]
     },
     "metadata": {},
     "output_type": "display_data"
    },
    {
     "data": {
      "application/vnd.jupyter.widget-view+json": {
       "model_id": "f753eedd345048769596a3bb1f336815",
       "version_major": 2,
       "version_minor": 0
      },
      "text/plain": [
       "Simulating (mode: R):   0%|          | 0/79 [00:01<?, ?it/s]"
      ]
     },
     "metadata": {},
     "output_type": "display_data"
    },
    {
     "data": {
      "application/vnd.jupyter.widget-view+json": {
       "model_id": "3283e0c0152346479662287c3b1f3b3f",
       "version_major": 2,
       "version_minor": 0
      },
      "text/plain": [
       "Simulating (mode: R):   0%|          | 0/79 [00:04<?, ?it/s]"
      ]
     },
     "metadata": {},
     "output_type": "display_data"
    },
    {
     "name": "stderr",
     "output_type": "stream",
     "text": [
      "C:\\Users\\Frank\\AppData\\Local\\Temp\\ipykernel_23304\\3500474817.py:3: DeprecationWarning: Sampling from a set deprecated\n",
      "since Python 3.9 and will be removed in a subsequent version.\n",
      "  sample = random.sample(G.nodes(), G.number_of_nodes())\n",
      "C:\\Users\\Frank\\AppData\\Local\\Temp\\ipykernel_23304\\3500474817.py:3: DeprecationWarning: Sampling from a set deprecated\n",
      "since Python 3.9 and will be removed in a subsequent version.\n",
      "  sample = random.sample(G.nodes(), G.number_of_nodes())\n",
      "C:\\Users\\Frank\\AppData\\Local\\Temp\\ipykernel_23304\\3500474817.py:3: DeprecationWarning: Sampling from a set deprecated\n",
      "since Python 3.9 and will be removed in a subsequent version.\n",
      "  sample = random.sample(G.nodes(), G.number_of_nodes())\n"
     ]
    },
    {
     "data": {
      "application/vnd.jupyter.widget-view+json": {
       "model_id": "0fe620132d7c48688f6d4f812361249d",
       "version_major": 2,
       "version_minor": 0
      },
      "text/plain": [
       "Simulating (mode: R):   0%|          | 0/79 [00:08<?, ?it/s]"
      ]
     },
     "metadata": {},
     "output_type": "display_data"
    },
    {
     "data": {
      "application/vnd.jupyter.widget-view+json": {
       "model_id": "58196333b16148ecb94ff544d5aef857",
       "version_major": 2,
       "version_minor": 0
      },
      "text/plain": [
       "Simulating (mode: R):   0%|          | 0/79 [00:08<?, ?it/s]"
      ]
     },
     "metadata": {},
     "output_type": "display_data"
    },
    {
     "data": {
      "application/vnd.jupyter.widget-view+json": {
       "model_id": "9079dbf2bede44c9adc9d027a1682fb6",
       "version_major": 2,
       "version_minor": 0
      },
      "text/plain": [
       "Generating Graphs Done:   0%|          | 0/80 [01:22<?, ?it/s]"
      ]
     },
     "metadata": {},
     "output_type": "display_data"
    },
    {
     "data": {
      "application/vnd.jupyter.widget-view+json": {
       "model_id": "1b8ca0ff7bba4baebcf5d8e5c5696c42",
       "version_major": 2,
       "version_minor": 0
      },
      "text/plain": [
       "Generating Graphs Done:   0%|          | 0/80 [01:44<?, ?it/s]"
      ]
     },
     "metadata": {},
     "output_type": "display_data"
    },
    {
     "name": "stderr",
     "output_type": "stream",
     "text": [
      "C:\\Users\\Frank\\AppData\\Local\\Temp\\ipykernel_23304\\3500474817.py:3: DeprecationWarning: Sampling from a set deprecated\n",
      "since Python 3.9 and will be removed in a subsequent version.\n",
      "  sample = random.sample(G.nodes(), G.number_of_nodes())\n"
     ]
    },
    {
     "data": {
      "application/vnd.jupyter.widget-view+json": {
       "model_id": "12d1a889411c41fe943b487259d802f4",
       "version_major": 2,
       "version_minor": 0
      },
      "text/plain": [
       "Generating Graphs Done:   0%|          | 0/80 [02:47<?, ?it/s]"
      ]
     },
     "metadata": {},
     "output_type": "display_data"
    },
    {
     "data": {
      "application/vnd.jupyter.widget-view+json": {
       "model_id": "99779669336948dc88909b45be1bd025",
       "version_major": 2,
       "version_minor": 0
      },
      "text/plain": [
       "Generating Graphs Done:   0%|          | 0/80 [03:44<?, ?it/s]"
      ]
     },
     "metadata": {},
     "output_type": "display_data"
    },
    {
     "data": {
      "application/vnd.jupyter.widget-view+json": {
       "model_id": "28c041c560584dff9057e813dd7da3af",
       "version_major": 2,
       "version_minor": 0
      },
      "text/plain": [
       "Generating Graphs Done:   0%|          | 0/80 [03:01<?, ?it/s]"
      ]
     },
     "metadata": {},
     "output_type": "display_data"
    },
    {
     "data": {
      "application/vnd.jupyter.widget-view+json": {
       "model_id": "5d661a6c4a934b41aee65ae7141c69b8",
       "version_major": 2,
       "version_minor": 0
      },
      "text/plain": [
       "Generating Graphs Done:   0%|          | 0/80 [00:57<?, ?it/s]"
      ]
     },
     "metadata": {},
     "output_type": "display_data"
    },
    {
     "data": {
      "application/vnd.jupyter.widget-view+json": {
       "model_id": "9634d2a50fdc4a3081c5222bd2626d58",
       "version_major": 2,
       "version_minor": 0
      },
      "text/plain": [
       "Generating Graphs Done:   0%|          | 0/80 [03:08<?, ?it/s]"
      ]
     },
     "metadata": {},
     "output_type": "display_data"
    },
    {
     "data": {
      "application/vnd.jupyter.widget-view+json": {
       "model_id": "4ce1bc6cb495441d836f107e9d6a4588",
       "version_major": 2,
       "version_minor": 0
      },
      "text/plain": [
       "Simulating (mode: R):   0%|          | 0/79 [00:00<?, ?it/s]"
      ]
     },
     "metadata": {},
     "output_type": "display_data"
    },
    {
     "data": {
      "application/vnd.jupyter.widget-view+json": {
       "model_id": "365df8bc767046babc3c14551b5fe03d",
       "version_major": 2,
       "version_minor": 0
      },
      "text/plain": [
       "Generating Graphs Done:   0%|          | 0/80 [00:05<?, ?it/s]"
      ]
     },
     "metadata": {},
     "output_type": "display_data"
    },
    {
     "name": "stderr",
     "output_type": "stream",
     "text": [
      "C:\\Users\\Frank\\AppData\\Local\\Temp\\ipykernel_23304\\3500474817.py:3: DeprecationWarning: Sampling from a set deprecated\n",
      "since Python 3.9 and will be removed in a subsequent version.\n",
      "  sample = random.sample(G.nodes(), G.number_of_nodes())\n"
     ]
    },
    {
     "data": {
      "application/vnd.jupyter.widget-view+json": {
       "model_id": "63a720c912b04c05b1387db8e43156df",
       "version_major": 2,
       "version_minor": 0
      },
      "text/plain": [
       "Generating Graphs Done:   0%|          | 0/80 [01:01<?, ?it/s]"
      ]
     },
     "metadata": {},
     "output_type": "display_data"
    },
    {
     "name": "stderr",
     "output_type": "stream",
     "text": [
      "C:\\Users\\Frank\\AppData\\Local\\Temp\\ipykernel_23304\\3500474817.py:3: DeprecationWarning: Sampling from a set deprecated\n",
      "since Python 3.9 and will be removed in a subsequent version.\n",
      "  sample = random.sample(G.nodes(), G.number_of_nodes())\n"
     ]
    },
    {
     "data": {
      "application/vnd.jupyter.widget-view+json": {
       "model_id": "22c9671bae60479480e42809fae24baf",
       "version_major": 2,
       "version_minor": 0
      },
      "text/plain": [
       "Generating Graphs Done:   0%|          | 0/80 [01:18<?, ?it/s]"
      ]
     },
     "metadata": {},
     "output_type": "display_data"
    },
    {
     "name": "stderr",
     "output_type": "stream",
     "text": [
      "C:\\Users\\Frank\\AppData\\Local\\Temp\\ipykernel_23304\\3500474817.py:3: DeprecationWarning: Sampling from a set deprecated\n",
      "since Python 3.9 and will be removed in a subsequent version.\n",
      "  sample = random.sample(G.nodes(), G.number_of_nodes())\n"
     ]
    },
    {
     "data": {
      "application/vnd.jupyter.widget-view+json": {
       "model_id": "8685ba241f774cd89f731a4a5261052f",
       "version_major": 2,
       "version_minor": 0
      },
      "text/plain": [
       "Simulating (mode: R):   0%|          | 0/79 [02:26<?, ?it/s]"
      ]
     },
     "metadata": {},
     "output_type": "display_data"
    },
    {
     "data": {
      "application/vnd.jupyter.widget-view+json": {
       "model_id": "f73bdd360e1a4ba68c0ff7248dc1b949",
       "version_major": 2,
       "version_minor": 0
      },
      "text/plain": [
       "Generating Graphs Done:   0%|          | 0/80 [00:11<?, ?it/s]"
      ]
     },
     "metadata": {},
     "output_type": "display_data"
    },
    {
     "name": "stderr",
     "output_type": "stream",
     "text": [
      "C:\\Users\\Frank\\AppData\\Local\\Temp\\ipykernel_23304\\3500474817.py:3: DeprecationWarning: Sampling from a set deprecated\n",
      "since Python 3.9 and will be removed in a subsequent version.\n",
      "  sample = random.sample(G.nodes(), G.number_of_nodes())\n"
     ]
    },
    {
     "data": {
      "application/vnd.jupyter.widget-view+json": {
       "model_id": "8afcfc8a38684cb1ae521d71965dea0d",
       "version_major": 2,
       "version_minor": 0
      },
      "text/plain": [
       "Generating Graphs Done:   0%|          | 0/80 [01:11<?, ?it/s]"
      ]
     },
     "metadata": {},
     "output_type": "display_data"
    },
    {
     "name": "stderr",
     "output_type": "stream",
     "text": [
      "C:\\Users\\Frank\\AppData\\Local\\Temp\\ipykernel_23304\\3500474817.py:3: DeprecationWarning: Sampling from a set deprecated\n",
      "since Python 3.9 and will be removed in a subsequent version.\n",
      "  sample = random.sample(G.nodes(), G.number_of_nodes())\n"
     ]
    },
    {
     "data": {
      "application/vnd.jupyter.widget-view+json": {
       "model_id": "764278789d024790882a5a03bf27650e",
       "version_major": 2,
       "version_minor": 0
      },
      "text/plain": [
       "Generating Graphs Done:   0%|          | 0/80 [02:09<?, ?it/s]"
      ]
     },
     "metadata": {},
     "output_type": "display_data"
    },
    {
     "data": {
      "application/vnd.jupyter.widget-view+json": {
       "model_id": "b37df4eddbba45de9a6b7141fe7112fe",
       "version_major": 2,
       "version_minor": 0
      },
      "text/plain": [
       "Simulating (mode: R):   0%|          | 0/79 [00:00<?, ?it/s]"
      ]
     },
     "metadata": {},
     "output_type": "display_data"
    },
    {
     "data": {
      "application/vnd.jupyter.widget-view+json": {
       "model_id": "ed8c14773cc94566883b6d5c662c47c9",
       "version_major": 2,
       "version_minor": 0
      },
      "text/plain": [
       "Simulating (mode: R):   0%|          | 0/79 [00:14<?, ?it/s]"
      ]
     },
     "metadata": {},
     "output_type": "display_data"
    },
    {
     "data": {
      "application/vnd.jupyter.widget-view+json": {
       "model_id": "9e66ac234c0b4ae4ac02bc461c68df52",
       "version_major": 2,
       "version_minor": 0
      },
      "text/plain": [
       "Generating Graphs Done:   0%|          | 0/80 [00:26<?, ?it/s]"
      ]
     },
     "metadata": {},
     "output_type": "display_data"
    },
    {
     "name": "stderr",
     "output_type": "stream",
     "text": [
      "C:\\Users\\Frank\\AppData\\Local\\Temp\\ipykernel_23304\\3500474817.py:3: DeprecationWarning: Sampling from a set deprecated\n",
      "since Python 3.9 and will be removed in a subsequent version.\n",
      "  sample = random.sample(G.nodes(), G.number_of_nodes())\n"
     ]
    },
    {
     "data": {
      "application/vnd.jupyter.widget-view+json": {
       "model_id": "979848da4a054b0ca2ba0f479761983b",
       "version_major": 2,
       "version_minor": 0
      },
      "text/plain": [
       "Generating Graphs Done:   0%|          | 0/80 [02:21<?, ?it/s]"
      ]
     },
     "metadata": {},
     "output_type": "display_data"
    },
    {
     "name": "stderr",
     "output_type": "stream",
     "text": [
      "C:\\Users\\Frank\\AppData\\Local\\Temp\\ipykernel_23304\\3500474817.py:3: DeprecationWarning: Sampling from a set deprecated\n",
      "since Python 3.9 and will be removed in a subsequent version.\n",
      "  sample = random.sample(G.nodes(), G.number_of_nodes())\n"
     ]
    },
    {
     "data": {
      "application/vnd.jupyter.widget-view+json": {
       "model_id": "c17edea684a143afacd308234821bd8a",
       "version_major": 2,
       "version_minor": 0
      },
      "text/plain": [
       "Generating Graphs Done:   0%|          | 0/80 [01:16<?, ?it/s]"
      ]
     },
     "metadata": {},
     "output_type": "display_data"
    },
    {
     "data": {
      "application/vnd.jupyter.widget-view+json": {
       "model_id": "8f23e48a16424152905d717533775e63",
       "version_major": 2,
       "version_minor": 0
      },
      "text/plain": [
       "Simulating (mode: R):   0%|          | 0/79 [00:28<?, ?it/s]"
      ]
     },
     "metadata": {},
     "output_type": "display_data"
    },
    {
     "data": {
      "application/vnd.jupyter.widget-view+json": {
       "model_id": "6428f52af45a408f96ccc3e1a49320b2",
       "version_major": 2,
       "version_minor": 0
      },
      "text/plain": [
       "Generating Graphs Done:   0%|          | 0/80 [04:11<?, ?it/s]"
      ]
     },
     "metadata": {},
     "output_type": "display_data"
    },
    {
     "name": "stderr",
     "output_type": "stream",
     "text": [
      "C:\\Users\\Frank\\AppData\\Local\\Temp\\ipykernel_23304\\3500474817.py:3: DeprecationWarning: Sampling from a set deprecated\n",
      "since Python 3.9 and will be removed in a subsequent version.\n",
      "  sample = random.sample(G.nodes(), G.number_of_nodes())\n"
     ]
    },
    {
     "data": {
      "application/vnd.jupyter.widget-view+json": {
       "model_id": "b88a5f643c094a7c9854d0633304aaaf",
       "version_major": 2,
       "version_minor": 0
      },
      "text/plain": [
       "Simulating (mode: R):   0%|          | 0/79 [00:33<?, ?it/s]"
      ]
     },
     "metadata": {},
     "output_type": "display_data"
    },
    {
     "data": {
      "application/vnd.jupyter.widget-view+json": {
       "model_id": "687b037cc74946638a42946636bc3bb8",
       "version_major": 2,
       "version_minor": 0
      },
      "text/plain": [
       "Generating Graphs Done:   0%|          | 0/80 [00:38<?, ?it/s]"
      ]
     },
     "metadata": {},
     "output_type": "display_data"
    },
    {
     "data": {
      "application/vnd.jupyter.widget-view+json": {
       "model_id": "44038e6acc8a4c609dadcfd382c1f1e9",
       "version_major": 2,
       "version_minor": 0
      },
      "text/plain": [
       "Simulating (mode: R):   0%|          | 0/79 [00:35<?, ?it/s]"
      ]
     },
     "metadata": {},
     "output_type": "display_data"
    },
    {
     "data": {
      "application/vnd.jupyter.widget-view+json": {
       "model_id": "9880dd28106743afac0de0778fab97ec",
       "version_major": 2,
       "version_minor": 0
      },
      "text/plain": [
       "Simulating (mode: R):   0%|          | 0/79 [00:35<?, ?it/s]"
      ]
     },
     "metadata": {},
     "output_type": "display_data"
    },
    {
     "name": "stderr",
     "output_type": "stream",
     "text": [
      "C:\\Users\\Frank\\AppData\\Local\\Temp\\ipykernel_23304\\3500474817.py:3: DeprecationWarning: Sampling from a set deprecated\n",
      "since Python 3.9 and will be removed in a subsequent version.\n",
      "  sample = random.sample(G.nodes(), G.number_of_nodes())\n"
     ]
    },
    {
     "data": {
      "application/vnd.jupyter.widget-view+json": {
       "model_id": "9f347ef8bded4de0b423674bb5c764a3",
       "version_major": 2,
       "version_minor": 0
      },
      "text/plain": [
       "Simulating (mode: R):   0%|          | 0/79 [02:43<?, ?it/s]"
      ]
     },
     "metadata": {},
     "output_type": "display_data"
    },
    {
     "data": {
      "application/vnd.jupyter.widget-view+json": {
       "model_id": "abc5e42bf3c340138b766323d8423878",
       "version_major": 2,
       "version_minor": 0
      },
      "text/plain": [
       "Generating Graphs Done:   0%|          | 0/80 [01:25<?, ?it/s]"
      ]
     },
     "metadata": {},
     "output_type": "display_data"
    },
    {
     "data": {
      "application/vnd.jupyter.widget-view+json": {
       "model_id": "796f35dff5c240c18e23dc9656078bcb",
       "version_major": 2,
       "version_minor": 0
      },
      "text/plain": [
       "Generating Graphs Done:   0%|          | 0/80 [01:24<?, ?it/s]"
      ]
     },
     "metadata": {},
     "output_type": "display_data"
    },
    {
     "data": {
      "application/vnd.jupyter.widget-view+json": {
       "model_id": "b99713c6359b423cbfefdc817960ae1e",
       "version_major": 2,
       "version_minor": 0
      },
      "text/plain": [
       "Simulating (mode: R):   0%|          | 0/79 [00:54<?, ?it/s]"
      ]
     },
     "metadata": {},
     "output_type": "display_data"
    },
    {
     "data": {
      "application/vnd.jupyter.widget-view+json": {
       "model_id": "d6021e0d24fc40628d55805e7c54b37a",
       "version_major": 2,
       "version_minor": 0
      },
      "text/plain": [
       "Simulating (mode: R):   0%|          | 0/79 [00:48<?, ?it/s]"
      ]
     },
     "metadata": {},
     "output_type": "display_data"
    },
    {
     "data": {
      "application/vnd.jupyter.widget-view+json": {
       "model_id": "501793b4755b4613979838f4de5e8e6c",
       "version_major": 2,
       "version_minor": 0
      },
      "text/plain": [
       "Simulating (mode: R):   0%|          | 0/79 [00:56<?, ?it/s]"
      ]
     },
     "metadata": {},
     "output_type": "display_data"
    },
    {
     "data": {
      "application/vnd.jupyter.widget-view+json": {
       "model_id": "0fb0971100fb4dcfb009e29e7e429332",
       "version_major": 2,
       "version_minor": 0
      },
      "text/plain": [
       "Simulating (mode: R):   0%|          | 0/79 [00:34<?, ?it/s]"
      ]
     },
     "metadata": {},
     "output_type": "display_data"
    },
    {
     "name": "stderr",
     "output_type": "stream",
     "text": [
      "C:\\Users\\Frank\\AppData\\Local\\Temp\\ipykernel_23304\\3500474817.py:3: DeprecationWarning: Sampling from a set deprecated\n",
      "since Python 3.9 and will be removed in a subsequent version.\n",
      "  sample = random.sample(G.nodes(), G.number_of_nodes())\n",
      "C:\\Users\\Frank\\AppData\\Local\\Temp\\ipykernel_23304\\3500474817.py:3: DeprecationWarning: Sampling from a set deprecated\n",
      "since Python 3.9 and will be removed in a subsequent version.\n",
      "  sample = random.sample(G.nodes(), G.number_of_nodes())\n"
     ]
    },
    {
     "data": {
      "application/vnd.jupyter.widget-view+json": {
       "model_id": "3ba2375731b64dc8a3462a7d831b3a84",
       "version_major": 2,
       "version_minor": 0
      },
      "text/plain": [
       "Simulating (mode: R):   0%|          | 0/79 [00:49<?, ?it/s]"
      ]
     },
     "metadata": {},
     "output_type": "display_data"
    },
    {
     "data": {
      "application/vnd.jupyter.widget-view+json": {
       "model_id": "3d7e144abf8a40faa90ea61a6ec9e797",
       "version_major": 2,
       "version_minor": 0
      },
      "text/plain": [
       "Simulating (mode: R):   0%|          | 0/79 [01:20<?, ?it/s]"
      ]
     },
     "metadata": {},
     "output_type": "display_data"
    },
    {
     "data": {
      "application/vnd.jupyter.widget-view+json": {
       "model_id": "79d157376f3d45ba80284555f04d0729",
       "version_major": 2,
       "version_minor": 0
      },
      "text/plain": [
       "Simulating (mode: R):   0%|          | 0/79 [01:02<?, ?it/s]"
      ]
     },
     "metadata": {},
     "output_type": "display_data"
    },
    {
     "data": {
      "application/vnd.jupyter.widget-view+json": {
       "model_id": "2ff9dade2ac64c55a6b8dd7b6a06dc84",
       "version_major": 2,
       "version_minor": 0
      },
      "text/plain": [
       "Simulating (mode: R):   0%|          | 0/79 [01:14<?, ?it/s]"
      ]
     },
     "metadata": {},
     "output_type": "display_data"
    },
    {
     "data": {
      "application/vnd.jupyter.widget-view+json": {
       "model_id": "5d06f4b91dc24062b321943e0152960c",
       "version_major": 2,
       "version_minor": 0
      },
      "text/plain": [
       "Simulating (mode: R):   0%|          | 0/79 [01:21<?, ?it/s]"
      ]
     },
     "metadata": {},
     "output_type": "display_data"
    },
    {
     "data": {
      "application/vnd.jupyter.widget-view+json": {
       "model_id": "eb0cc7b531b14410a799168f703b4371",
       "version_major": 2,
       "version_minor": 0
      },
      "text/plain": [
       "Simulating (mode: R):   0%|          | 0/79 [00:48<?, ?it/s]"
      ]
     },
     "metadata": {},
     "output_type": "display_data"
    },
    {
     "data": {
      "application/vnd.jupyter.widget-view+json": {
       "model_id": "6abe9dc3bb6d4eebb47ae1d7c47527a8",
       "version_major": 2,
       "version_minor": 0
      },
      "text/plain": [
       "Generating Graphs Done:   0%|          | 0/80 [00:25<?, ?it/s]"
      ]
     },
     "metadata": {},
     "output_type": "display_data"
    },
    {
     "data": {
      "application/vnd.jupyter.widget-view+json": {
       "model_id": "17f13b26329f4060a2e313bc4626fa31",
       "version_major": 2,
       "version_minor": 0
      },
      "text/plain": [
       "Simulating (mode: R):   0%|          | 0/79 [00:48<?, ?it/s]"
      ]
     },
     "metadata": {},
     "output_type": "display_data"
    },
    {
     "name": "stderr",
     "output_type": "stream",
     "text": [
      "C:\\Users\\Frank\\AppData\\Local\\Temp\\ipykernel_23304\\3500474817.py:3: DeprecationWarning: Sampling from a set deprecated\n",
      "since Python 3.9 and will be removed in a subsequent version.\n",
      "  sample = random.sample(G.nodes(), G.number_of_nodes())\n"
     ]
    },
    {
     "data": {
      "application/vnd.jupyter.widget-view+json": {
       "model_id": "010e5a59fd804b7fa43dd23c2b5c6f7c",
       "version_major": 2,
       "version_minor": 0
      },
      "text/plain": [
       "Generating Graphs Done:   0%|          | 0/80 [01:16<?, ?it/s]"
      ]
     },
     "metadata": {},
     "output_type": "display_data"
    },
    {
     "data": {
      "application/vnd.jupyter.widget-view+json": {
       "model_id": "89206a5a83ab4d2d9c71cfa9af52920a",
       "version_major": 2,
       "version_minor": 0
      },
      "text/plain": [
       "Generating Graphs Done:   0%|          | 0/80 [01:19<?, ?it/s]"
      ]
     },
     "metadata": {},
     "output_type": "display_data"
    },
    {
     "data": {
      "application/vnd.jupyter.widget-view+json": {
       "model_id": "c67f23b7a3fe44669027c1db6446f1dd",
       "version_major": 2,
       "version_minor": 0
      },
      "text/plain": [
       "Generating Graphs Done:   0%|          | 0/80 [01:33<?, ?it/s]"
      ]
     },
     "metadata": {},
     "output_type": "display_data"
    },
    {
     "data": {
      "application/vnd.jupyter.widget-view+json": {
       "model_id": "3997ec45697d4a7b993300c29c4fbd6f",
       "version_major": 2,
       "version_minor": 0
      },
      "text/plain": [
       "Generating Graphs Done:   0%|          | 0/80 [01:24<?, ?it/s]"
      ]
     },
     "metadata": {},
     "output_type": "display_data"
    },
    {
     "data": {
      "application/vnd.jupyter.widget-view+json": {
       "model_id": "3b3e739697104c5fa1b7110e46b54ea8",
       "version_major": 2,
       "version_minor": 0
      },
      "text/plain": [
       "Reducing thread Simulating (mode: R):   0%|          | 0/19 [01:02<?, ?it/s]"
      ]
     },
     "metadata": {},
     "output_type": "display_data"
    },
    {
     "data": {
      "application/vnd.jupyter.widget-view+json": {
       "model_id": "6cf2e0f30ca142ccaf9d67a992658f40",
       "version_major": 2,
       "version_minor": 0
      },
      "text/plain": [
       "Generating Graphs Done:   0%|          | 0/80 [01:33<?, ?it/s]"
      ]
     },
     "metadata": {},
     "output_type": "display_data"
    },
    {
     "data": {
      "application/vnd.jupyter.widget-view+json": {
       "model_id": "f5d4739a482e4b1892584c4aa412a9dd",
       "version_major": 2,
       "version_minor": 0
      },
      "text/plain": [
       "Generating Graphs Done:   0%|          | 0/80 [01:26<?, ?it/s]"
      ]
     },
     "metadata": {},
     "output_type": "display_data"
    },
    {
     "data": {
      "application/vnd.jupyter.widget-view+json": {
       "model_id": "f62e37797b5342729435544772cc5f62",
       "version_major": 2,
       "version_minor": 0
      },
      "text/plain": [
       "Generating Graphs Done:   0%|          | 0/80 [00:16<?, ?it/s]"
      ]
     },
     "metadata": {},
     "output_type": "display_data"
    },
    {
     "data": {
      "application/vnd.jupyter.widget-view+json": {
       "model_id": "526b928c65384213992f21eb5b85c922",
       "version_major": 2,
       "version_minor": 0
      },
      "text/plain": [
       "Generating Graphs Done:   0%|          | 0/80 [00:06<?, ?it/s]"
      ]
     },
     "metadata": {},
     "output_type": "display_data"
    },
    {
     "data": {
      "application/vnd.jupyter.widget-view+json": {
       "model_id": "643b95d7522f40a5a8ae86123cdc266c",
       "version_major": 2,
       "version_minor": 0
      },
      "text/plain": [
       "Simulating (mode: R):   0%|          | 0/79 [00:23<?, ?it/s]"
      ]
     },
     "metadata": {},
     "output_type": "display_data"
    },
    {
     "name": "stderr",
     "output_type": "stream",
     "text": [
      "C:\\Users\\Frank\\AppData\\Local\\Temp\\ipykernel_23304\\3500474817.py:3: DeprecationWarning: Sampling from a set deprecated\n",
      "since Python 3.9 and will be removed in a subsequent version.\n",
      "  sample = random.sample(G.nodes(), G.number_of_nodes())\n"
     ]
    },
    {
     "data": {
      "application/vnd.jupyter.widget-view+json": {
       "model_id": "e0e818d901d9423c8763137a728c70fb",
       "version_major": 2,
       "version_minor": 0
      },
      "text/plain": [
       "Generating Graphs Done:   0%|          | 0/80 [00:07<?, ?it/s]"
      ]
     },
     "metadata": {},
     "output_type": "display_data"
    },
    {
     "name": "stderr",
     "output_type": "stream",
     "text": [
      "C:\\Users\\Frank\\AppData\\Local\\Temp\\ipykernel_23304\\3500474817.py:3: DeprecationWarning: Sampling from a set deprecated\n",
      "since Python 3.9 and will be removed in a subsequent version.\n",
      "  sample = random.sample(G.nodes(), G.number_of_nodes())\n",
      "C:\\Users\\Frank\\AppData\\Local\\Temp\\ipykernel_23304\\3500474817.py:3: DeprecationWarning: Sampling from a set deprecated\n",
      "since Python 3.9 and will be removed in a subsequent version.\n",
      "  sample = random.sample(G.nodes(), G.number_of_nodes())\n",
      "C:\\Users\\Frank\\AppData\\Local\\Temp\\ipykernel_23304\\3500474817.py:3: DeprecationWarning: Sampling from a set deprecated\n",
      "since Python 3.9 and will be removed in a subsequent version.\n",
      "  sample = random.sample(G.nodes(), G.number_of_nodes())\n",
      "C:\\Users\\Frank\\AppData\\Local\\Temp\\ipykernel_23304\\3500474817.py:3: DeprecationWarning: Sampling from a set deprecated\n",
      "since Python 3.9 and will be removed in a subsequent version.\n",
      "  sample = random.sample(G.nodes(), G.number_of_nodes())\n"
     ]
    },
    {
     "data": {
      "application/vnd.jupyter.widget-view+json": {
       "model_id": "9d4788a93847420095f504b68e440b28",
       "version_major": 2,
       "version_minor": 0
      },
      "text/plain": [
       "Simulating (mode: R):   0%|          | 0/79 [00:03<?, ?it/s]"
      ]
     },
     "metadata": {},
     "output_type": "display_data"
    },
    {
     "data": {
      "application/vnd.jupyter.widget-view+json": {
       "model_id": "ef37355838ba4fd684c4e88cccb31bef",
       "version_major": 2,
       "version_minor": 0
      },
      "text/plain": [
       "Simulating (mode: R):   0%|          | 0/79 [00:08<?, ?it/s]"
      ]
     },
     "metadata": {},
     "output_type": "display_data"
    },
    {
     "data": {
      "application/vnd.jupyter.widget-view+json": {
       "model_id": "6b3fd27b9f64466da69b909904f820bd",
       "version_major": 2,
       "version_minor": 0
      },
      "text/plain": [
       "Simulating (mode: R):   0%|          | 0/79 [00:15<?, ?it/s]"
      ]
     },
     "metadata": {},
     "output_type": "display_data"
    },
    {
     "data": {
      "application/vnd.jupyter.widget-view+json": {
       "model_id": "4db0cd2e1222466d826de624d22f47d9",
       "version_major": 2,
       "version_minor": 0
      },
      "text/plain": [
       "Simulating (mode: R):   0%|          | 0/79 [00:20<?, ?it/s]"
      ]
     },
     "metadata": {},
     "output_type": "display_data"
    },
    {
     "data": {
      "application/vnd.jupyter.widget-view+json": {
       "model_id": "ef3974a344124a40a64a157b3c258d99",
       "version_major": 2,
       "version_minor": 0
      },
      "text/plain": [
       "Simulating (mode: R):   0%|          | 0/79 [00:26<?, ?it/s]"
      ]
     },
     "metadata": {},
     "output_type": "display_data"
    },
    {
     "data": {
      "application/vnd.jupyter.widget-view+json": {
       "model_id": "3618703a85d345e8a7d845480f38b0af",
       "version_major": 2,
       "version_minor": 0
      },
      "text/plain": [
       "Simulating (mode: R):   0%|          | 0/79 [00:26<?, ?it/s]"
      ]
     },
     "metadata": {},
     "output_type": "display_data"
    },
    {
     "data": {
      "application/vnd.jupyter.widget-view+json": {
       "model_id": "7c085edf439941729ce5e91691cdb999",
       "version_major": 2,
       "version_minor": 0
      },
      "text/plain": [
       "Simulating (mode: R):   0%|          | 0/79 [00:30<?, ?it/s]"
      ]
     },
     "metadata": {},
     "output_type": "display_data"
    },
    {
     "data": {
      "application/vnd.jupyter.widget-view+json": {
       "model_id": "41c840ebb3924ad09e9f5b20e7bc4909",
       "version_major": 2,
       "version_minor": 0
      },
      "text/plain": [
       "Simulating (mode: R):   0%|          | 0/79 [00:35<?, ?it/s]"
      ]
     },
     "metadata": {},
     "output_type": "display_data"
    },
    {
     "data": {
      "application/vnd.jupyter.widget-view+json": {
       "model_id": "271e7cd53a1a4ea8b7955efe50f6d6b7",
       "version_major": 2,
       "version_minor": 0
      },
      "text/plain": [
       "Simulating (mode: R):   0%|          | 0/79 [00:36<?, ?it/s]"
      ]
     },
     "metadata": {},
     "output_type": "display_data"
    },
    {
     "name": "stderr",
     "output_type": "stream",
     "text": [
      "C:\\Users\\Frank\\AppData\\Local\\Temp\\ipykernel_23304\\1105863710.py:20: FutureWarning: The frame.append method is deprecated and will be removed from pandas in a future version. Use pandas.concat instead.\n",
      "  Dataframe_final = Dataframe_final.append(Dataframe)\n",
      "C:\\Users\\Frank\\AppData\\Local\\Temp\\ipykernel_23304\\1105863710.py:20: FutureWarning: The frame.append method is deprecated and will be removed from pandas in a future version. Use pandas.concat instead.\n",
      "  Dataframe_final = Dataframe_final.append(Dataframe)\n",
      "C:\\Users\\Frank\\AppData\\Local\\Temp\\ipykernel_23304\\1105863710.py:20: FutureWarning: The frame.append method is deprecated and will be removed from pandas in a future version. Use pandas.concat instead.\n",
      "  Dataframe_final = Dataframe_final.append(Dataframe)\n",
      "C:\\Users\\Frank\\AppData\\Local\\Temp\\ipykernel_23304\\1105863710.py:20: FutureWarning: The frame.append method is deprecated and will be removed from pandas in a future version. Use pandas.concat instead.\n",
      "  Dataframe_final = Dataframe_final.append(Dataframe)\n",
      "C:\\Users\\Frank\\AppData\\Local\\Temp\\ipykernel_23304\\1105863710.py:20: FutureWarning: The frame.append method is deprecated and will be removed from pandas in a future version. Use pandas.concat instead.\n",
      "  Dataframe_final = Dataframe_final.append(Dataframe)\n",
      "C:\\Users\\Frank\\AppData\\Local\\Temp\\ipykernel_23304\\1105863710.py:20: FutureWarning: The frame.append method is deprecated and will be removed from pandas in a future version. Use pandas.concat instead.\n",
      "  Dataframe_final = Dataframe_final.append(Dataframe)\n",
      "C:\\Users\\Frank\\AppData\\Local\\Temp\\ipykernel_23304\\1105863710.py:20: FutureWarning: The frame.append method is deprecated and will be removed from pandas in a future version. Use pandas.concat instead.\n",
      "  Dataframe_final = Dataframe_final.append(Dataframe)\n",
      "C:\\Users\\Frank\\AppData\\Local\\Temp\\ipykernel_23304\\1105863710.py:20: FutureWarning: The frame.append method is deprecated and will be removed from pandas in a future version. Use pandas.concat instead.\n",
      "  Dataframe_final = Dataframe_final.append(Dataframe)\n",
      "C:\\Users\\Frank\\AppData\\Local\\Temp\\ipykernel_23304\\1105863710.py:20: FutureWarning: The frame.append method is deprecated and will be removed from pandas in a future version. Use pandas.concat instead.\n",
      "  Dataframe_final = Dataframe_final.append(Dataframe)\n",
      "C:\\Users\\Frank\\AppData\\Local\\Temp\\ipykernel_23304\\1105863710.py:20: FutureWarning: The frame.append method is deprecated and will be removed from pandas in a future version. Use pandas.concat instead.\n",
      "  Dataframe_final = Dataframe_final.append(Dataframe)\n",
      "C:\\Users\\Frank\\AppData\\Local\\Temp\\ipykernel_23304\\1105863710.py:20: FutureWarning: The frame.append method is deprecated and will be removed from pandas in a future version. Use pandas.concat instead.\n",
      "  Dataframe_final = Dataframe_final.append(Dataframe)\n",
      "C:\\Users\\Frank\\AppData\\Local\\Temp\\ipykernel_23304\\1105863710.py:20: FutureWarning: The frame.append method is deprecated and will be removed from pandas in a future version. Use pandas.concat instead.\n",
      "  Dataframe_final = Dataframe_final.append(Dataframe)\n",
      "C:\\Users\\Frank\\AppData\\Local\\Temp\\ipykernel_23304\\1105863710.py:20: FutureWarning: The frame.append method is deprecated and will be removed from pandas in a future version. Use pandas.concat instead.\n",
      "  Dataframe_final = Dataframe_final.append(Dataframe)\n",
      "C:\\Users\\Frank\\AppData\\Local\\Temp\\ipykernel_23304\\1105863710.py:20: FutureWarning: The frame.append method is deprecated and will be removed from pandas in a future version. Use pandas.concat instead.\n",
      "  Dataframe_final = Dataframe_final.append(Dataframe)\n",
      "C:\\Users\\Frank\\AppData\\Local\\Temp\\ipykernel_23304\\1105863710.py:20: FutureWarning: The frame.append method is deprecated and will be removed from pandas in a future version. Use pandas.concat instead.\n",
      "  Dataframe_final = Dataframe_final.append(Dataframe)\n",
      "C:\\Users\\Frank\\AppData\\Local\\Temp\\ipykernel_23304\\1105863710.py:20: FutureWarning: The frame.append method is deprecated and will be removed from pandas in a future version. Use pandas.concat instead.\n",
      "  Dataframe_final = Dataframe_final.append(Dataframe)\n",
      "C:\\Users\\Frank\\AppData\\Local\\Temp\\ipykernel_23304\\1105863710.py:20: FutureWarning: The frame.append method is deprecated and will be removed from pandas in a future version. Use pandas.concat instead.\n",
      "  Dataframe_final = Dataframe_final.append(Dataframe)\n",
      "C:\\Users\\Frank\\AppData\\Local\\Temp\\ipykernel_23304\\1105863710.py:20: FutureWarning: The frame.append method is deprecated and will be removed from pandas in a future version. Use pandas.concat instead.\n",
      "  Dataframe_final = Dataframe_final.append(Dataframe)\n",
      "C:\\Users\\Frank\\AppData\\Local\\Temp\\ipykernel_23304\\1105863710.py:20: FutureWarning: The frame.append method is deprecated and will be removed from pandas in a future version. Use pandas.concat instead.\n",
      "  Dataframe_final = Dataframe_final.append(Dataframe)\n",
      "C:\\Users\\Frank\\AppData\\Local\\Temp\\ipykernel_23304\\1105863710.py:20: FutureWarning: The frame.append method is deprecated and will be removed from pandas in a future version. Use pandas.concat instead.\n",
      "  Dataframe_final = Dataframe_final.append(Dataframe)\n",
      "C:\\Users\\Frank\\AppData\\Local\\Temp\\ipykernel_23304\\1105863710.py:20: FutureWarning: The frame.append method is deprecated and will be removed from pandas in a future version. Use pandas.concat instead.\n",
      "  Dataframe_final = Dataframe_final.append(Dataframe)\n",
      "C:\\Users\\Frank\\AppData\\Local\\Temp\\ipykernel_23304\\1105863710.py:20: FutureWarning: The frame.append method is deprecated and will be removed from pandas in a future version. Use pandas.concat instead.\n",
      "  Dataframe_final = Dataframe_final.append(Dataframe)\n",
      "C:\\Users\\Frank\\AppData\\Local\\Temp\\ipykernel_23304\\1105863710.py:20: FutureWarning: The frame.append method is deprecated and will be removed from pandas in a future version. Use pandas.concat instead.\n",
      "  Dataframe_final = Dataframe_final.append(Dataframe)\n",
      "C:\\Users\\Frank\\AppData\\Local\\Temp\\ipykernel_23304\\1105863710.py:20: FutureWarning: The frame.append method is deprecated and will be removed from pandas in a future version. Use pandas.concat instead.\n",
      "  Dataframe_final = Dataframe_final.append(Dataframe)\n",
      "C:\\Users\\Frank\\AppData\\Local\\Temp\\ipykernel_23304\\1105863710.py:20: FutureWarning: The frame.append method is deprecated and will be removed from pandas in a future version. Use pandas.concat instead.\n",
      "  Dataframe_final = Dataframe_final.append(Dataframe)\n",
      "C:\\Users\\Frank\\AppData\\Local\\Temp\\ipykernel_23304\\1105863710.py:20: FutureWarning: The frame.append method is deprecated and will be removed from pandas in a future version. Use pandas.concat instead.\n",
      "  Dataframe_final = Dataframe_final.append(Dataframe)\n",
      "C:\\Users\\Frank\\AppData\\Local\\Temp\\ipykernel_23304\\1105863710.py:20: FutureWarning: The frame.append method is deprecated and will be removed from pandas in a future version. Use pandas.concat instead.\n",
      "  Dataframe_final = Dataframe_final.append(Dataframe)\n",
      "C:\\Users\\Frank\\AppData\\Local\\Temp\\ipykernel_23304\\1105863710.py:20: FutureWarning: The frame.append method is deprecated and will be removed from pandas in a future version. Use pandas.concat instead.\n",
      "  Dataframe_final = Dataframe_final.append(Dataframe)\n",
      "C:\\Users\\Frank\\AppData\\Local\\Temp\\ipykernel_23304\\1105863710.py:20: FutureWarning: The frame.append method is deprecated and will be removed from pandas in a future version. Use pandas.concat instead.\n",
      "  Dataframe_final = Dataframe_final.append(Dataframe)\n",
      "C:\\Users\\Frank\\AppData\\Local\\Temp\\ipykernel_23304\\1105863710.py:20: FutureWarning: The frame.append method is deprecated and will be removed from pandas in a future version. Use pandas.concat instead.\n",
      "  Dataframe_final = Dataframe_final.append(Dataframe)\n",
      "C:\\Users\\Frank\\AppData\\Local\\Temp\\ipykernel_23304\\1105863710.py:20: FutureWarning: The frame.append method is deprecated and will be removed from pandas in a future version. Use pandas.concat instead.\n",
      "  Dataframe_final = Dataframe_final.append(Dataframe)\n",
      "C:\\Users\\Frank\\AppData\\Local\\Temp\\ipykernel_23304\\1105863710.py:20: FutureWarning: The frame.append method is deprecated and will be removed from pandas in a future version. Use pandas.concat instead.\n",
      "  Dataframe_final = Dataframe_final.append(Dataframe)\n",
      "C:\\Users\\Frank\\AppData\\Local\\Temp\\ipykernel_23304\\1105863710.py:20: FutureWarning: The frame.append method is deprecated and will be removed from pandas in a future version. Use pandas.concat instead.\n",
      "  Dataframe_final = Dataframe_final.append(Dataframe)\n",
      "C:\\Users\\Frank\\AppData\\Local\\Temp\\ipykernel_23304\\1105863710.py:20: FutureWarning: The frame.append method is deprecated and will be removed from pandas in a future version. Use pandas.concat instead.\n",
      "  Dataframe_final = Dataframe_final.append(Dataframe)\n",
      "C:\\Users\\Frank\\AppData\\Local\\Temp\\ipykernel_23304\\1105863710.py:20: FutureWarning: The frame.append method is deprecated and will be removed from pandas in a future version. Use pandas.concat instead.\n",
      "  Dataframe_final = Dataframe_final.append(Dataframe)\n",
      "C:\\Users\\Frank\\AppData\\Local\\Temp\\ipykernel_23304\\1105863710.py:20: FutureWarning: The frame.append method is deprecated and will be removed from pandas in a future version. Use pandas.concat instead.\n",
      "  Dataframe_final = Dataframe_final.append(Dataframe)\n",
      "C:\\Users\\Frank\\AppData\\Local\\Temp\\ipykernel_23304\\1105863710.py:20: FutureWarning: The frame.append method is deprecated and will be removed from pandas in a future version. Use pandas.concat instead.\n",
      "  Dataframe_final = Dataframe_final.append(Dataframe)\n",
      "C:\\Users\\Frank\\AppData\\Local\\Temp\\ipykernel_23304\\1105863710.py:20: FutureWarning: The frame.append method is deprecated and will be removed from pandas in a future version. Use pandas.concat instead.\n",
      "  Dataframe_final = Dataframe_final.append(Dataframe)\n",
      "C:\\Users\\Frank\\AppData\\Local\\Temp\\ipykernel_23304\\1105863710.py:20: FutureWarning: The frame.append method is deprecated and will be removed from pandas in a future version. Use pandas.concat instead.\n",
      "  Dataframe_final = Dataframe_final.append(Dataframe)\n",
      "C:\\Users\\Frank\\AppData\\Local\\Temp\\ipykernel_23304\\1105863710.py:20: FutureWarning: The frame.append method is deprecated and will be removed from pandas in a future version. Use pandas.concat instead.\n",
      "  Dataframe_final = Dataframe_final.append(Dataframe)\n",
      "C:\\Users\\Frank\\AppData\\Local\\Temp\\ipykernel_23304\\1105863710.py:20: FutureWarning: The frame.append method is deprecated and will be removed from pandas in a future version. Use pandas.concat instead.\n",
      "  Dataframe_final = Dataframe_final.append(Dataframe)\n",
      "C:\\Users\\Frank\\AppData\\Local\\Temp\\ipykernel_23304\\1105863710.py:20: FutureWarning: The frame.append method is deprecated and will be removed from pandas in a future version. Use pandas.concat instead.\n",
      "  Dataframe_final = Dataframe_final.append(Dataframe)\n",
      "C:\\Users\\Frank\\AppData\\Local\\Temp\\ipykernel_23304\\1105863710.py:20: FutureWarning: The frame.append method is deprecated and will be removed from pandas in a future version. Use pandas.concat instead.\n",
      "  Dataframe_final = Dataframe_final.append(Dataframe)\n",
      "C:\\Users\\Frank\\AppData\\Local\\Temp\\ipykernel_23304\\1105863710.py:20: FutureWarning: The frame.append method is deprecated and will be removed from pandas in a future version. Use pandas.concat instead.\n",
      "  Dataframe_final = Dataframe_final.append(Dataframe)\n",
      "C:\\Users\\Frank\\AppData\\Local\\Temp\\ipykernel_23304\\1105863710.py:20: FutureWarning: The frame.append method is deprecated and will be removed from pandas in a future version. Use pandas.concat instead.\n",
      "  Dataframe_final = Dataframe_final.append(Dataframe)\n",
      "C:\\Users\\Frank\\AppData\\Local\\Temp\\ipykernel_23304\\1105863710.py:20: FutureWarning: The frame.append method is deprecated and will be removed from pandas in a future version. Use pandas.concat instead.\n",
      "  Dataframe_final = Dataframe_final.append(Dataframe)\n",
      "C:\\Users\\Frank\\AppData\\Local\\Temp\\ipykernel_23304\\1105863710.py:20: FutureWarning: The frame.append method is deprecated and will be removed from pandas in a future version. Use pandas.concat instead.\n",
      "  Dataframe_final = Dataframe_final.append(Dataframe)\n",
      "C:\\Users\\Frank\\AppData\\Local\\Temp\\ipykernel_23304\\1105863710.py:20: FutureWarning: The frame.append method is deprecated and will be removed from pandas in a future version. Use pandas.concat instead.\n",
      "  Dataframe_final = Dataframe_final.append(Dataframe)\n",
      "C:\\Users\\Frank\\AppData\\Local\\Temp\\ipykernel_23304\\1105863710.py:20: FutureWarning: The frame.append method is deprecated and will be removed from pandas in a future version. Use pandas.concat instead.\n",
      "  Dataframe_final = Dataframe_final.append(Dataframe)\n",
      "C:\\Users\\Frank\\AppData\\Local\\Temp\\ipykernel_23304\\1105863710.py:20: FutureWarning: The frame.append method is deprecated and will be removed from pandas in a future version. Use pandas.concat instead.\n",
      "  Dataframe_final = Dataframe_final.append(Dataframe)\n",
      "C:\\Users\\Frank\\AppData\\Local\\Temp\\ipykernel_23304\\1105863710.py:20: FutureWarning: The frame.append method is deprecated and will be removed from pandas in a future version. Use pandas.concat instead.\n",
      "  Dataframe_final = Dataframe_final.append(Dataframe)\n",
      "C:\\Users\\Frank\\AppData\\Local\\Temp\\ipykernel_23304\\1105863710.py:20: FutureWarning: The frame.append method is deprecated and will be removed from pandas in a future version. Use pandas.concat instead.\n",
      "  Dataframe_final = Dataframe_final.append(Dataframe)\n",
      "C:\\Users\\Frank\\AppData\\Local\\Temp\\ipykernel_23304\\1105863710.py:20: FutureWarning: The frame.append method is deprecated and will be removed from pandas in a future version. Use pandas.concat instead.\n",
      "  Dataframe_final = Dataframe_final.append(Dataframe)\n",
      "C:\\Users\\Frank\\AppData\\Local\\Temp\\ipykernel_23304\\1105863710.py:20: FutureWarning: The frame.append method is deprecated and will be removed from pandas in a future version. Use pandas.concat instead.\n",
      "  Dataframe_final = Dataframe_final.append(Dataframe)\n",
      "C:\\Users\\Frank\\AppData\\Local\\Temp\\ipykernel_23304\\1105863710.py:20: FutureWarning: The frame.append method is deprecated and will be removed from pandas in a future version. Use pandas.concat instead.\n",
      "  Dataframe_final = Dataframe_final.append(Dataframe)\n",
      "C:\\Users\\Frank\\AppData\\Local\\Temp\\ipykernel_23304\\1105863710.py:20: FutureWarning: The frame.append method is deprecated and will be removed from pandas in a future version. Use pandas.concat instead.\n",
      "  Dataframe_final = Dataframe_final.append(Dataframe)\n",
      "C:\\Users\\Frank\\AppData\\Local\\Temp\\ipykernel_23304\\1105863710.py:20: FutureWarning: The frame.append method is deprecated and will be removed from pandas in a future version. Use pandas.concat instead.\n",
      "  Dataframe_final = Dataframe_final.append(Dataframe)\n",
      "C:\\Users\\Frank\\AppData\\Local\\Temp\\ipykernel_23304\\1105863710.py:20: FutureWarning: The frame.append method is deprecated and will be removed from pandas in a future version. Use pandas.concat instead.\n",
      "  Dataframe_final = Dataframe_final.append(Dataframe)\n",
      "C:\\Users\\Frank\\AppData\\Local\\Temp\\ipykernel_23304\\1105863710.py:20: FutureWarning: The frame.append method is deprecated and will be removed from pandas in a future version. Use pandas.concat instead.\n",
      "  Dataframe_final = Dataframe_final.append(Dataframe)\n",
      "C:\\Users\\Frank\\AppData\\Local\\Temp\\ipykernel_23304\\1105863710.py:20: FutureWarning: The frame.append method is deprecated and will be removed from pandas in a future version. Use pandas.concat instead.\n",
      "  Dataframe_final = Dataframe_final.append(Dataframe)\n",
      "C:\\Users\\Frank\\AppData\\Local\\Temp\\ipykernel_23304\\1105863710.py:20: FutureWarning: The frame.append method is deprecated and will be removed from pandas in a future version. Use pandas.concat instead.\n",
      "  Dataframe_final = Dataframe_final.append(Dataframe)\n",
      "C:\\Users\\Frank\\AppData\\Local\\Temp\\ipykernel_23304\\1105863710.py:20: FutureWarning: The frame.append method is deprecated and will be removed from pandas in a future version. Use pandas.concat instead.\n",
      "  Dataframe_final = Dataframe_final.append(Dataframe)\n",
      "C:\\Users\\Frank\\AppData\\Local\\Temp\\ipykernel_23304\\1105863710.py:20: FutureWarning: The frame.append method is deprecated and will be removed from pandas in a future version. Use pandas.concat instead.\n",
      "  Dataframe_final = Dataframe_final.append(Dataframe)\n",
      "C:\\Users\\Frank\\AppData\\Local\\Temp\\ipykernel_23304\\1105863710.py:20: FutureWarning: The frame.append method is deprecated and will be removed from pandas in a future version. Use pandas.concat instead.\n",
      "  Dataframe_final = Dataframe_final.append(Dataframe)\n",
      "C:\\Users\\Frank\\AppData\\Local\\Temp\\ipykernel_23304\\1105863710.py:20: FutureWarning: The frame.append method is deprecated and will be removed from pandas in a future version. Use pandas.concat instead.\n",
      "  Dataframe_final = Dataframe_final.append(Dataframe)\n",
      "C:\\Users\\Frank\\AppData\\Local\\Temp\\ipykernel_23304\\1105863710.py:20: FutureWarning: The frame.append method is deprecated and will be removed from pandas in a future version. Use pandas.concat instead.\n",
      "  Dataframe_final = Dataframe_final.append(Dataframe)\n",
      "C:\\Users\\Frank\\AppData\\Local\\Temp\\ipykernel_23304\\1105863710.py:20: FutureWarning: The frame.append method is deprecated and will be removed from pandas in a future version. Use pandas.concat instead.\n",
      "  Dataframe_final = Dataframe_final.append(Dataframe)\n",
      "C:\\Users\\Frank\\AppData\\Local\\Temp\\ipykernel_23304\\1105863710.py:20: FutureWarning: The frame.append method is deprecated and will be removed from pandas in a future version. Use pandas.concat instead.\n",
      "  Dataframe_final = Dataframe_final.append(Dataframe)\n",
      "C:\\Users\\Frank\\AppData\\Local\\Temp\\ipykernel_23304\\1105863710.py:20: FutureWarning: The frame.append method is deprecated and will be removed from pandas in a future version. Use pandas.concat instead.\n",
      "  Dataframe_final = Dataframe_final.append(Dataframe)\n",
      "C:\\Users\\Frank\\AppData\\Local\\Temp\\ipykernel_23304\\1105863710.py:20: FutureWarning: The frame.append method is deprecated and will be removed from pandas in a future version. Use pandas.concat instead.\n",
      "  Dataframe_final = Dataframe_final.append(Dataframe)\n",
      "C:\\Users\\Frank\\AppData\\Local\\Temp\\ipykernel_23304\\1105863710.py:20: FutureWarning: The frame.append method is deprecated and will be removed from pandas in a future version. Use pandas.concat instead.\n",
      "  Dataframe_final = Dataframe_final.append(Dataframe)\n",
      "C:\\Users\\Frank\\AppData\\Local\\Temp\\ipykernel_23304\\1105863710.py:20: FutureWarning: The frame.append method is deprecated and will be removed from pandas in a future version. Use pandas.concat instead.\n",
      "  Dataframe_final = Dataframe_final.append(Dataframe)\n",
      "C:\\Users\\Frank\\AppData\\Local\\Temp\\ipykernel_23304\\1105863710.py:20: FutureWarning: The frame.append method is deprecated and will be removed from pandas in a future version. Use pandas.concat instead.\n",
      "  Dataframe_final = Dataframe_final.append(Dataframe)\n",
      "C:\\Users\\Frank\\AppData\\Local\\Temp\\ipykernel_23304\\1105863710.py:20: FutureWarning: The frame.append method is deprecated and will be removed from pandas in a future version. Use pandas.concat instead.\n",
      "  Dataframe_final = Dataframe_final.append(Dataframe)\n",
      "C:\\Users\\Frank\\AppData\\Local\\Temp\\ipykernel_23304\\1105863710.py:20: FutureWarning: The frame.append method is deprecated and will be removed from pandas in a future version. Use pandas.concat instead.\n",
      "  Dataframe_final = Dataframe_final.append(Dataframe)\n",
      "C:\\Users\\Frank\\AppData\\Local\\Temp\\ipykernel_23304\\1105863710.py:20: FutureWarning: The frame.append method is deprecated and will be removed from pandas in a future version. Use pandas.concat instead.\n",
      "  Dataframe_final = Dataframe_final.append(Dataframe)\n",
      "C:\\Users\\Frank\\AppData\\Local\\Temp\\ipykernel_23304\\1105863710.py:20: FutureWarning: The frame.append method is deprecated and will be removed from pandas in a future version. Use pandas.concat instead.\n",
      "  Dataframe_final = Dataframe_final.append(Dataframe)\n",
      "C:\\Users\\Frank\\AppData\\Local\\Temp\\ipykernel_23304\\1105863710.py:20: FutureWarning: The frame.append method is deprecated and will be removed from pandas in a future version. Use pandas.concat instead.\n",
      "  Dataframe_final = Dataframe_final.append(Dataframe)\n",
      "C:\\Users\\Frank\\AppData\\Local\\Temp\\ipykernel_23304\\1105863710.py:20: FutureWarning: The frame.append method is deprecated and will be removed from pandas in a future version. Use pandas.concat instead.\n",
      "  Dataframe_final = Dataframe_final.append(Dataframe)\n",
      "C:\\Users\\Frank\\AppData\\Local\\Temp\\ipykernel_23304\\1105863710.py:20: FutureWarning: The frame.append method is deprecated and will be removed from pandas in a future version. Use pandas.concat instead.\n",
      "  Dataframe_final = Dataframe_final.append(Dataframe)\n",
      "C:\\Users\\Frank\\AppData\\Local\\Temp\\ipykernel_23304\\1105863710.py:20: FutureWarning: The frame.append method is deprecated and will be removed from pandas in a future version. Use pandas.concat instead.\n",
      "  Dataframe_final = Dataframe_final.append(Dataframe)\n",
      "C:\\Users\\Frank\\AppData\\Local\\Temp\\ipykernel_23304\\1105863710.py:20: FutureWarning: The frame.append method is deprecated and will be removed from pandas in a future version. Use pandas.concat instead.\n",
      "  Dataframe_final = Dataframe_final.append(Dataframe)\n",
      "C:\\Users\\Frank\\AppData\\Local\\Temp\\ipykernel_23304\\1105863710.py:20: FutureWarning: The frame.append method is deprecated and will be removed from pandas in a future version. Use pandas.concat instead.\n",
      "  Dataframe_final = Dataframe_final.append(Dataframe)\n",
      "C:\\Users\\Frank\\AppData\\Local\\Temp\\ipykernel_23304\\1105863710.py:20: FutureWarning: The frame.append method is deprecated and will be removed from pandas in a future version. Use pandas.concat instead.\n",
      "  Dataframe_final = Dataframe_final.append(Dataframe)\n",
      "C:\\Users\\Frank\\AppData\\Local\\Temp\\ipykernel_23304\\1105863710.py:20: FutureWarning: The frame.append method is deprecated and will be removed from pandas in a future version. Use pandas.concat instead.\n",
      "  Dataframe_final = Dataframe_final.append(Dataframe)\n",
      "C:\\Users\\Frank\\AppData\\Local\\Temp\\ipykernel_23304\\1105863710.py:20: FutureWarning: The frame.append method is deprecated and will be removed from pandas in a future version. Use pandas.concat instead.\n",
      "  Dataframe_final = Dataframe_final.append(Dataframe)\n",
      "C:\\Users\\Frank\\AppData\\Local\\Temp\\ipykernel_23304\\1105863710.py:20: FutureWarning: The frame.append method is deprecated and will be removed from pandas in a future version. Use pandas.concat instead.\n",
      "  Dataframe_final = Dataframe_final.append(Dataframe)\n",
      "C:\\Users\\Frank\\AppData\\Local\\Temp\\ipykernel_23304\\1105863710.py:20: FutureWarning: The frame.append method is deprecated and will be removed from pandas in a future version. Use pandas.concat instead.\n",
      "  Dataframe_final = Dataframe_final.append(Dataframe)\n",
      "C:\\Users\\Frank\\AppData\\Local\\Temp\\ipykernel_23304\\1105863710.py:20: FutureWarning: The frame.append method is deprecated and will be removed from pandas in a future version. Use pandas.concat instead.\n",
      "  Dataframe_final = Dataframe_final.append(Dataframe)\n",
      "C:\\Users\\Frank\\AppData\\Local\\Temp\\ipykernel_23304\\1105863710.py:20: FutureWarning: The frame.append method is deprecated and will be removed from pandas in a future version. Use pandas.concat instead.\n",
      "  Dataframe_final = Dataframe_final.append(Dataframe)\n",
      "C:\\Users\\Frank\\AppData\\Local\\Temp\\ipykernel_23304\\1105863710.py:20: FutureWarning: The frame.append method is deprecated and will be removed from pandas in a future version. Use pandas.concat instead.\n",
      "  Dataframe_final = Dataframe_final.append(Dataframe)\n",
      "C:\\Users\\Frank\\AppData\\Local\\Temp\\ipykernel_23304\\1105863710.py:20: FutureWarning: The frame.append method is deprecated and will be removed from pandas in a future version. Use pandas.concat instead.\n",
      "  Dataframe_final = Dataframe_final.append(Dataframe)\n",
      "C:\\Users\\Frank\\AppData\\Local\\Temp\\ipykernel_23304\\1105863710.py:20: FutureWarning: The frame.append method is deprecated and will be removed from pandas in a future version. Use pandas.concat instead.\n",
      "  Dataframe_final = Dataframe_final.append(Dataframe)\n",
      "C:\\Users\\Frank\\AppData\\Local\\Temp\\ipykernel_23304\\1105863710.py:20: FutureWarning: The frame.append method is deprecated and will be removed from pandas in a future version. Use pandas.concat instead.\n",
      "  Dataframe_final = Dataframe_final.append(Dataframe)\n",
      "C:\\Users\\Frank\\AppData\\Local\\Temp\\ipykernel_23304\\1105863710.py:20: FutureWarning: The frame.append method is deprecated and will be removed from pandas in a future version. Use pandas.concat instead.\n",
      "  Dataframe_final = Dataframe_final.append(Dataframe)\n",
      "C:\\Users\\Frank\\AppData\\Local\\Temp\\ipykernel_23304\\1105863710.py:20: FutureWarning: The frame.append method is deprecated and will be removed from pandas in a future version. Use pandas.concat instead.\n",
      "  Dataframe_final = Dataframe_final.append(Dataframe)\n",
      "C:\\Users\\Frank\\AppData\\Local\\Temp\\ipykernel_23304\\1105863710.py:20: FutureWarning: The frame.append method is deprecated and will be removed from pandas in a future version. Use pandas.concat instead.\n",
      "  Dataframe_final = Dataframe_final.append(Dataframe)\n",
      "C:\\Users\\Frank\\AppData\\Local\\Temp\\ipykernel_23304\\1105863710.py:20: FutureWarning: The frame.append method is deprecated and will be removed from pandas in a future version. Use pandas.concat instead.\n",
      "  Dataframe_final = Dataframe_final.append(Dataframe)\n",
      "C:\\Users\\Frank\\AppData\\Local\\Temp\\ipykernel_23304\\1105863710.py:20: FutureWarning: The frame.append method is deprecated and will be removed from pandas in a future version. Use pandas.concat instead.\n",
      "  Dataframe_final = Dataframe_final.append(Dataframe)\n",
      "C:\\Users\\Frank\\AppData\\Local\\Temp\\ipykernel_23304\\1105863710.py:20: FutureWarning: The frame.append method is deprecated and will be removed from pandas in a future version. Use pandas.concat instead.\n",
      "  Dataframe_final = Dataframe_final.append(Dataframe)\n"
     ]
    }
   ],
   "source": [
    "#parrallelize simulation per 20 threads\n",
    "number_of_sim = 100\n",
    "thread_sim = 20\n",
    "thread_list = []\n",
    "Dataframe_final = pd.DataFrame(columns=['id', 'time', 'S', 'I', 'R'])\n",
    "Queu_sim = queue.Queue()\n",
    "for x in tqdm(range(number_of_sim), desc='Simulating Main (mode: '+mode +')'):\n",
    "    Dataframe = pd.DataFrame(columns=['id', 'time', 'S', 'I', 'R'])\n",
    "    thread = threading.Thread(target=sim, args=(Dataframe, x, mode, Queu_sim), name='thread' + str(x))\n",
    "    thread.start()\n",
    "    thread_list.append(thread)\n",
    "    if len(thread_list) >= thread_sim:\n",
    "        #reduce thread list\n",
    "        thread = thread_list.pop(0)\n",
    "        thread.join()\n",
    "for thread in tqdm(thread_list, desc='Reducing thread Simulating (mode: '+mode +')'):\n",
    "    thread.join()\n",
    "while not Queu_sim.empty():\n",
    "    Dataframe = Queu_sim.get()\n",
    "    Dataframe_final = Dataframe_final.append(Dataframe)"
   ]
  },
  {
   "cell_type": "code",
   "execution_count": 17,
   "metadata": {},
   "outputs": [],
   "source": [
    "string_df = 'Dataframe'+str(node_count)+'_'+str(infection_rate)+'_'+str(recovery_rate)+'_'+str(contact_radius)+'_'+str(time_steps)+'_'+str(observe_per_day)+'_'+str(t_mf)+ str(mode)+'geo.csv'\n",
    "Dataframe_final.to_csv(string_df, index=False)"
   ]
  },
  {
   "cell_type": "code",
   "execution_count": 18,
   "metadata": {},
   "outputs": [],
   "source": [
    "def drawgraph(tempograph, t):\n",
    "    graph = tempograph[t][0]\n",
    "    custom_pos = tempograph[t][1]\n",
    "    colors = [color_map[graph.nodes[node]['state']] for node in graph.nodes()]\n",
    "    nx.draw(graph, pos = custom_pos, node_color = colors, with_labels = True)"
   ]
  },
  {
   "cell_type": "code",
   "execution_count": 19,
   "metadata": {},
   "outputs": [
    {
     "ename": "NameError",
     "evalue": "name 'tempograph' is not defined",
     "output_type": "error",
     "traceback": [
      "\u001b[1;31m---------------------------------------------------------------------------\u001b[0m",
      "\u001b[1;31mNameError\u001b[0m                                 Traceback (most recent call last)",
      "Cell \u001b[1;32mIn[19], line 2\u001b[0m\n\u001b[0;32m      1\u001b[0m \u001b[39mfrom\u001b[39;00m \u001b[39mipywidgets\u001b[39;00m \u001b[39mimport\u001b[39;00m \u001b[39m*\u001b[39m\n\u001b[1;32m----> 2\u001b[0m interact(drawgraph, tempograph \u001b[39m=\u001b[39m fixed(tempograph), t \u001b[39m=\u001b[39m widgets\u001b[39m.\u001b[39mIntSlider(\u001b[39mmin\u001b[39m\u001b[39m=\u001b[39m\u001b[39m0\u001b[39m, \u001b[39mmax\u001b[39m\u001b[39m=\u001b[39mtime_steps\u001b[39m-\u001b[39m\u001b[39m1\u001b[39m, step\u001b[39m=\u001b[39m\u001b[39m1\u001b[39m, value\u001b[39m=\u001b[39m\u001b[39m0\u001b[39m))\n",
      "\u001b[1;31mNameError\u001b[0m: name 'tempograph' is not defined"
     ]
    }
   ],
   "source": [
    "from ipywidgets import *\n",
    "interact(drawgraph, tempograph = fixed(tempograph), t = widgets.IntSlider(min=0, max=time_steps-1, step=1, value=0))"
   ]
  },
  {
   "cell_type": "code",
   "execution_count": 20,
   "metadata": {},
   "outputs": [
    {
     "data": {
      "text/plain": [
       "<Axes: xlabel='time'>"
      ]
     },
     "execution_count": 20,
     "metadata": {},
     "output_type": "execute_result"
    },
    {
     "data": {
      "image/png": "[encoded data removed]",
      "text/plain": [
       "<Figure size 640x480 with 1 Axes>"
      ]
     },
     "metadata": {},
     "output_type": "display_data"
    }
   ],
   "source": [
    "Dataframe.groupby('time').mean().plot()"
   ]
  },
  {
   "cell_type": "code",
   "execution_count": null,
   "metadata": {},
   "outputs": [],
   "source": [
    "fig, ax = plt.subplots()\n",
    "plt.plot(DataframeMf.groupby('time').mean()['I'], label='MF')\n",
    "plt.plot(Dataframe.groupby('time').mean()['I'], label='R')\n",
    "plt.legend()"
   ]
  }
 ],
 "metadata": {
  "kernelspec": {
   "display_name": "datalysis",
   "language": "python",
   "name": "python3"
  },
  "language_info": {
   "codemirror_mode": {
    "name": "ipython",
    "version": 3
   },
   "file_extension": ".py",
   "mimetype": "text/x-python",
   "name": "python",
   "nbconvert_exporter": "python",
   "pygments_lexer": "ipython3",
   "version": "3.10.9"
  },
  "orig_nbformat": 4
 },
 "nbformat": 4,
 "nbformat_minor": 2
}
