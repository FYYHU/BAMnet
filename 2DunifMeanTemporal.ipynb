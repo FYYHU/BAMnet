{
 "cells": [
  {
   "cell_type": "code",
   "execution_count": 82,
   "metadata": {},
   "outputs": [],
   "source": [
    "import networkx as nx\n",
    "from matplotlib import pyplot as plt\n",
    "import random\n",
    "import math\n",
    "from matplotlib import pyplot as plt\n",
    "from matplotlib.animation import FuncAnimation\n",
    "import numpy as np\n",
    "import pandas as pd\n",
    "from tqdm.notebook import tqdm\n",
    "import threading\n",
    "import queue"
   ]
  },
  {
   "cell_type": "code",
   "execution_count": 83,
   "metadata": {},
   "outputs": [],
   "source": [
    "G = nx.Graph(time =3)\n",
    "G.graph['S'] = 0\n",
    "G.graph['I'] = 0\n",
    "G.graph['R'] = 0"
   ]
  },
  {
   "cell_type": "code",
   "execution_count": 84,
   "metadata": {},
   "outputs": [
    {
     "data": {
      "text/plain": [
       "0"
      ]
     },
     "execution_count": 84,
     "metadata": {},
     "output_type": "execute_result"
    }
   ],
   "source": [
    "G.graph['S']"
   ]
  },
  {
   "cell_type": "code",
   "execution_count": 85,
   "metadata": {},
   "outputs": [],
   "source": [
    "def initialize_graph(node_count, contact_radius = 1, queue = None, time = 0, edge_dist = 'geometric'):\n",
    "    square_size = math.sqrt(node_count) #size of square\n",
    "    custom_pos = {} #custom position for plotting\n",
    "    G = nx.Graph(time = time) #initialize graph\n",
    "    G.graph['S_count'] = 0 #initialize S count\n",
    "    G.graph['I_count'] = 0 #initialize I count\n",
    "    G.graph['R_count'] = 0 #initialize R count\n",
    "    for i in range(node_count):\n",
    "        G.add_node(i)\n",
    "        G.nodes[i]['state'] = 'S'  \n",
    "        x,y = random.uniform(0, square_size), random.uniform(0, square_size)\n",
    "        G.nodes[i]['pos'] = (x,y)\n",
    "        G.nodes[i]['observed'] = False\n",
    "        G.nodes[i]['SIR_prob'] = [1,0,0]\n",
    "        G.nodes[i]['infected_time'] = 0\n",
    "        G.graph['S_count'] += 1\n",
    "        custom_pos[i] = (x,y)\n",
    "    #initialize node state, color, and position\n",
    "    #set the colors\n",
    "    #S = susceptible (green)\n",
    "    #I = infected (red)\n",
    "    #R = recovered (blue)\n",
    "    #set the edges\n",
    "    edges = []\n",
    "    if edge_dist == 'geometric':\n",
    "        edges = nx.geometric_edges(G, radius = contact_radius)\n",
    "    elif edge_dist == 'exp':\n",
    "        p_dist = lambda distance: math.exp(-distance/contact_radius)\n",
    "        edges = nx.soft_random_geometric_graph(node_count, radius = contact_radius, pos=custom_pos, p = 2, p_dist=p_dist).edges\n",
    "    G.add_edges_from(edges)\n",
    "    queue.put((G, custom_pos))"
   ]
  },
  {
   "cell_type": "code",
   "execution_count": 86,
   "metadata": {},
   "outputs": [],
   "source": [
    "def infectRandomNode(G, node_count):\n",
    "    #infect a random node that is susceptible\n",
    "    sample = random.sample(G.nodes(), G.number_of_nodes())\n",
    "    count = 0\n",
    "    for i in sample:\n",
    "        if (count >= node_count):\n",
    "            break\n",
    "        if G.nodes[i]['state'] == 'S':\n",
    "            G.nodes[i]['state'] = 'I'\n",
    "            G.graph['I_count'] += 1\n",
    "            count += 1"
   ]
  },
  {
   "cell_type": "code",
   "execution_count": 87,
   "metadata": {},
   "outputs": [],
   "source": [
    "def update(G_t1, G_t2, infection_rate, recovery_rate):\n",
    "    #update Gt2 based on G_t1 assuming they are similar node size\n",
    "    #copy graph data:\n",
    "    #copy SIR counts\n",
    "    G_t2.graph['S_count'] = G_t1.graph['S_count']\n",
    "    G_t2.graph['I_count'] = G_t1.graph['I_count']\n",
    "    G_t2.graph['R_count'] = G_t1.graph['R_count']\n",
    "    for node in G_t1.nodes():\n",
    "        G_t2.nodes[node]['observed'] = G_t1.nodes[node]['observed']\n",
    "        #check node state\n",
    "        if G_t1.nodes[node]['state'] == 'S':\n",
    "            for neighbor in G_t1.neighbors(node):\n",
    "                if G_t1.nodes[neighbor]['state'] == 'I':\n",
    "                    if random.uniform(0, 1) < infection_rate:\n",
    "                        G_t2.nodes[node]['state'] = 'I'\n",
    "                        G_t2.graph['I_count'] += 1\n",
    "                        break\n",
    "        elif G_t1.nodes[node]['state'] == 'I':\n",
    "            if random.uniform(0, 1) < recovery_rate:\n",
    "                G_t2.nodes[node]['state'] = 'R'\n",
    "                G_t2.graph['R_count'] += 1\n",
    "            else:\n",
    "                G_t2.nodes[node]['state'] = 'I'\n",
    "            G_t2.nodes[node]['infected_time'] = G_t1.nodes[node]['infected_time'] + 1\n",
    "        else:\n",
    "            G_t2.nodes[node]['state'] = 'R'\n",
    "        #copy SIR probabilities\n",
    "        G_t2.nodes[node]['SIR_prob'] = G_t1.nodes[node]['SIR_prob']\n",
    "    return G_t2"
   ]
  },
  {
   "cell_type": "code",
   "execution_count": 88,
   "metadata": {},
   "outputs": [],
   "source": [
    "def SurroundInfectionRate(graph, node, infection_rate):\n",
    "    #total infection rate of a node based on the infection rate of its neighbors\n",
    "    neighbors = list(graph.neighbors(node))\n",
    "    result = 0\n",
    "    for neighbor in neighbors:\n",
    "        result += infection_rate * graph.nodes[neighbor]['SIR_prob'][1]\n",
    "    return result"
   ]
  },
  {
   "cell_type": "code",
   "execution_count": 89,
   "metadata": {},
   "outputs": [],
   "source": [
    "def MeanFieldInference(graph_t, infection_rate, recovery_rate):\n",
    "    predicted_state_t1 = {}\n",
    "    for node in graph_t.nodes():\n",
    "        factor = SurroundInfectionRate(graph_t, node, infection_rate)\n",
    "        Ps = graph_t.nodes[node]['SIR_prob'][0]*(1-factor)\n",
    "        Pi = (1-recovery_rate)*graph_t.nodes[node]['SIR_prob'][1] + graph_t.nodes[node]['SIR_prob'][0]*factor\n",
    "        Pr = graph_t.nodes[node]['SIR_prob'][2] + recovery_rate*graph_t.nodes[node]['SIR_prob'][1]\n",
    "        predicted_state_t1[node] = [Ps, Pi, Pr]\n",
    "    return predicted_state_t1"
   ]
  },
  {
   "cell_type": "code",
   "execution_count": 90,
   "metadata": {},
   "outputs": [],
   "source": [
    "#given temporal graph, node, and state, update the node's state probability in the past delta time steps to be the given state\n",
    "def BackloopUpdate(temporal_graphs,t ,delta, node, state):\n",
    "    mapper = {'S':[1,0,0], 'I':[0,1,0], 'R':[0,0,1]}\n",
    "    lower_bound = max(0, t-delta)\n",
    "    for i in range(lower_bound, t):\n",
    "        temporal_graphs[i][0].nodes[node]['SIR_prob'] = mapper[state]\n",
    "        temporal_graphs[i][0].nodes[node]['observed'] = True"
   ]
  },
  {
   "cell_type": "code",
   "execution_count": 91,
   "metadata": {},
   "outputs": [],
   "source": [
    "#@param: give a list of nodes that are to be observed\n",
    "#@pre: the list of nodes are ordered by rank\n",
    "#@modifies: the state probability of the nodes in the past delta time steps\n",
    "def DetectObserve(obs, temporal_graphs, observe_per_day, t, delta):\n",
    "    #robustness check\n",
    "    if (delta >= t):\n",
    "        delta = t\n",
    "    list_of_nodes = []\n",
    "    count = 0\n",
    "    for entry in obs:\n",
    "        if count == observe_per_day:\n",
    "            return list_of_nodes\n",
    "        state = temporal_graphs[t][0].nodes[entry]['state']\n",
    "        obs_state = temporal_graphs[t][0].nodes[entry]['observed']\n",
    "        #check if the node is already observed if so, skip\n",
    "        if obs_state == True:\n",
    "            continue\n",
    "        if state == 'S':\n",
    "            BackloopUpdate(temporal_graphs, t, delta, entry, 'S')\n",
    "        elif state == 'I':\n",
    "            BackloopUpdate(temporal_graphs, t, delta, entry, 'I')\n",
    "        elif state == 'R':\n",
    "            BackloopUpdate(temporal_graphs, t, delta, entry, 'R')\n",
    "        count += 1\n",
    "        list_of_nodes.append(entry)\n",
    "    return list_of_nodes\n",
    "        \n",
    "        "
   ]
  },
  {
   "cell_type": "code",
   "execution_count": 92,
   "metadata": {},
   "outputs": [],
   "source": [
    "#given a graph, a list of nodes, set the nodes to be observed and put into removed\n",
    "def SetRemove(graph, list):\n",
    "    for entry in list:\n",
    "        #print(entry)\n",
    "        graph.nodes[entry]['observed'] = True\n",
    "        graph.nodes[entry]['SIR_prob'] = [0,0,1]\n",
    "        graph.nodes[entry]['state'] = 'R'"
   ]
  },
  {
   "cell_type": "code",
   "execution_count": 93,
   "metadata": {},
   "outputs": [],
   "source": [
    "#sample a list of size s_count nodes that are not observed\n",
    "def Sampler(graph, s_count):\n",
    "    nodes = list(graph.nodes())\n",
    "    random.shuffle(nodes)\n",
    "    result = []\n",
    "    count = 0\n",
    "    for node in nodes:\n",
    "        if graph.nodes[node]['observed']==False:\n",
    "            result.append(node)\n",
    "            count += 1\n",
    "        if count == s_count:\n",
    "            return result\n",
    "    return result"
   ]
  },
  {
   "cell_type": "code",
   "execution_count": 94,
   "metadata": {},
   "outputs": [],
   "source": [
    "#@generate nr_graphs graph and put them into temporal_graph_dict and return it\n",
    "def generate_graphs(node_count, contact_radius, nr_graphs):\n",
    "    que_graphs = queue.Queue()\n",
    "    thread_list = []\n",
    "    for t in range(0, nr_graphs):\n",
    "        thread = threading.Thread(target=initialize_graph, args=(node_count, contact_radius, que_graphs, t), name='thread'+str(t))\n",
    "        thread.start()\n",
    "        #print('thread'+str(t)+' started')\n",
    "        thread_list.append(thread)\n",
    "\n",
    "    for thread in tqdm(thread_list, desc='Generating Graphs'):\n",
    "        #print('thread'+thread.name +' joined')\n",
    "        thread.join()\n",
    "    temporal_graph_dict = {}\n",
    "    while not que_graphs.empty():\n",
    "        G,custom_pos = que_graphs.get()\n",
    "        temporal_graph_dict[G.graph['time']] = (G, custom_pos)\n",
    "    return temporal_graph_dict"
   ]
  },
  {
   "cell_type": "code",
   "execution_count": 95,
   "metadata": {},
   "outputs": [],
   "source": [
    "def contactTrace(temporalgraph_dic, t, node, delta):\n",
    "    #count the number of nodes that are infected in the past delta days\n",
    "    count = 0\n",
    "    for i in range(t-delta, t):\n",
    "        for neighbor in temporalgraph_dic[i][0].neighbors(node):\n",
    "            if temporalgraph_dic[i][0].nodes[neighbor]['observed'] == True and temporalgraph_dic[i][0].nodes[neighbor]['state'] == 'I':\n",
    "                count += 1\n",
    "    return count"
   ]
  },
  {
   "cell_type": "code",
   "execution_count": 96,
   "metadata": {},
   "outputs": [],
   "source": [
    "def self_reporting(temporal_graph_dict, t, delta, self_report_days):\n",
    "    for node in temporal_graph_dict[t][0].nodes():\n",
    "        if temporal_graph_dict[t][0].nodes[node]['observed'] == False and temporal_graph_dict[t][0].nodes[node]['state'] == 'I':\n",
    "            if temporal_graph_dict[t][0].nodes[node]['infected_time'] >= self_report_days:\n",
    "                print('self reporting')\n",
    "                temporal_graph_dict[t][0].nodes[node]['observed'] = True\n",
    "                temporal_graph_dict[t][0].nodes[node]['SIR_prob'] = [0,0,1]\n",
    "                temporal_graph_dict[t][0].nodes[node]['state'] = 'R'\n",
    "                BackloopUpdate(temporal_graph_dict, t, delta, node, 'I')"
   ]
  },
  {
   "cell_type": "code",
   "execution_count": 97,
   "metadata": {},
   "outputs": [],
   "source": [
    "#mode = 'MF', 'R', 'None'\n",
    "node_count = 20\n",
    "infection_rate = 0.05\n",
    "recovery_rate = 0\n",
    "contact_radius = 2\n",
    "time_steps = 80\n",
    "temporal_graph_dict = {}\n",
    "observe_per_day = 0\n",
    "t_mf = 15\n",
    "t_ct = 5\n",
    "delay = 10\n",
    "mode = 'CT'\n",
    "initial_infection = 2\n",
    "#infected person will report themselves after n days and will quarantine themselves(put into removed)\n",
    "self_report = 5\n",
    "self_report_mode = True\n",
    "color_map = {'S': 'green', 'I': 'red', 'R': 'blue'}\n",
    "def sim(DataFrame, id, mode, queue = None, self_report_mode = False):\n",
    "    temporal_graph_dict = generate_graphs(node_count, contact_radius, time_steps)\n",
    "    infectRandomNode(temporal_graph_dict[0][0], initial_infection)\n",
    "    graph = temporal_graph_dict[0][0]\n",
    "    S, I, R = graph.graph['S_count'], graph.graph['I_count'], graph.graph['R_count']\n",
    "    DataFrame.loc[len(DataFrame)] = [id, 0, S, I, R]\n",
    "    #string for description of loop:\n",
    "    desc = 'Simulating (mode: '+mode +')'\n",
    "    for i in tqdm(range(1, time_steps), desc=desc):\n",
    "        graph = update(temporal_graph_dict[i-1][0], temporal_graph_dict[i][0], infection_rate, recovery_rate)\n",
    "        #people will report themselves after n days if they are infected\n",
    "        if self_report_mode == True:\n",
    "            self_reporting(temporal_graph_dict, i, t_ct, self_report)\n",
    "        if (mode == 'MF' and i > delay):\n",
    "            pred = MeanFieldInference(graph, infection_rate, recovery_rate)\n",
    "            sort_pred = sorted(pred.items(), key=lambda x: x[1])\n",
    "            node_list = [node[0] for node in sort_pred]\n",
    "            #print(\"day\", i)\n",
    "            #print(pred)\n",
    "            #print(node_list)\n",
    "            list_remove = DetectObserve(node_list, temporal_graph_dict,observe_per_day,i, t_mf)\n",
    "            #print(list_remove)\n",
    "            #set the nodes to be observed and put into removed in the current graph\n",
    "            SetRemove(temporal_graph_dict[i][0], list_remove)\n",
    "            #make sure i-t_mf is not negative\n",
    "            lower_bound = max(0, i-t_mf)\n",
    "            for time in range(lower_bound, i):\n",
    "                pred = MeanFieldInference(temporal_graph_dict[time][0], infection_rate, recovery_rate)\n",
    "                for node in temporal_graph_dict[time][0].nodes():\n",
    "                    if temporal_graph_dict[time][0].nodes[node]['observed'] == False:\n",
    "                        temporal_graph_dict[time][0].nodes[node]['SIR_prob'] = pred[node]\n",
    "        elif (mode == 'R' and i > delay):\n",
    "            #print(\"dayR\", i)\n",
    "            sample = Sampler(temporal_graph_dict[i][0], observe_per_day)\n",
    "            SetRemove(temporal_graph_dict[i][0], sample)\n",
    "        elif (mode == 'CT' and i > delay):\n",
    "            ranker = {}\n",
    "            for node in temporal_graph_dict[i][0].nodes():\n",
    "                if temporal_graph_dict[i][0].nodes[node]['observed'] == False:\n",
    "                    ranker[node] = contactTrace(temporal_graph_dict, i, node, t_ct)\n",
    "            sort_ranker = sorted(ranker.items(), key=lambda x: x[1])\n",
    "            node_list = [node[0] for node in sort_ranker]\n",
    "            list_remove = DetectObserve(node_list, temporal_graph_dict,observe_per_day,i, t_ct)\n",
    "            SetRemove(temporal_graph_dict[i][0], list_remove)\n",
    "        S, I, R = graph.graph['S_count'], graph.graph['I_count'], graph.graph['R_count']\n",
    "        DataFrame.loc[len(DataFrame)] = [id, i, S, I, R]\n",
    "    if queue != None:\n",
    "        queue.put(DataFrame)\n",
    "    return temporal_graph_dict"
   ]
  },
  {
   "cell_type": "code",
   "execution_count": 98,
   "metadata": {},
   "outputs": [
    {
     "data": {
      "application/vnd.jupyter.widget-view+json": {
       "model_id": "917bcd04851c406188ade9c325343c98",
       "version_major": 2,
       "version_minor": 0
      },
      "text/plain": [
       "Generating Graphs:   0%|          | 0/80 [00:00<?, ?it/s]"
      ]
     },
     "metadata": {},
     "output_type": "display_data"
    },
    {
     "name": "stderr",
     "output_type": "stream",
     "text": [
      "C:\\Users\\Frank\\AppData\\Local\\Temp\\ipykernel_6368\\1360817927.py:3: DeprecationWarning: Sampling from a set deprecated\n",
      "since Python 3.9 and will be removed in a subsequent version.\n",
      "  sample = random.sample(G.nodes(), G.number_of_nodes())\n"
     ]
    },
    {
     "data": {
      "application/vnd.jupyter.widget-view+json": {
       "model_id": "9eaa9342afa44629b32f5c1f13516ac5",
       "version_major": 2,
       "version_minor": 0
      },
      "text/plain": [
       "Simulating (mode: CT):   0%|          | 0/79 [00:00<?, ?it/s]"
      ]
     },
     "metadata": {},
     "output_type": "display_data"
    },
    {
     "name": "stdout",
     "output_type": "stream",
     "text": [
      "self reporting\n",
      "self reporting\n",
      "self reporting\n",
      "self reporting\n",
      "self reporting\n",
      "self reporting\n",
      "self reporting\n",
      "self reporting\n",
      "self reporting\n",
      "self reporting\n",
      "self reporting\n",
      "self reporting\n",
      "self reporting\n",
      "self reporting\n"
     ]
    }
   ],
   "source": [
    "Dataframe = pd.DataFrame(columns=['id', 'time', 'S', 'I', 'R'])\n",
    "tempograph = sim(Dataframe, 1, mode, self_report_mode=True)"
   ]
  },
  {
   "cell_type": "code",
   "execution_count": 58,
   "metadata": {},
   "outputs": [],
   "source": [
    "def drawgraph(tempograph, t):\n",
    "    graph = tempograph[t][0]\n",
    "    custom_pos = tempograph[t][1]\n",
    "    colors = [color_map[graph.nodes[node]['state']] for node in graph.nodes()]\n",
    "    nx.draw(graph, pos = custom_pos, node_color = colors, with_labels = True)"
   ]
  },
  {
   "cell_type": "code",
   "execution_count": 99,
   "metadata": {},
   "outputs": [
    {
     "data": {
      "application/vnd.jupyter.widget-view+json": {
       "model_id": "9d610010e5364e7288c06bcd814bfa34",
       "version_major": 2,
       "version_minor": 0
      },
      "text/plain": [
       "interactive(children=(IntSlider(value=0, description='t', max=79), Output()), _dom_classes=('widget-interact',…"
      ]
     },
     "metadata": {},
     "output_type": "display_data"
    },
    {
     "data": {
      "text/plain": [
       "<function __main__.drawgraph(tempograph, t)>"
      ]
     },
     "execution_count": 99,
     "metadata": {},
     "output_type": "execute_result"
    }
   ],
   "source": [
    "from ipywidgets import *\n",
    "interact(drawgraph, tempograph = fixed(tempograph), t = widgets.IntSlider(min=0, max=time_steps-1, step=1, value=0))"
   ]
  },
  {
   "cell_type": "code",
   "execution_count": 18,
   "metadata": {},
   "outputs": [
    {
     "data": {
      "application/vnd.jupyter.widget-view+json": {
       "model_id": "b37f0e6667e44daaab5836e270f3d5eb",
       "version_major": 2,
       "version_minor": 0
      },
      "text/plain": [
       "Simulating Main (mode: CT):   0%|          | 0/100 [00:00<?, ?it/s]"
      ]
     },
     "metadata": {},
     "output_type": "display_data"
    },
    {
     "data": {
      "application/vnd.jupyter.widget-view+json": {
       "model_id": "8cce76809f4f466090832764347c7d8d",
       "version_major": 2,
       "version_minor": 0
      },
      "text/plain": [
       "Generating Graphs:   0%|          | 0/80 [01:12<?, ?it/s]"
      ]
     },
     "metadata": {},
     "output_type": "display_data"
    },
    {
     "name": "stderr",
     "output_type": "stream",
     "text": [
      "C:\\Users\\Frank\\AppData\\Local\\Temp\\ipykernel_31324\\3500474817.py:3: DeprecationWarning: Sampling from a set deprecated\n",
      "since Python 3.9 and will be removed in a subsequent version.\n",
      "  sample = random.sample(G.nodes(), G.number_of_nodes())\n"
     ]
    },
    {
     "data": {
      "application/vnd.jupyter.widget-view+json": {
       "model_id": "3944f7b4644b4997b0319ee5fb32307b",
       "version_major": 2,
       "version_minor": 0
      },
      "text/plain": [
       "Generating Graphs:   0%|          | 0/80 [00:04<?, ?it/s]"
      ]
     },
     "metadata": {},
     "output_type": "display_data"
    },
    {
     "data": {
      "application/vnd.jupyter.widget-view+json": {
       "model_id": "67b3f52aec9d481ea6504ad8fd725d42",
       "version_major": 2,
       "version_minor": 0
      },
      "text/plain": [
       "Generating Graphs:   0%|          | 0/80 [00:21<?, ?it/s]"
      ]
     },
     "metadata": {},
     "output_type": "display_data"
    },
    {
     "data": {
      "application/vnd.jupyter.widget-view+json": {
       "model_id": "95db67372845448da4366fe38f8a0f46",
       "version_major": 2,
       "version_minor": 0
      },
      "text/plain": [
       "Generating Graphs:   0%|          | 0/80 [00:08<?, ?it/s]"
      ]
     },
     "metadata": {},
     "output_type": "display_data"
    },
    {
     "data": {
      "application/vnd.jupyter.widget-view+json": {
       "model_id": "a5875ebcc33f48399c7842696f6c994d",
       "version_major": 2,
       "version_minor": 0
      },
      "text/plain": [
       "Generating Graphs:   0%|          | 0/80 [00:40<?, ?it/s]"
      ]
     },
     "metadata": {},
     "output_type": "display_data"
    },
    {
     "data": {
      "application/vnd.jupyter.widget-view+json": {
       "model_id": "379d00dcc8b64160845b7aa12f5352a4",
       "version_major": 2,
       "version_minor": 0
      },
      "text/plain": [
       "Generating Graphs:   0%|          | 0/80 [01:36<?, ?it/s]"
      ]
     },
     "metadata": {},
     "output_type": "display_data"
    },
    {
     "data": {
      "application/vnd.jupyter.widget-view+json": {
       "model_id": "69ae1b9aad2e44bc96a2a908fd1528e1",
       "version_major": 2,
       "version_minor": 0
      },
      "text/plain": [
       "Generating Graphs:   0%|          | 0/80 [00:17<?, ?it/s]"
      ]
     },
     "metadata": {},
     "output_type": "display_data"
    },
    {
     "data": {
      "application/vnd.jupyter.widget-view+json": {
       "model_id": "ddda55651a1a489baff4b699663d1fb9",
       "version_major": 2,
       "version_minor": 0
      },
      "text/plain": [
       "Generating Graphs:   0%|          | 0/80 [00:01<?, ?it/s]"
      ]
     },
     "metadata": {},
     "output_type": "display_data"
    },
    {
     "data": {
      "application/vnd.jupyter.widget-view+json": {
       "model_id": "4775a50783e144d3b2d4eef734ce2eb1",
       "version_major": 2,
       "version_minor": 0
      },
      "text/plain": [
       "Generating Graphs:   0%|          | 0/80 [00:05<?, ?it/s]"
      ]
     },
     "metadata": {},
     "output_type": "display_data"
    },
    {
     "data": {
      "application/vnd.jupyter.widget-view+json": {
       "model_id": "42cc78cea18849678fc08c5c981929ef",
       "version_major": 2,
       "version_minor": 0
      },
      "text/plain": [
       "Simulating (mode: CT):   0%|          | 0/79 [00:00<?, ?it/s]"
      ]
     },
     "metadata": {},
     "output_type": "display_data"
    },
    {
     "data": {
      "application/vnd.jupyter.widget-view+json": {
       "model_id": "9579e239e1254d21bdc565e9c7b8903e",
       "version_major": 2,
       "version_minor": 0
      },
      "text/plain": [
       "Generating Graphs:   0%|          | 0/80 [00:27<?, ?it/s]"
      ]
     },
     "metadata": {},
     "output_type": "display_data"
    },
    {
     "name": "stderr",
     "output_type": "stream",
     "text": [
      "C:\\Users\\Frank\\AppData\\Local\\Temp\\ipykernel_31324\\3500474817.py:3: DeprecationWarning: Sampling from a set deprecated\n",
      "since Python 3.9 and will be removed in a subsequent version.\n",
      "  sample = random.sample(G.nodes(), G.number_of_nodes())\n"
     ]
    },
    {
     "data": {
      "application/vnd.jupyter.widget-view+json": {
       "model_id": "c54ed82320474e81ae833b9655bcd1e1",
       "version_major": 2,
       "version_minor": 0
      },
      "text/plain": [
       "Generating Graphs:   0%|          | 0/80 [00:44<?, ?it/s]"
      ]
     },
     "metadata": {},
     "output_type": "display_data"
    },
    {
     "name": "stderr",
     "output_type": "stream",
     "text": [
      "C:\\Users\\Frank\\AppData\\Local\\Temp\\ipykernel_31324\\3500474817.py:3: DeprecationWarning: Sampling from a set deprecated\n",
      "since Python 3.9 and will be removed in a subsequent version.\n",
      "  sample = random.sample(G.nodes(), G.number_of_nodes())\n"
     ]
    },
    {
     "data": {
      "application/vnd.jupyter.widget-view+json": {
       "model_id": "1aae842f80f84c7599e0ddde42a3bc09",
       "version_major": 2,
       "version_minor": 0
      },
      "text/plain": [
       "Simulating (mode: CT):   0%|          | 0/79 [00:05<?, ?it/s]"
      ]
     },
     "metadata": {},
     "output_type": "display_data"
    },
    {
     "data": {
      "application/vnd.jupyter.widget-view+json": {
       "model_id": "1a2cbfae45a64cc49fc9b9c614640c59",
       "version_major": 2,
       "version_minor": 0
      },
      "text/plain": [
       "Generating Graphs:   0%|          | 0/80 [00:42<?, ?it/s]"
      ]
     },
     "metadata": {},
     "output_type": "display_data"
    },
    {
     "name": "stderr",
     "output_type": "stream",
     "text": [
      "C:\\Users\\Frank\\AppData\\Local\\Temp\\ipykernel_31324\\3500474817.py:3: DeprecationWarning: Sampling from a set deprecated\n",
      "since Python 3.9 and will be removed in a subsequent version.\n",
      "  sample = random.sample(G.nodes(), G.number_of_nodes())\n"
     ]
    },
    {
     "data": {
      "application/vnd.jupyter.widget-view+json": {
       "model_id": "36e4b6348f234562bcb41c1e3efd20f0",
       "version_major": 2,
       "version_minor": 0
      },
      "text/plain": [
       "Generating Graphs:   0%|          | 0/80 [00:57<?, ?it/s]"
      ]
     },
     "metadata": {},
     "output_type": "display_data"
    },
    {
     "data": {
      "application/vnd.jupyter.widget-view+json": {
       "model_id": "e5b96c25d66e4f4a8a0aed30104cc9b2",
       "version_major": 2,
       "version_minor": 0
      },
      "text/plain": [
       "Simulating (mode: CT):   0%|          | 0/79 [00:46<?, ?it/s]"
      ]
     },
     "metadata": {},
     "output_type": "display_data"
    },
    {
     "data": {
      "application/vnd.jupyter.widget-view+json": {
       "model_id": "5714c208964d4f1b949e324e934d338a",
       "version_major": 2,
       "version_minor": 0
      },
      "text/plain": [
       "Generating Graphs:   0%|          | 0/80 [01:39<?, ?it/s]"
      ]
     },
     "metadata": {},
     "output_type": "display_data"
    },
    {
     "name": "stderr",
     "output_type": "stream",
     "text": [
      "C:\\Users\\Frank\\AppData\\Local\\Temp\\ipykernel_31324\\3500474817.py:3: DeprecationWarning: Sampling from a set deprecated\n",
      "since Python 3.9 and will be removed in a subsequent version.\n",
      "  sample = random.sample(G.nodes(), G.number_of_nodes())\n"
     ]
    },
    {
     "data": {
      "application/vnd.jupyter.widget-view+json": {
       "model_id": "2ca0679b581d4f63ab4d7a7070095c87",
       "version_major": 2,
       "version_minor": 0
      },
      "text/plain": [
       "Generating Graphs:   0%|          | 0/80 [00:59<?, ?it/s]"
      ]
     },
     "metadata": {},
     "output_type": "display_data"
    },
    {
     "name": "stderr",
     "output_type": "stream",
     "text": [
      "C:\\Users\\Frank\\AppData\\Local\\Temp\\ipykernel_31324\\3500474817.py:3: DeprecationWarning: Sampling from a set deprecated\n",
      "since Python 3.9 and will be removed in a subsequent version.\n",
      "  sample = random.sample(G.nodes(), G.number_of_nodes())\n"
     ]
    },
    {
     "data": {
      "application/vnd.jupyter.widget-view+json": {
       "model_id": "ac07910e31ef45ef87ecb22c07f1b702",
       "version_major": 2,
       "version_minor": 0
      },
      "text/plain": [
       "Generating Graphs:   0%|          | 0/80 [02:08<?, ?it/s]"
      ]
     },
     "metadata": {},
     "output_type": "display_data"
    },
    {
     "name": "stderr",
     "output_type": "stream",
     "text": [
      "C:\\Users\\Frank\\AppData\\Local\\Temp\\ipykernel_31324\\3500474817.py:3: DeprecationWarning: Sampling from a set deprecated\n",
      "since Python 3.9 and will be removed in a subsequent version.\n",
      "  sample = random.sample(G.nodes(), G.number_of_nodes())\n"
     ]
    },
    {
     "data": {
      "application/vnd.jupyter.widget-view+json": {
       "model_id": "04407acf7acc4509ac3110c81ac315d0",
       "version_major": 2,
       "version_minor": 0
      },
      "text/plain": [
       "Simulating (mode: CT):   0%|          | 0/79 [00:57<?, ?it/s]"
      ]
     },
     "metadata": {},
     "output_type": "display_data"
    },
    {
     "data": {
      "application/vnd.jupyter.widget-view+json": {
       "model_id": "02dd62f918464a23838f78df3c6435d9",
       "version_major": 2,
       "version_minor": 0
      },
      "text/plain": [
       "Generating Graphs:   0%|          | 0/80 [01:07<?, ?it/s]"
      ]
     },
     "metadata": {},
     "output_type": "display_data"
    },
    {
     "name": "stderr",
     "output_type": "stream",
     "text": [
      "C:\\Users\\Frank\\AppData\\Local\\Temp\\ipykernel_31324\\3500474817.py:3: DeprecationWarning: Sampling from a set deprecated\n",
      "since Python 3.9 and will be removed in a subsequent version.\n",
      "  sample = random.sample(G.nodes(), G.number_of_nodes())\n"
     ]
    },
    {
     "data": {
      "application/vnd.jupyter.widget-view+json": {
       "model_id": "b99c149c70f44315a186cb44f0556b45",
       "version_major": 2,
       "version_minor": 0
      },
      "text/plain": [
       "Simulating (mode: CT):   0%|          | 0/79 [00:54<?, ?it/s]"
      ]
     },
     "metadata": {},
     "output_type": "display_data"
    },
    {
     "data": {
      "application/vnd.jupyter.widget-view+json": {
       "model_id": "5d8bd3bd5c2947698c02875dcb12b671",
       "version_major": 2,
       "version_minor": 0
      },
      "text/plain": [
       "Generating Graphs:   0%|          | 0/80 [01:47<?, ?it/s]"
      ]
     },
     "metadata": {},
     "output_type": "display_data"
    },
    {
     "data": {
      "application/vnd.jupyter.widget-view+json": {
       "model_id": "4dedc9e654ef444cae9cb63ef3959414",
       "version_major": 2,
       "version_minor": 0
      },
      "text/plain": [
       "Simulating (mode: CT):   0%|          | 0/79 [01:20<?, ?it/s]"
      ]
     },
     "metadata": {},
     "output_type": "display_data"
    },
    {
     "data": {
      "application/vnd.jupyter.widget-view+json": {
       "model_id": "071ad483c5374343aceaee0c22d5ef5a",
       "version_major": 2,
       "version_minor": 0
      },
      "text/plain": [
       "Generating Graphs:   0%|          | 0/80 [01:51<?, ?it/s]"
      ]
     },
     "metadata": {},
     "output_type": "display_data"
    },
    {
     "data": {
      "application/vnd.jupyter.widget-view+json": {
       "model_id": "c7aac4df2e9b4c1fba275f173a98f68b",
       "version_major": 2,
       "version_minor": 0
      },
      "text/plain": [
       "Simulating (mode: CT):   0%|          | 0/79 [00:48<?, ?it/s]"
      ]
     },
     "metadata": {},
     "output_type": "display_data"
    },
    {
     "data": {
      "application/vnd.jupyter.widget-view+json": {
       "model_id": "dbb9365ce3a444c2adb819104f859802",
       "version_major": 2,
       "version_minor": 0
      },
      "text/plain": [
       "Simulating (mode: CT):   0%|          | 0/79 [01:41<?, ?it/s]"
      ]
     },
     "metadata": {},
     "output_type": "display_data"
    },
    {
     "data": {
      "application/vnd.jupyter.widget-view+json": {
       "model_id": "13d9fc47a59247e584cee071a051efb4",
       "version_major": 2,
       "version_minor": 0
      },
      "text/plain": [
       "Generating Graphs:   0%|          | 0/80 [01:51<?, ?it/s]"
      ]
     },
     "metadata": {},
     "output_type": "display_data"
    },
    {
     "name": "stderr",
     "output_type": "stream",
     "text": [
      "C:\\Users\\Frank\\AppData\\Local\\Temp\\ipykernel_31324\\3500474817.py:3: DeprecationWarning: Sampling from a set deprecated\n",
      "since Python 3.9 and will be removed in a subsequent version.\n",
      "  sample = random.sample(G.nodes(), G.number_of_nodes())\n"
     ]
    },
    {
     "data": {
      "application/vnd.jupyter.widget-view+json": {
       "model_id": "1c696085fc9345689a777153f5092a03",
       "version_major": 2,
       "version_minor": 0
      },
      "text/plain": [
       "Simulating (mode: CT):   0%|          | 0/79 [02:23<?, ?it/s]"
      ]
     },
     "metadata": {},
     "output_type": "display_data"
    },
    {
     "data": {
      "application/vnd.jupyter.widget-view+json": {
       "model_id": "5c190ac9717e4a04b2de2bcd667dee21",
       "version_major": 2,
       "version_minor": 0
      },
      "text/plain": [
       "Simulating (mode: CT):   0%|          | 0/79 [01:48<?, ?it/s]"
      ]
     },
     "metadata": {},
     "output_type": "display_data"
    },
    {
     "data": {
      "application/vnd.jupyter.widget-view+json": {
       "model_id": "e4d5b2d8fc5c4f5c9baad5f6ee8c1315",
       "version_major": 2,
       "version_minor": 0
      },
      "text/plain": [
       "Simulating (mode: CT):   0%|          | 0/79 [02:35<?, ?it/s]"
      ]
     },
     "metadata": {},
     "output_type": "display_data"
    },
    {
     "name": "stderr",
     "output_type": "stream",
     "text": [
      "C:\\Users\\Frank\\AppData\\Local\\Temp\\ipykernel_31324\\3500474817.py:3: DeprecationWarning: Sampling from a set deprecated\n",
      "since Python 3.9 and will be removed in a subsequent version.\n",
      "  sample = random.sample(G.nodes(), G.number_of_nodes())\n",
      "C:\\Users\\Frank\\AppData\\Local\\Temp\\ipykernel_31324\\3500474817.py:3: DeprecationWarning: Sampling from a set deprecated\n",
      "since Python 3.9 and will be removed in a subsequent version.\n",
      "  sample = random.sample(G.nodes(), G.number_of_nodes())\n"
     ]
    },
    {
     "data": {
      "application/vnd.jupyter.widget-view+json": {
       "model_id": "1914fb7f1efd4d8eb6d7d2aafc34bbc9",
       "version_major": 2,
       "version_minor": 0
      },
      "text/plain": [
       "Simulating (mode: CT):   0%|          | 0/79 [02:06<?, ?it/s]"
      ]
     },
     "metadata": {},
     "output_type": "display_data"
    },
    {
     "data": {
      "application/vnd.jupyter.widget-view+json": {
       "model_id": "c20e3a4cda684cce893f386187a18d4f",
       "version_major": 2,
       "version_minor": 0
      },
      "text/plain": [
       "Simulating (mode: CT):   0%|          | 0/79 [02:01<?, ?it/s]"
      ]
     },
     "metadata": {},
     "output_type": "display_data"
    },
    {
     "data": {
      "application/vnd.jupyter.widget-view+json": {
       "model_id": "2d30bb7754d048cfba39ab2df6b793e0",
       "version_major": 2,
       "version_minor": 0
      },
      "text/plain": [
       "Simulating (mode: CT):   0%|          | 0/79 [02:44<?, ?it/s]"
      ]
     },
     "metadata": {},
     "output_type": "display_data"
    },
    {
     "data": {
      "application/vnd.jupyter.widget-view+json": {
       "model_id": "63abfc265f4f4ff18c449b484cd75e3d",
       "version_major": 2,
       "version_minor": 0
      },
      "text/plain": [
       "Simulating (mode: CT):   0%|          | 0/79 [03:17<?, ?it/s]"
      ]
     },
     "metadata": {},
     "output_type": "display_data"
    },
    {
     "data": {
      "application/vnd.jupyter.widget-view+json": {
       "model_id": "56d36ae252ea4913a47059934a96b29e",
       "version_major": 2,
       "version_minor": 0
      },
      "text/plain": [
       "Simulating (mode: CT):   0%|          | 0/79 [04:05<?, ?it/s]"
      ]
     },
     "metadata": {},
     "output_type": "display_data"
    },
    {
     "data": {
      "application/vnd.jupyter.widget-view+json": {
       "model_id": "f22759ccafaf4e638b2572f2db05a631",
       "version_major": 2,
       "version_minor": 0
      },
      "text/plain": [
       "Simulating (mode: CT):   0%|          | 0/79 [04:07<?, ?it/s]"
      ]
     },
     "metadata": {},
     "output_type": "display_data"
    },
    {
     "data": {
      "application/vnd.jupyter.widget-view+json": {
       "model_id": "fb548d80e90843958f3bc22c9063b36e",
       "version_major": 2,
       "version_minor": 0
      },
      "text/plain": [
       "Generating Graphs:   0%|          | 0/80 [01:49<?, ?it/s]"
      ]
     },
     "metadata": {},
     "output_type": "display_data"
    },
    {
     "data": {
      "application/vnd.jupyter.widget-view+json": {
       "model_id": "28ee739eaf00408fb60688dfa42bbf5c",
       "version_major": 2,
       "version_minor": 0
      },
      "text/plain": [
       "Simulating (mode: CT):   0%|          | 0/79 [03:37<?, ?it/s]"
      ]
     },
     "metadata": {},
     "output_type": "display_data"
    },
    {
     "data": {
      "application/vnd.jupyter.widget-view+json": {
       "model_id": "f2385172393e467dbad9300626d91353",
       "version_major": 2,
       "version_minor": 0
      },
      "text/plain": [
       "Generating Graphs:   0%|          | 0/80 [02:02<?, ?it/s]"
      ]
     },
     "metadata": {},
     "output_type": "display_data"
    },
    {
     "data": {
      "application/vnd.jupyter.widget-view+json": {
       "model_id": "92740581e6d54674a600306e60f590d1",
       "version_major": 2,
       "version_minor": 0
      },
      "text/plain": [
       "Simulating (mode: CT):   0%|          | 0/79 [01:27<?, ?it/s]"
      ]
     },
     "metadata": {},
     "output_type": "display_data"
    },
    {
     "data": {
      "application/vnd.jupyter.widget-view+json": {
       "model_id": "c4df35e53f5646cfa5b728ab95984062",
       "version_major": 2,
       "version_minor": 0
      },
      "text/plain": [
       "Simulating (mode: CT):   0%|          | 0/79 [01:30<?, ?it/s]"
      ]
     },
     "metadata": {},
     "output_type": "display_data"
    },
    {
     "name": "stderr",
     "output_type": "stream",
     "text": [
      "C:\\Users\\Frank\\AppData\\Local\\Temp\\ipykernel_31324\\3500474817.py:3: DeprecationWarning: Sampling from a set deprecated\n",
      "since Python 3.9 and will be removed in a subsequent version.\n",
      "  sample = random.sample(G.nodes(), G.number_of_nodes())\n",
      "C:\\Users\\Frank\\AppData\\Local\\Temp\\ipykernel_31324\\3500474817.py:3: DeprecationWarning: Sampling from a set deprecated\n",
      "since Python 3.9 and will be removed in a subsequent version.\n",
      "  sample = random.sample(G.nodes(), G.number_of_nodes())\n"
     ]
    },
    {
     "data": {
      "application/vnd.jupyter.widget-view+json": {
       "model_id": "1a6011b54ce248608ef14f65e3759d88",
       "version_major": 2,
       "version_minor": 0
      },
      "text/plain": [
       "Simulating (mode: CT):   0%|          | 0/79 [03:47<?, ?it/s]"
      ]
     },
     "metadata": {},
     "output_type": "display_data"
    },
    {
     "data": {
      "application/vnd.jupyter.widget-view+json": {
       "model_id": "a00c69b7087d4075af6502c192d1c9f3",
       "version_major": 2,
       "version_minor": 0
      },
      "text/plain": [
       "Generating Graphs:   0%|          | 0/80 [00:19<?, ?it/s]"
      ]
     },
     "metadata": {},
     "output_type": "display_data"
    },
    {
     "data": {
      "application/vnd.jupyter.widget-view+json": {
       "model_id": "62a2da420c4e4cc5ae4b2f7ce67e6c18",
       "version_major": 2,
       "version_minor": 0
      },
      "text/plain": [
       "Generating Graphs:   0%|          | 0/80 [04:12<?, ?it/s]"
      ]
     },
     "metadata": {},
     "output_type": "display_data"
    },
    {
     "data": {
      "application/vnd.jupyter.widget-view+json": {
       "model_id": "42129a2c9e784b5baaad00cdff8c7caf",
       "version_major": 2,
       "version_minor": 0
      },
      "text/plain": [
       "Simulating (mode: CT):   0%|          | 0/79 [03:38<?, ?it/s]"
      ]
     },
     "metadata": {},
     "output_type": "display_data"
    },
    {
     "data": {
      "application/vnd.jupyter.widget-view+json": {
       "model_id": "e2e9e00217a74a4981db6240f727a212",
       "version_major": 2,
       "version_minor": 0
      },
      "text/plain": [
       "Generating Graphs:   0%|          | 0/80 [03:58<?, ?it/s]"
      ]
     },
     "metadata": {},
     "output_type": "display_data"
    },
    {
     "data": {
      "application/vnd.jupyter.widget-view+json": {
       "model_id": "ad1f9d10afd141ecbf6e1be32f962d01",
       "version_major": 2,
       "version_minor": 0
      },
      "text/plain": [
       "Generating Graphs:   0%|          | 0/80 [02:22<?, ?it/s]"
      ]
     },
     "metadata": {},
     "output_type": "display_data"
    },
    {
     "data": {
      "application/vnd.jupyter.widget-view+json": {
       "model_id": "6ad2b6e85bd74c7fbe86395d50c21ebd",
       "version_major": 2,
       "version_minor": 0
      },
      "text/plain": [
       "Generating Graphs:   0%|          | 0/80 [03:53<?, ?it/s]"
      ]
     },
     "metadata": {},
     "output_type": "display_data"
    },
    {
     "data": {
      "application/vnd.jupyter.widget-view+json": {
       "model_id": "9438abb4a6544ba1b45b5a983b0e84d1",
       "version_major": 2,
       "version_minor": 0
      },
      "text/plain": [
       "Generating Graphs:   0%|          | 0/80 [03:59<?, ?it/s]"
      ]
     },
     "metadata": {},
     "output_type": "display_data"
    },
    {
     "data": {
      "application/vnd.jupyter.widget-view+json": {
       "model_id": "ae727cb3858440f796de0bd98b49e99a",
       "version_major": 2,
       "version_minor": 0
      },
      "text/plain": [
       "Generating Graphs:   0%|          | 0/80 [04:01<?, ?it/s]"
      ]
     },
     "metadata": {},
     "output_type": "display_data"
    },
    {
     "data": {
      "application/vnd.jupyter.widget-view+json": {
       "model_id": "3ee8020e1e804069848fea6ec8a040e3",
       "version_major": 2,
       "version_minor": 0
      },
      "text/plain": [
       "Generating Graphs:   0%|          | 0/80 [00:39<?, ?it/s]"
      ]
     },
     "metadata": {},
     "output_type": "display_data"
    },
    {
     "data": {
      "application/vnd.jupyter.widget-view+json": {
       "model_id": "8cd7984b7992461c99625040035775d8",
       "version_major": 2,
       "version_minor": 0
      },
      "text/plain": [
       "Generating Graphs:   0%|          | 0/80 [00:37<?, ?it/s]"
      ]
     },
     "metadata": {},
     "output_type": "display_data"
    },
    {
     "data": {
      "application/vnd.jupyter.widget-view+json": {
       "model_id": "34d228e59d014d7e8e4665f4b83d07b2",
       "version_major": 2,
       "version_minor": 0
      },
      "text/plain": [
       "Generating Graphs:   0%|          | 0/80 [00:19<?, ?it/s]"
      ]
     },
     "metadata": {},
     "output_type": "display_data"
    },
    {
     "data": {
      "application/vnd.jupyter.widget-view+json": {
       "model_id": "e31358ff6d1b4408b5c2e735116b445c",
       "version_major": 2,
       "version_minor": 0
      },
      "text/plain": [
       "Generating Graphs:   0%|          | 0/80 [00:21<?, ?it/s]"
      ]
     },
     "metadata": {},
     "output_type": "display_data"
    },
    {
     "data": {
      "application/vnd.jupyter.widget-view+json": {
       "model_id": "c6e36fc4f02a4f648f2ab83c0f69a90a",
       "version_major": 2,
       "version_minor": 0
      },
      "text/plain": [
       "Generating Graphs:   0%|          | 0/80 [00:21<?, ?it/s]"
      ]
     },
     "metadata": {},
     "output_type": "display_data"
    },
    {
     "data": {
      "application/vnd.jupyter.widget-view+json": {
       "model_id": "39217b138618413dbb1db3031f11b2c5",
       "version_major": 2,
       "version_minor": 0
      },
      "text/plain": [
       "Generating Graphs:   0%|          | 0/80 [00:18<?, ?it/s]"
      ]
     },
     "metadata": {},
     "output_type": "display_data"
    },
    {
     "data": {
      "application/vnd.jupyter.widget-view+json": {
       "model_id": "14f6acdb713944698086ee24cc95fc8f",
       "version_major": 2,
       "version_minor": 0
      },
      "text/plain": [
       "Generating Graphs:   0%|          | 0/80 [00:00<?, ?it/s]"
      ]
     },
     "metadata": {},
     "output_type": "display_data"
    },
    {
     "data": {
      "application/vnd.jupyter.widget-view+json": {
       "model_id": "fad1d48a0a8c447e8b7020edd198c442",
       "version_major": 2,
       "version_minor": 0
      },
      "text/plain": [
       "Generating Graphs:   0%|          | 0/80 [02:47<?, ?it/s]"
      ]
     },
     "metadata": {},
     "output_type": "display_data"
    },
    {
     "data": {
      "application/vnd.jupyter.widget-view+json": {
       "model_id": "bb69413ccc694059a55b1bc5ecd44971",
       "version_major": 2,
       "version_minor": 0
      },
      "text/plain": [
       "Generating Graphs:   0%|          | 0/80 [02:51<?, ?it/s]"
      ]
     },
     "metadata": {},
     "output_type": "display_data"
    },
    {
     "data": {
      "application/vnd.jupyter.widget-view+json": {
       "model_id": "e8631ad9327f43e2bf2fb8f7366b8f71",
       "version_major": 2,
       "version_minor": 0
      },
      "text/plain": [
       "Generating Graphs:   0%|          | 0/80 [03:58<?, ?it/s]"
      ]
     },
     "metadata": {},
     "output_type": "display_data"
    },
    {
     "data": {
      "application/vnd.jupyter.widget-view+json": {
       "model_id": "3357e061d06d4f6b95c39e5ab1595bf3",
       "version_major": 2,
       "version_minor": 0
      },
      "text/plain": [
       "Generating Graphs:   0%|          | 0/80 [00:18<?, ?it/s]"
      ]
     },
     "metadata": {},
     "output_type": "display_data"
    },
    {
     "name": "stderr",
     "output_type": "stream",
     "text": [
      "C:\\Users\\Frank\\AppData\\Local\\Temp\\ipykernel_31324\\3500474817.py:3: DeprecationWarning: Sampling from a set deprecated\n",
      "since Python 3.9 and will be removed in a subsequent version.\n",
      "  sample = random.sample(G.nodes(), G.number_of_nodes())\n",
      "C:\\Users\\Frank\\AppData\\Local\\Temp\\ipykernel_31324\\3500474817.py:3: DeprecationWarning: Sampling from a set deprecated\n",
      "since Python 3.9 and will be removed in a subsequent version.\n",
      "  sample = random.sample(G.nodes(), G.number_of_nodes())\n",
      "C:\\Users\\Frank\\AppData\\Local\\Temp\\ipykernel_31324\\3500474817.py:3: DeprecationWarning: Sampling from a set deprecated\n",
      "since Python 3.9 and will be removed in a subsequent version.\n",
      "  sample = random.sample(G.nodes(), G.number_of_nodes())\n",
      "C:\\Users\\Frank\\AppData\\Local\\Temp\\ipykernel_31324\\3500474817.py:3: DeprecationWarning: Sampling from a set deprecated\n",
      "since Python 3.9 and will be removed in a subsequent version.\n",
      "  sample = random.sample(G.nodes(), G.number_of_nodes())\n",
      "C:\\Users\\Frank\\AppData\\Local\\Temp\\ipykernel_31324\\3500474817.py:3: DeprecationWarning: Sampling from a set deprecated\n",
      "since Python 3.9 and will be removed in a subsequent version.\n",
      "  sample = random.sample(G.nodes(), G.number_of_nodes())\n",
      "C:\\Users\\Frank\\AppData\\Local\\Temp\\ipykernel_31324\\3500474817.py:3: DeprecationWarning: Sampling from a set deprecated\n",
      "since Python 3.9 and will be removed in a subsequent version.\n",
      "  sample = random.sample(G.nodes(), G.number_of_nodes())\n",
      "C:\\Users\\Frank\\AppData\\Local\\Temp\\ipykernel_31324\\3500474817.py:3: DeprecationWarning: Sampling from a set deprecated\n",
      "since Python 3.9 and will be removed in a subsequent version.\n",
      "  sample = random.sample(G.nodes(), G.number_of_nodes())\n",
      "C:\\Users\\Frank\\AppData\\Local\\Temp\\ipykernel_31324\\3500474817.py:3: DeprecationWarning: Sampling from a set deprecated\n",
      "since Python 3.9 and will be removed in a subsequent version.\n",
      "  sample = random.sample(G.nodes(), G.number_of_nodes())\n",
      "C:\\Users\\Frank\\AppData\\Local\\Temp\\ipykernel_31324\\3500474817.py:3: DeprecationWarning: Sampling from a set deprecated\n",
      "since Python 3.9 and will be removed in a subsequent version.\n",
      "  sample = random.sample(G.nodes(), G.number_of_nodes())\n"
     ]
    },
    {
     "data": {
      "application/vnd.jupyter.widget-view+json": {
       "model_id": "93b6d9b7e7224b6686805cb8d492e29b",
       "version_major": 2,
       "version_minor": 0
      },
      "text/plain": [
       "Simulating (mode: CT):   0%|          | 0/79 [00:40<?, ?it/s]"
      ]
     },
     "metadata": {},
     "output_type": "display_data"
    },
    {
     "data": {
      "application/vnd.jupyter.widget-view+json": {
       "model_id": "d7e16374d95f49cfb3a3f1063399d9bf",
       "version_major": 2,
       "version_minor": 0
      },
      "text/plain": [
       "Simulating (mode: CT):   0%|          | 0/79 [00:57<?, ?it/s]"
      ]
     },
     "metadata": {},
     "output_type": "display_data"
    },
    {
     "data": {
      "application/vnd.jupyter.widget-view+json": {
       "model_id": "19c6982c2a21483aabc494e0d1285f4b",
       "version_major": 2,
       "version_minor": 0
      },
      "text/plain": [
       "Simulating (mode: CT):   0%|          | 0/79 [01:05<?, ?it/s]"
      ]
     },
     "metadata": {},
     "output_type": "display_data"
    },
    {
     "data": {
      "application/vnd.jupyter.widget-view+json": {
       "model_id": "7e9150f3b6f84511b677f1fa17ef93cf",
       "version_major": 2,
       "version_minor": 0
      },
      "text/plain": [
       "Simulating (mode: CT):   0%|          | 0/79 [01:21<?, ?it/s]"
      ]
     },
     "metadata": {},
     "output_type": "display_data"
    },
    {
     "data": {
      "application/vnd.jupyter.widget-view+json": {
       "model_id": "d1f80036b3b34dfa9947903c09bb0004",
       "version_major": 2,
       "version_minor": 0
      },
      "text/plain": [
       "Simulating (mode: CT):   0%|          | 0/79 [01:39<?, ?it/s]"
      ]
     },
     "metadata": {},
     "output_type": "display_data"
    },
    {
     "data": {
      "application/vnd.jupyter.widget-view+json": {
       "model_id": "aaae6fffa4a64503ae8fb509423584f2",
       "version_major": 2,
       "version_minor": 0
      },
      "text/plain": [
       "Simulating (mode: CT):   0%|          | 0/79 [01:46<?, ?it/s]"
      ]
     },
     "metadata": {},
     "output_type": "display_data"
    },
    {
     "data": {
      "application/vnd.jupyter.widget-view+json": {
       "model_id": "5e62a328657f4d8eb117df74b24defab",
       "version_major": 2,
       "version_minor": 0
      },
      "text/plain": [
       "Simulating (mode: CT):   0%|          | 0/79 [01:46<?, ?it/s]"
      ]
     },
     "metadata": {},
     "output_type": "display_data"
    },
    {
     "data": {
      "application/vnd.jupyter.widget-view+json": {
       "model_id": "f3f5fcb27ba744bd81d97a9148ad9ed6",
       "version_major": 2,
       "version_minor": 0
      },
      "text/plain": [
       "Simulating (mode: CT):   0%|          | 0/79 [02:13<?, ?it/s]"
      ]
     },
     "metadata": {},
     "output_type": "display_data"
    },
    {
     "data": {
      "application/vnd.jupyter.widget-view+json": {
       "model_id": "bc7b2c5befa84428a1bf65d8b33f90d4",
       "version_major": 2,
       "version_minor": 0
      },
      "text/plain": [
       "Simulating (mode: CT):   0%|          | 0/79 [02:37<?, ?it/s]"
      ]
     },
     "metadata": {},
     "output_type": "display_data"
    },
    {
     "data": {
      "application/vnd.jupyter.widget-view+json": {
       "model_id": "28d0a5da329644018a993561ab2d9d11",
       "version_major": 2,
       "version_minor": 0
      },
      "text/plain": [
       "Simulating (mode: CT):   0%|          | 0/79 [02:29<?, ?it/s]"
      ]
     },
     "metadata": {},
     "output_type": "display_data"
    },
    {
     "data": {
      "application/vnd.jupyter.widget-view+json": {
       "model_id": "3e6bb5e65cab4fa18eea5cfacce2500c",
       "version_major": 2,
       "version_minor": 0
      },
      "text/plain": [
       "Generating Graphs:   0%|          | 0/80 [01:53<?, ?it/s]"
      ]
     },
     "metadata": {},
     "output_type": "display_data"
    },
    {
     "data": {
      "application/vnd.jupyter.widget-view+json": {
       "model_id": "af81fd3816744196b631fcde725f7281",
       "version_major": 2,
       "version_minor": 0
      },
      "text/plain": [
       "Simulating (mode: CT):   0%|          | 0/79 [03:02<?, ?it/s]"
      ]
     },
     "metadata": {},
     "output_type": "display_data"
    },
    {
     "data": {
      "application/vnd.jupyter.widget-view+json": {
       "model_id": "56c1665fc9464baab84869fb62913253",
       "version_major": 2,
       "version_minor": 0
      },
      "text/plain": [
       "Simulating (mode: CT):   0%|          | 0/79 [02:43<?, ?it/s]"
      ]
     },
     "metadata": {},
     "output_type": "display_data"
    },
    {
     "data": {
      "application/vnd.jupyter.widget-view+json": {
       "model_id": "5ee3fb61920d454f9eddcdc9d1b1e8a4",
       "version_major": 2,
       "version_minor": 0
      },
      "text/plain": [
       "Simulating (mode: CT):   0%|          | 0/79 [02:47<?, ?it/s]"
      ]
     },
     "metadata": {},
     "output_type": "display_data"
    },
    {
     "data": {
      "application/vnd.jupyter.widget-view+json": {
       "model_id": "49ee36be050747bf96453b934f5a8fe4",
       "version_major": 2,
       "version_minor": 0
      },
      "text/plain": [
       "Simulating (mode: CT):   0%|          | 0/79 [02:56<?, ?it/s]"
      ]
     },
     "metadata": {},
     "output_type": "display_data"
    },
    {
     "data": {
      "application/vnd.jupyter.widget-view+json": {
       "model_id": "0b6d36e1a4404175a834d4194563b49e",
       "version_major": 2,
       "version_minor": 0
      },
      "text/plain": [
       "Generating Graphs:   0%|          | 0/80 [02:19<?, ?it/s]"
      ]
     },
     "metadata": {},
     "output_type": "display_data"
    },
    {
     "data": {
      "application/vnd.jupyter.widget-view+json": {
       "model_id": "afd1d1a49309464cb538f355883e4739",
       "version_major": 2,
       "version_minor": 0
      },
      "text/plain": [
       "Simulating (mode: CT):   0%|          | 0/79 [03:33<?, ?it/s]"
      ]
     },
     "metadata": {},
     "output_type": "display_data"
    },
    {
     "data": {
      "application/vnd.jupyter.widget-view+json": {
       "model_id": "baae20ad5e0c4d4ba451fdbda3f9b867",
       "version_major": 2,
       "version_minor": 0
      },
      "text/plain": [
       "Simulating (mode: CT):   0%|          | 0/79 [03:38<?, ?it/s]"
      ]
     },
     "metadata": {},
     "output_type": "display_data"
    },
    {
     "data": {
      "application/vnd.jupyter.widget-view+json": {
       "model_id": "0b276546a5d243ef83206bd06d09bd0c",
       "version_major": 2,
       "version_minor": 0
      },
      "text/plain": [
       "Simulating (mode: CT):   0%|          | 0/79 [03:21<?, ?it/s]"
      ]
     },
     "metadata": {},
     "output_type": "display_data"
    },
    {
     "data": {
      "application/vnd.jupyter.widget-view+json": {
       "model_id": "7d120b6555d7492787b0ef87005165b8",
       "version_major": 2,
       "version_minor": 0
      },
      "text/plain": [
       "Simulating (mode: CT):   0%|          | 0/79 [03:52<?, ?it/s]"
      ]
     },
     "metadata": {},
     "output_type": "display_data"
    },
    {
     "data": {
      "application/vnd.jupyter.widget-view+json": {
       "model_id": "c912fa6d08e8414ba471a90c16f0a7a3",
       "version_major": 2,
       "version_minor": 0
      },
      "text/plain": [
       "Simulating (mode: CT):   0%|          | 0/79 [00:21<?, ?it/s]"
      ]
     },
     "metadata": {},
     "output_type": "display_data"
    },
    {
     "data": {
      "application/vnd.jupyter.widget-view+json": {
       "model_id": "0b1d97783f634f4190cd025797a3bc0a",
       "version_major": 2,
       "version_minor": 0
      },
      "text/plain": [
       "Simulating (mode: CT):   0%|          | 0/79 [00:18<?, ?it/s]"
      ]
     },
     "metadata": {},
     "output_type": "display_data"
    },
    {
     "data": {
      "application/vnd.jupyter.widget-view+json": {
       "model_id": "c4402541ec5a410fb28fc2eee02009d4",
       "version_major": 2,
       "version_minor": 0
      },
      "text/plain": [
       "Generating Graphs:   0%|          | 0/80 [01:26<?, ?it/s]"
      ]
     },
     "metadata": {},
     "output_type": "display_data"
    },
    {
     "name": "stderr",
     "output_type": "stream",
     "text": [
      "C:\\Users\\Frank\\AppData\\Local\\Temp\\ipykernel_31324\\3500474817.py:3: DeprecationWarning: Sampling from a set deprecated\n",
      "since Python 3.9 and will be removed in a subsequent version.\n",
      "  sample = random.sample(G.nodes(), G.number_of_nodes())\n",
      "C:\\Users\\Frank\\AppData\\Local\\Temp\\ipykernel_31324\\3500474817.py:3: DeprecationWarning: Sampling from a set deprecated\n",
      "since Python 3.9 and will be removed in a subsequent version.\n",
      "  sample = random.sample(G.nodes(), G.number_of_nodes())\n",
      "C:\\Users\\Frank\\AppData\\Local\\Temp\\ipykernel_31324\\3500474817.py:3: DeprecationWarning: Sampling from a set deprecated\n",
      "since Python 3.9 and will be removed in a subsequent version.\n",
      "  sample = random.sample(G.nodes(), G.number_of_nodes())\n"
     ]
    },
    {
     "data": {
      "application/vnd.jupyter.widget-view+json": {
       "model_id": "e9b0140521fc435b8e5e7f6126954c9b",
       "version_major": 2,
       "version_minor": 0
      },
      "text/plain": [
       "Simulating (mode: CT):   0%|          | 0/79 [00:37<?, ?it/s]"
      ]
     },
     "metadata": {},
     "output_type": "display_data"
    },
    {
     "data": {
      "application/vnd.jupyter.widget-view+json": {
       "model_id": "97b1ac01f6754263840314fdd483f7b7",
       "version_major": 2,
       "version_minor": 0
      },
      "text/plain": [
       "Generating Graphs:   0%|          | 0/80 [00:42<?, ?it/s]"
      ]
     },
     "metadata": {},
     "output_type": "display_data"
    },
    {
     "name": "stderr",
     "output_type": "stream",
     "text": [
      "C:\\Users\\Frank\\AppData\\Local\\Temp\\ipykernel_31324\\3500474817.py:3: DeprecationWarning: Sampling from a set deprecated\n",
      "since Python 3.9 and will be removed in a subsequent version.\n",
      "  sample = random.sample(G.nodes(), G.number_of_nodes())\n"
     ]
    },
    {
     "data": {
      "application/vnd.jupyter.widget-view+json": {
       "model_id": "c963a431db384009ac3295b7c3ebaef0",
       "version_major": 2,
       "version_minor": 0
      },
      "text/plain": [
       "Generating Graphs:   0%|          | 0/80 [01:55<?, ?it/s]"
      ]
     },
     "metadata": {},
     "output_type": "display_data"
    },
    {
     "data": {
      "application/vnd.jupyter.widget-view+json": {
       "model_id": "14f6f44549ff40a08503bc89dedf48c4",
       "version_major": 2,
       "version_minor": 0
      },
      "text/plain": [
       "Generating Graphs:   0%|          | 0/80 [00:33<?, ?it/s]"
      ]
     },
     "metadata": {},
     "output_type": "display_data"
    },
    {
     "data": {
      "application/vnd.jupyter.widget-view+json": {
       "model_id": "156c9a207a544b41b52c1793cc260099",
       "version_major": 2,
       "version_minor": 0
      },
      "text/plain": [
       "Generating Graphs:   0%|          | 0/80 [00:00<?, ?it/s]"
      ]
     },
     "metadata": {},
     "output_type": "display_data"
    },
    {
     "data": {
      "application/vnd.jupyter.widget-view+json": {
       "model_id": "98b151623c4c4145a1f54b3a6aedee41",
       "version_major": 2,
       "version_minor": 0
      },
      "text/plain": [
       "Generating Graphs:   0%|          | 0/80 [02:00<?, ?it/s]"
      ]
     },
     "metadata": {},
     "output_type": "display_data"
    },
    {
     "data": {
      "application/vnd.jupyter.widget-view+json": {
       "model_id": "972a87bf3ba3428cbd30c4f6af90a4b1",
       "version_major": 2,
       "version_minor": 0
      },
      "text/plain": [
       "Generating Graphs:   0%|          | 0/80 [00:57<?, ?it/s]"
      ]
     },
     "metadata": {},
     "output_type": "display_data"
    },
    {
     "data": {
      "application/vnd.jupyter.widget-view+json": {
       "model_id": "9e603d19822f499e9f2252f631e3fa22",
       "version_major": 2,
       "version_minor": 0
      },
      "text/plain": [
       "Generating Graphs:   0%|          | 0/80 [01:48<?, ?it/s]"
      ]
     },
     "metadata": {},
     "output_type": "display_data"
    },
    {
     "data": {
      "application/vnd.jupyter.widget-view+json": {
       "model_id": "12deff4868f345b9bf9bf0ba8f6f30fe",
       "version_major": 2,
       "version_minor": 0
      },
      "text/plain": [
       "Generating Graphs:   0%|          | 0/80 [01:27<?, ?it/s]"
      ]
     },
     "metadata": {},
     "output_type": "display_data"
    },
    {
     "data": {
      "application/vnd.jupyter.widget-view+json": {
       "model_id": "1d47e8cf979d49298ddda4b8aa89f0c9",
       "version_major": 2,
       "version_minor": 0
      },
      "text/plain": [
       "Generating Graphs:   0%|          | 0/80 [01:08<?, ?it/s]"
      ]
     },
     "metadata": {},
     "output_type": "display_data"
    },
    {
     "data": {
      "application/vnd.jupyter.widget-view+json": {
       "model_id": "bd82945f626b4e72a77f0a9fe5142fd4",
       "version_major": 2,
       "version_minor": 0
      },
      "text/plain": [
       "Generating Graphs:   0%|          | 0/80 [01:11<?, ?it/s]"
      ]
     },
     "metadata": {},
     "output_type": "display_data"
    },
    {
     "data": {
      "application/vnd.jupyter.widget-view+json": {
       "model_id": "9ea22eae898b4220af1991848002a439",
       "version_major": 2,
       "version_minor": 0
      },
      "text/plain": [
       "Generating Graphs:   0%|          | 0/80 [00:48<?, ?it/s]"
      ]
     },
     "metadata": {},
     "output_type": "display_data"
    },
    {
     "data": {
      "application/vnd.jupyter.widget-view+json": {
       "model_id": "d2bb630b4df24f0b83cb1353056c98ee",
       "version_major": 2,
       "version_minor": 0
      },
      "text/plain": [
       "Generating Graphs:   0%|          | 0/80 [00:25<?, ?it/s]"
      ]
     },
     "metadata": {},
     "output_type": "display_data"
    },
    {
     "data": {
      "application/vnd.jupyter.widget-view+json": {
       "model_id": "990c14f7352c4f8e841fb168af9fd243",
       "version_major": 2,
       "version_minor": 0
      },
      "text/plain": [
       "Generating Graphs:   0%|          | 0/80 [01:12<?, ?it/s]"
      ]
     },
     "metadata": {},
     "output_type": "display_data"
    },
    {
     "data": {
      "application/vnd.jupyter.widget-view+json": {
       "model_id": "cdb4d0fc52ba4a6a91236900ea1c194e",
       "version_major": 2,
       "version_minor": 0
      },
      "text/plain": [
       "Generating Graphs:   0%|          | 0/80 [01:06<?, ?it/s]"
      ]
     },
     "metadata": {},
     "output_type": "display_data"
    },
    {
     "data": {
      "application/vnd.jupyter.widget-view+json": {
       "model_id": "2c65a2d152204be6acb0f99b5f72eb3a",
       "version_major": 2,
       "version_minor": 0
      },
      "text/plain": [
       "Generating Graphs:   0%|          | 0/80 [00:25<?, ?it/s]"
      ]
     },
     "metadata": {},
     "output_type": "display_data"
    },
    {
     "data": {
      "application/vnd.jupyter.widget-view+json": {
       "model_id": "3399488b034c486bb8a048220b52606c",
       "version_major": 2,
       "version_minor": 0
      },
      "text/plain": [
       "Generating Graphs:   0%|          | 0/80 [00:17<?, ?it/s]"
      ]
     },
     "metadata": {},
     "output_type": "display_data"
    },
    {
     "data": {
      "application/vnd.jupyter.widget-view+json": {
       "model_id": "d77007d3a4694f5fb7415cb8456a9cd2",
       "version_major": 2,
       "version_minor": 0
      },
      "text/plain": [
       "Generating Graphs:   0%|          | 0/80 [01:44<?, ?it/s]"
      ]
     },
     "metadata": {},
     "output_type": "display_data"
    },
    {
     "data": {
      "application/vnd.jupyter.widget-view+json": {
       "model_id": "76c5871c7f0640d3bf584029dd13935b",
       "version_major": 2,
       "version_minor": 0
      },
      "text/plain": [
       "Simulating (mode: CT):   0%|          | 0/79 [01:50<?, ?it/s]"
      ]
     },
     "metadata": {},
     "output_type": "display_data"
    },
    {
     "data": {
      "application/vnd.jupyter.widget-view+json": {
       "model_id": "0b74e43bf1fa4076b4ad5daeb54ec1cc",
       "version_major": 2,
       "version_minor": 0
      },
      "text/plain": [
       "Generating Graphs:   0%|          | 0/80 [01:54<?, ?it/s]"
      ]
     },
     "metadata": {},
     "output_type": "display_data"
    },
    {
     "data": {
      "application/vnd.jupyter.widget-view+json": {
       "model_id": "a2e9d46fc1d3448da0dd2a8078258104",
       "version_major": 2,
       "version_minor": 0
      },
      "text/plain": [
       "Generating Graphs:   0%|          | 0/80 [00:16<?, ?it/s]"
      ]
     },
     "metadata": {},
     "output_type": "display_data"
    },
    {
     "data": {
      "application/vnd.jupyter.widget-view+json": {
       "model_id": "2e14d0bd12f849419416fd62787385ce",
       "version_major": 2,
       "version_minor": 0
      },
      "text/plain": [
       "Generating Graphs:   0%|          | 0/80 [00:25<?, ?it/s]"
      ]
     },
     "metadata": {},
     "output_type": "display_data"
    },
    {
     "name": "stderr",
     "output_type": "stream",
     "text": [
      "C:\\Users\\Frank\\AppData\\Local\\Temp\\ipykernel_31324\\3500474817.py:3: DeprecationWarning: Sampling from a set deprecated\n",
      "since Python 3.9 and will be removed in a subsequent version.\n",
      "  sample = random.sample(G.nodes(), G.number_of_nodes())\n",
      "C:\\Users\\Frank\\AppData\\Local\\Temp\\ipykernel_31324\\3500474817.py:3: DeprecationWarning: Sampling from a set deprecated\n",
      "since Python 3.9 and will be removed in a subsequent version.\n",
      "  sample = random.sample(G.nodes(), G.number_of_nodes())\n",
      "C:\\Users\\Frank\\AppData\\Local\\Temp\\ipykernel_31324\\3500474817.py:3: DeprecationWarning: Sampling from a set deprecated\n",
      "since Python 3.9 and will be removed in a subsequent version.\n",
      "  sample = random.sample(G.nodes(), G.number_of_nodes())\n"
     ]
    },
    {
     "data": {
      "application/vnd.jupyter.widget-view+json": {
       "model_id": "37a267f0ac8b418aa3fae06eefe9251e",
       "version_major": 2,
       "version_minor": 0
      },
      "text/plain": [
       "Simulating (mode: CT):   0%|          | 0/79 [00:17<?, ?it/s]"
      ]
     },
     "metadata": {},
     "output_type": "display_data"
    },
    {
     "data": {
      "application/vnd.jupyter.widget-view+json": {
       "model_id": "86bb214ddc8148268840b9aeb051c4c9",
       "version_major": 2,
       "version_minor": 0
      },
      "text/plain": [
       "Simulating (mode: CT):   0%|          | 0/79 [00:36<?, ?it/s]"
      ]
     },
     "metadata": {},
     "output_type": "display_data"
    },
    {
     "data": {
      "application/vnd.jupyter.widget-view+json": {
       "model_id": "87c5c9affa48453fae8eb7cc4bf2e883",
       "version_major": 2,
       "version_minor": 0
      },
      "text/plain": [
       "Simulating (mode: CT):   0%|          | 0/79 [00:49<?, ?it/s]"
      ]
     },
     "metadata": {},
     "output_type": "display_data"
    },
    {
     "data": {
      "application/vnd.jupyter.widget-view+json": {
       "model_id": "305b8e06040b4205948d9d5f27ec3249",
       "version_major": 2,
       "version_minor": 0
      },
      "text/plain": [
       "Simulating (mode: CT):   0%|          | 0/79 [01:03<?, ?it/s]"
      ]
     },
     "metadata": {},
     "output_type": "display_data"
    },
    {
     "data": {
      "application/vnd.jupyter.widget-view+json": {
       "model_id": "3c3c42f657ce4f2892d4ab7aaf0ce460",
       "version_major": 2,
       "version_minor": 0
      },
      "text/plain": [
       "Simulating (mode: CT):   0%|          | 0/79 [01:35<?, ?it/s]"
      ]
     },
     "metadata": {},
     "output_type": "display_data"
    },
    {
     "data": {
      "application/vnd.jupyter.widget-view+json": {
       "model_id": "982178836c0940c69ffb1c71e1d247b7",
       "version_major": 2,
       "version_minor": 0
      },
      "text/plain": [
       "Simulating (mode: CT):   0%|          | 0/79 [01:39<?, ?it/s]"
      ]
     },
     "metadata": {},
     "output_type": "display_data"
    },
    {
     "data": {
      "application/vnd.jupyter.widget-view+json": {
       "model_id": "5f75514e8788460fb3cc981b14b1b8d4",
       "version_major": 2,
       "version_minor": 0
      },
      "text/plain": [
       "Simulating (mode: CT):   0%|          | 0/79 [01:47<?, ?it/s]"
      ]
     },
     "metadata": {},
     "output_type": "display_data"
    },
    {
     "data": {
      "application/vnd.jupyter.widget-view+json": {
       "model_id": "48772533a2de460bb12953c6ceb02364",
       "version_major": 2,
       "version_minor": 0
      },
      "text/plain": [
       "Simulating (mode: CT):   0%|          | 0/79 [01:50<?, ?it/s]"
      ]
     },
     "metadata": {},
     "output_type": "display_data"
    },
    {
     "data": {
      "application/vnd.jupyter.widget-view+json": {
       "model_id": "c766e8b6eeea4fa2b5eb962a4c891340",
       "version_major": 2,
       "version_minor": 0
      },
      "text/plain": [
       "Simulating (mode: CT):   0%|          | 0/79 [01:52<?, ?it/s]"
      ]
     },
     "metadata": {},
     "output_type": "display_data"
    },
    {
     "data": {
      "application/vnd.jupyter.widget-view+json": {
       "model_id": "636ffb6820ec4457af3919f12ff86630",
       "version_major": 2,
       "version_minor": 0
      },
      "text/plain": [
       "Simulating (mode: CT):   0%|          | 0/79 [01:54<?, ?it/s]"
      ]
     },
     "metadata": {},
     "output_type": "display_data"
    },
    {
     "data": {
      "application/vnd.jupyter.widget-view+json": {
       "model_id": "fb55dfb7e69541798305ae3261a851d4",
       "version_major": 2,
       "version_minor": 0
      },
      "text/plain": [
       "Simulating (mode: CT):   0%|          | 0/79 [01:55<?, ?it/s]"
      ]
     },
     "metadata": {},
     "output_type": "display_data"
    },
    {
     "data": {
      "application/vnd.jupyter.widget-view+json": {
       "model_id": "131b453e7d824fe7b1e991a5ae0af477",
       "version_major": 2,
       "version_minor": 0
      },
      "text/plain": [
       "Simulating (mode: CT):   0%|          | 0/79 [01:56<?, ?it/s]"
      ]
     },
     "metadata": {},
     "output_type": "display_data"
    },
    {
     "data": {
      "application/vnd.jupyter.widget-view+json": {
       "model_id": "982b42d2a30b4daa8449ea2ce4c738e7",
       "version_major": 2,
       "version_minor": 0
      },
      "text/plain": [
       "Simulating (mode: CT):   0%|          | 0/79 [02:03<?, ?it/s]"
      ]
     },
     "metadata": {},
     "output_type": "display_data"
    },
    {
     "data": {
      "application/vnd.jupyter.widget-view+json": {
       "model_id": "21bcc34cdb2248ec9b26567b35d9edbe",
       "version_major": 2,
       "version_minor": 0
      },
      "text/plain": [
       "Generating Graphs:   0%|          | 0/80 [01:32<?, ?it/s]"
      ]
     },
     "metadata": {},
     "output_type": "display_data"
    },
    {
     "data": {
      "application/vnd.jupyter.widget-view+json": {
       "model_id": "d7b4f65be5c941c282a35954df7134e5",
       "version_major": 2,
       "version_minor": 0
      },
      "text/plain": [
       "Simulating (mode: CT):   0%|          | 0/79 [02:09<?, ?it/s]"
      ]
     },
     "metadata": {},
     "output_type": "display_data"
    },
    {
     "data": {
      "application/vnd.jupyter.widget-view+json": {
       "model_id": "7cdeb4ed3c614f6faee35cea3cef92c0",
       "version_major": 2,
       "version_minor": 0
      },
      "text/plain": [
       "Simulating (mode: CT):   0%|          | 0/79 [02:18<?, ?it/s]"
      ]
     },
     "metadata": {},
     "output_type": "display_data"
    },
    {
     "data": {
      "application/vnd.jupyter.widget-view+json": {
       "model_id": "ffd1e37c58be45139dcf65a74edd8635",
       "version_major": 2,
       "version_minor": 0
      },
      "text/plain": [
       "Simulating (mode: CT):   0%|          | 0/79 [02:22<?, ?it/s]"
      ]
     },
     "metadata": {},
     "output_type": "display_data"
    },
    {
     "data": {
      "application/vnd.jupyter.widget-view+json": {
       "model_id": "cf07bbe8756e4b4aa7ea4745b215b8d2",
       "version_major": 2,
       "version_minor": 0
      },
      "text/plain": [
       "Simulating (mode: CT):   0%|          | 0/79 [02:36<?, ?it/s]"
      ]
     },
     "metadata": {},
     "output_type": "display_data"
    },
    {
     "data": {
      "application/vnd.jupyter.widget-view+json": {
       "model_id": "8573c7d84a264c53a48ca3306f64b11c",
       "version_major": 2,
       "version_minor": 0
      },
      "text/plain": [
       "Simulating (mode: CT):   0%|          | 0/79 [02:43<?, ?it/s]"
      ]
     },
     "metadata": {},
     "output_type": "display_data"
    },
    {
     "data": {
      "application/vnd.jupyter.widget-view+json": {
       "model_id": "75f0b310027f412785571f74bdd915e7",
       "version_major": 2,
       "version_minor": 0
      },
      "text/plain": [
       "Simulating (mode: CT):   0%|          | 0/79 [02:44<?, ?it/s]"
      ]
     },
     "metadata": {},
     "output_type": "display_data"
    },
    {
     "name": "stderr",
     "output_type": "stream",
     "text": [
      "C:\\Users\\Frank\\AppData\\Local\\Temp\\ipykernel_31324\\3500474817.py:3: DeprecationWarning: Sampling from a set deprecated\n",
      "since Python 3.9 and will be removed in a subsequent version.\n",
      "  sample = random.sample(G.nodes(), G.number_of_nodes())\n"
     ]
    },
    {
     "data": {
      "application/vnd.jupyter.widget-view+json": {
       "model_id": "ecaed9f9167642058422f4e31be55e4a",
       "version_major": 2,
       "version_minor": 0
      },
      "text/plain": [
       "Generating Graphs:   0%|          | 0/80 [00:34<?, ?it/s]"
      ]
     },
     "metadata": {},
     "output_type": "display_data"
    },
    {
     "data": {
      "application/vnd.jupyter.widget-view+json": {
       "model_id": "265354156e7641f282efcc906d42b5b9",
       "version_major": 2,
       "version_minor": 0
      },
      "text/plain": [
       "Simulating (mode: CT):   0%|          | 0/79 [00:37<?, ?it/s]"
      ]
     },
     "metadata": {},
     "output_type": "display_data"
    },
    {
     "name": "stderr",
     "output_type": "stream",
     "text": [
      "C:\\Users\\Frank\\AppData\\Local\\Temp\\ipykernel_31324\\3500474817.py:3: DeprecationWarning: Sampling from a set deprecated\n",
      "since Python 3.9 and will be removed in a subsequent version.\n",
      "  sample = random.sample(G.nodes(), G.number_of_nodes())\n"
     ]
    },
    {
     "data": {
      "application/vnd.jupyter.widget-view+json": {
       "model_id": "d8db90f5023244168418bc13b38a10dd",
       "version_major": 2,
       "version_minor": 0
      },
      "text/plain": [
       "Generating Graphs:   0%|          | 0/80 [00:00<?, ?it/s]"
      ]
     },
     "metadata": {},
     "output_type": "display_data"
    },
    {
     "data": {
      "application/vnd.jupyter.widget-view+json": {
       "model_id": "1d8d0db02560438c816e74defa459b64",
       "version_major": 2,
       "version_minor": 0
      },
      "text/plain": [
       "Generating Graphs:   0%|          | 0/80 [00:37<?, ?it/s]"
      ]
     },
     "metadata": {},
     "output_type": "display_data"
    },
    {
     "data": {
      "application/vnd.jupyter.widget-view+json": {
       "model_id": "2c6e58e5c7a04a768aa01cdb0e0c1d33",
       "version_major": 2,
       "version_minor": 0
      },
      "text/plain": [
       "Generating Graphs:   0%|          | 0/80 [00:34<?, ?it/s]"
      ]
     },
     "metadata": {},
     "output_type": "display_data"
    },
    {
     "data": {
      "application/vnd.jupyter.widget-view+json": {
       "model_id": "0c687da76e564fbe98f1049bf6bc1837",
       "version_major": 2,
       "version_minor": 0
      },
      "text/plain": [
       "Generating Graphs:   0%|          | 0/80 [00:30<?, ?it/s]"
      ]
     },
     "metadata": {},
     "output_type": "display_data"
    },
    {
     "data": {
      "application/vnd.jupyter.widget-view+json": {
       "model_id": "0ba55d47d8a94483ae47dcb69fe2956f",
       "version_major": 2,
       "version_minor": 0
      },
      "text/plain": [
       "Simulating (mode: CT):   0%|          | 0/79 [04:35<?, ?it/s]"
      ]
     },
     "metadata": {},
     "output_type": "display_data"
    },
    {
     "data": {
      "application/vnd.jupyter.widget-view+json": {
       "model_id": "4a2c27336a204eafb3bd6d07319e5428",
       "version_major": 2,
       "version_minor": 0
      },
      "text/plain": [
       "Generating Graphs:   0%|          | 0/80 [01:39<?, ?it/s]"
      ]
     },
     "metadata": {},
     "output_type": "display_data"
    },
    {
     "data": {
      "application/vnd.jupyter.widget-view+json": {
       "model_id": "b472a75221fa41979b72a6e501fe9bc0",
       "version_major": 2,
       "version_minor": 0
      },
      "text/plain": [
       "Generating Graphs:   0%|          | 0/80 [00:54<?, ?it/s]"
      ]
     },
     "metadata": {},
     "output_type": "display_data"
    },
    {
     "data": {
      "application/vnd.jupyter.widget-view+json": {
       "model_id": "472a0599990a4bacabe926c6f4b7b77b",
       "version_major": 2,
       "version_minor": 0
      },
      "text/plain": [
       "Generating Graphs:   0%|          | 0/80 [00:38<?, ?it/s]"
      ]
     },
     "metadata": {},
     "output_type": "display_data"
    },
    {
     "data": {
      "application/vnd.jupyter.widget-view+json": {
       "model_id": "e1534f0b772646289f2b778c99625509",
       "version_major": 2,
       "version_minor": 0
      },
      "text/plain": [
       "Generating Graphs:   0%|          | 0/80 [00:40<?, ?it/s]"
      ]
     },
     "metadata": {},
     "output_type": "display_data"
    },
    {
     "data": {
      "application/vnd.jupyter.widget-view+json": {
       "model_id": "abfe3fcbbb754796b703aafd90cf7b33",
       "version_major": 2,
       "version_minor": 0
      },
      "text/plain": [
       "Generating Graphs:   0%|          | 0/80 [00:31<?, ?it/s]"
      ]
     },
     "metadata": {},
     "output_type": "display_data"
    },
    {
     "data": {
      "application/vnd.jupyter.widget-view+json": {
       "model_id": "8c51c27e3530437a98dd7128008f3e3e",
       "version_major": 2,
       "version_minor": 0
      },
      "text/plain": [
       "Generating Graphs:   0%|          | 0/80 [00:54<?, ?it/s]"
      ]
     },
     "metadata": {},
     "output_type": "display_data"
    },
    {
     "data": {
      "application/vnd.jupyter.widget-view+json": {
       "model_id": "2f246e15257840a4876eb88c5895f8af",
       "version_major": 2,
       "version_minor": 0
      },
      "text/plain": [
       "Generating Graphs:   0%|          | 0/80 [00:29<?, ?it/s]"
      ]
     },
     "metadata": {},
     "output_type": "display_data"
    },
    {
     "data": {
      "application/vnd.jupyter.widget-view+json": {
       "model_id": "f63646f84b6a4a31844bb01d35afab20",
       "version_major": 2,
       "version_minor": 0
      },
      "text/plain": [
       "Generating Graphs:   0%|          | 0/80 [01:17<?, ?it/s]"
      ]
     },
     "metadata": {},
     "output_type": "display_data"
    },
    {
     "data": {
      "application/vnd.jupyter.widget-view+json": {
       "model_id": "1c39b793fef34d81887615881095ccea",
       "version_major": 2,
       "version_minor": 0
      },
      "text/plain": [
       "Generating Graphs:   0%|          | 0/80 [00:53<?, ?it/s]"
      ]
     },
     "metadata": {},
     "output_type": "display_data"
    },
    {
     "data": {
      "application/vnd.jupyter.widget-view+json": {
       "model_id": "6dd437b8d6ec476bb55f9496149857f1",
       "version_major": 2,
       "version_minor": 0
      },
      "text/plain": [
       "Generating Graphs:   0%|          | 0/80 [01:39<?, ?it/s]"
      ]
     },
     "metadata": {},
     "output_type": "display_data"
    },
    {
     "data": {
      "application/vnd.jupyter.widget-view+json": {
       "model_id": "3928acf37a2e4152953f8896fe554cbe",
       "version_major": 2,
       "version_minor": 0
      },
      "text/plain": [
       "Generating Graphs:   0%|          | 0/80 [00:40<?, ?it/s]"
      ]
     },
     "metadata": {},
     "output_type": "display_data"
    },
    {
     "data": {
      "application/vnd.jupyter.widget-view+json": {
       "model_id": "41d2c7aa76bf4a418cfd2326dea9982f",
       "version_major": 2,
       "version_minor": 0
      },
      "text/plain": [
       "Generating Graphs:   0%|          | 0/80 [00:33<?, ?it/s]"
      ]
     },
     "metadata": {},
     "output_type": "display_data"
    },
    {
     "data": {
      "application/vnd.jupyter.widget-view+json": {
       "model_id": "3d069fde46cb4da397409f05cbe73b1c",
       "version_major": 2,
       "version_minor": 0
      },
      "text/plain": [
       "Generating Graphs:   0%|          | 0/80 [02:05<?, ?it/s]"
      ]
     },
     "metadata": {},
     "output_type": "display_data"
    },
    {
     "data": {
      "application/vnd.jupyter.widget-view+json": {
       "model_id": "728fbb5a81e54f249888fec2ac6df882",
       "version_major": 2,
       "version_minor": 0
      },
      "text/plain": [
       "Generating Graphs:   0%|          | 0/80 [01:32<?, ?it/s]"
      ]
     },
     "metadata": {},
     "output_type": "display_data"
    },
    {
     "data": {
      "application/vnd.jupyter.widget-view+json": {
       "model_id": "0a6856f1403a4904adc0fd6aaebb9d22",
       "version_major": 2,
       "version_minor": 0
      },
      "text/plain": [
       "Generating Graphs:   0%|          | 0/80 [01:25<?, ?it/s]"
      ]
     },
     "metadata": {},
     "output_type": "display_data"
    },
    {
     "name": "stderr",
     "output_type": "stream",
     "text": [
      "C:\\Users\\Frank\\AppData\\Local\\Temp\\ipykernel_31324\\3500474817.py:3: DeprecationWarning: Sampling from a set deprecated\n",
      "since Python 3.9 and will be removed in a subsequent version.\n",
      "  sample = random.sample(G.nodes(), G.number_of_nodes())\n",
      "C:\\Users\\Frank\\AppData\\Local\\Temp\\ipykernel_31324\\3500474817.py:3: DeprecationWarning: Sampling from a set deprecated\n",
      "since Python 3.9 and will be removed in a subsequent version.\n",
      "  sample = random.sample(G.nodes(), G.number_of_nodes())\n",
      "C:\\Users\\Frank\\AppData\\Local\\Temp\\ipykernel_31324\\3500474817.py:3: DeprecationWarning: Sampling from a set deprecated\n",
      "since Python 3.9 and will be removed in a subsequent version.\n",
      "  sample = random.sample(G.nodes(), G.number_of_nodes())\n",
      "C:\\Users\\Frank\\AppData\\Local\\Temp\\ipykernel_31324\\3500474817.py:3: DeprecationWarning: Sampling from a set deprecated\n",
      "since Python 3.9 and will be removed in a subsequent version.\n",
      "  sample = random.sample(G.nodes(), G.number_of_nodes())\n",
      "C:\\Users\\Frank\\AppData\\Local\\Temp\\ipykernel_31324\\3500474817.py:3: DeprecationWarning: Sampling from a set deprecated\n",
      "since Python 3.9 and will be removed in a subsequent version.\n",
      "  sample = random.sample(G.nodes(), G.number_of_nodes())\n",
      "C:\\Users\\Frank\\AppData\\Local\\Temp\\ipykernel_31324\\3500474817.py:3: DeprecationWarning: Sampling from a set deprecated\n",
      "since Python 3.9 and will be removed in a subsequent version.\n",
      "  sample = random.sample(G.nodes(), G.number_of_nodes())\n",
      "C:\\Users\\Frank\\AppData\\Local\\Temp\\ipykernel_31324\\3500474817.py:3: DeprecationWarning: Sampling from a set deprecated\n",
      "since Python 3.9 and will be removed in a subsequent version.\n",
      "  sample = random.sample(G.nodes(), G.number_of_nodes())\n"
     ]
    },
    {
     "data": {
      "application/vnd.jupyter.widget-view+json": {
       "model_id": "63ed23a2ca21420fbd98193556eb3979",
       "version_major": 2,
       "version_minor": 0
      },
      "text/plain": [
       "Simulating (mode: CT):   0%|          | 0/79 [00:53<?, ?it/s]"
      ]
     },
     "metadata": {},
     "output_type": "display_data"
    },
    {
     "data": {
      "application/vnd.jupyter.widget-view+json": {
       "model_id": "e8dea67793704d7f9e29be14833f8bf4",
       "version_major": 2,
       "version_minor": 0
      },
      "text/plain": [
       "Simulating (mode: CT):   0%|          | 0/79 [01:07<?, ?it/s]"
      ]
     },
     "metadata": {},
     "output_type": "display_data"
    },
    {
     "data": {
      "application/vnd.jupyter.widget-view+json": {
       "model_id": "df5d285efd0c429da10c23ba49100764",
       "version_major": 2,
       "version_minor": 0
      },
      "text/plain": [
       "Simulating (mode: CT):   0%|          | 0/79 [01:09<?, ?it/s]"
      ]
     },
     "metadata": {},
     "output_type": "display_data"
    },
    {
     "data": {
      "application/vnd.jupyter.widget-view+json": {
       "model_id": "fa5caf4b7d714d6aafcfe8629c6f7c76",
       "version_major": 2,
       "version_minor": 0
      },
      "text/plain": [
       "Simulating (mode: CT):   0%|          | 0/79 [01:11<?, ?it/s]"
      ]
     },
     "metadata": {},
     "output_type": "display_data"
    },
    {
     "data": {
      "application/vnd.jupyter.widget-view+json": {
       "model_id": "7a68e2db388e4c9caf39c55e6415ead2",
       "version_major": 2,
       "version_minor": 0
      },
      "text/plain": [
       "Simulating (mode: CT):   0%|          | 0/79 [01:24<?, ?it/s]"
      ]
     },
     "metadata": {},
     "output_type": "display_data"
    },
    {
     "data": {
      "application/vnd.jupyter.widget-view+json": {
       "model_id": "38ce00a617a24b19aa72b4645ab8814d",
       "version_major": 2,
       "version_minor": 0
      },
      "text/plain": [
       "Simulating (mode: CT):   0%|          | 0/79 [01:48<?, ?it/s]"
      ]
     },
     "metadata": {},
     "output_type": "display_data"
    },
    {
     "data": {
      "application/vnd.jupyter.widget-view+json": {
       "model_id": "1fcb4b3ddcce4194b30ab2033c9e4512",
       "version_major": 2,
       "version_minor": 0
      },
      "text/plain": [
       "Simulating (mode: CT):   0%|          | 0/79 [02:10<?, ?it/s]"
      ]
     },
     "metadata": {},
     "output_type": "display_data"
    },
    {
     "data": {
      "application/vnd.jupyter.widget-view+json": {
       "model_id": "572fe8b33e3041569e8b50f79e8f54dc",
       "version_major": 2,
       "version_minor": 0
      },
      "text/plain": [
       "Simulating (mode: CT):   0%|          | 0/79 [02:13<?, ?it/s]"
      ]
     },
     "metadata": {},
     "output_type": "display_data"
    },
    {
     "data": {
      "application/vnd.jupyter.widget-view+json": {
       "model_id": "623e5fdcbd8042f8976635329eb6eafc",
       "version_major": 2,
       "version_minor": 0
      },
      "text/plain": [
       "Simulating (mode: CT):   0%|          | 0/79 [02:36<?, ?it/s]"
      ]
     },
     "metadata": {},
     "output_type": "display_data"
    },
    {
     "data": {
      "application/vnd.jupyter.widget-view+json": {
       "model_id": "3e8a5cae9a8146258bcd53bcb179a4fe",
       "version_major": 2,
       "version_minor": 0
      },
      "text/plain": [
       "Simulating (mode: CT):   0%|          | 0/79 [02:58<?, ?it/s]"
      ]
     },
     "metadata": {},
     "output_type": "display_data"
    },
    {
     "data": {
      "application/vnd.jupyter.widget-view+json": {
       "model_id": "e0f2fb3755d84344b5551795af331ba0",
       "version_major": 2,
       "version_minor": 0
      },
      "text/plain": [
       "Simulating (mode: CT):   0%|          | 0/79 [03:01<?, ?it/s]"
      ]
     },
     "metadata": {},
     "output_type": "display_data"
    },
    {
     "data": {
      "application/vnd.jupyter.widget-view+json": {
       "model_id": "365ca455040840f0a274ee4a7a97b4ce",
       "version_major": 2,
       "version_minor": 0
      },
      "text/plain": [
       "Simulating (mode: CT):   0%|          | 0/79 [03:03<?, ?it/s]"
      ]
     },
     "metadata": {},
     "output_type": "display_data"
    },
    {
     "data": {
      "application/vnd.jupyter.widget-view+json": {
       "model_id": "434164b250ed45e1b4cd911f7c69144f",
       "version_major": 2,
       "version_minor": 0
      },
      "text/plain": [
       "Simulating (mode: CT):   0%|          | 0/79 [03:11<?, ?it/s]"
      ]
     },
     "metadata": {},
     "output_type": "display_data"
    },
    {
     "data": {
      "application/vnd.jupyter.widget-view+json": {
       "model_id": "59ece9bca13941b59d613a09c06d57f8",
       "version_major": 2,
       "version_minor": 0
      },
      "text/plain": [
       "Simulating (mode: CT):   0%|          | 0/79 [03:13<?, ?it/s]"
      ]
     },
     "metadata": {},
     "output_type": "display_data"
    },
    {
     "data": {
      "application/vnd.jupyter.widget-view+json": {
       "model_id": "1ff2882387134b069a1ce8ca3ea48a95",
       "version_major": 2,
       "version_minor": 0
      },
      "text/plain": [
       "Simulating (mode: CT):   0%|          | 0/79 [03:14<?, ?it/s]"
      ]
     },
     "metadata": {},
     "output_type": "display_data"
    },
    {
     "data": {
      "application/vnd.jupyter.widget-view+json": {
       "model_id": "c8293c0599a340ff8cf3c9231b65e1dc",
       "version_major": 2,
       "version_minor": 0
      },
      "text/plain": [
       "Simulating (mode: CT):   0%|          | 0/79 [03:16<?, ?it/s]"
      ]
     },
     "metadata": {},
     "output_type": "display_data"
    },
    {
     "data": {
      "application/vnd.jupyter.widget-view+json": {
       "model_id": "be60e896940b4c6c8f10d93e50aba72b",
       "version_major": 2,
       "version_minor": 0
      },
      "text/plain": [
       "Generating Graphs:   0%|          | 0/80 [02:30<?, ?it/s]"
      ]
     },
     "metadata": {},
     "output_type": "display_data"
    },
    {
     "data": {
      "application/vnd.jupyter.widget-view+json": {
       "model_id": "9ea0a71f671a48a8ab91acc55942e312",
       "version_major": 2,
       "version_minor": 0
      },
      "text/plain": [
       "Simulating (mode: CT):   0%|          | 0/79 [03:31<?, ?it/s]"
      ]
     },
     "metadata": {},
     "output_type": "display_data"
    },
    {
     "data": {
      "application/vnd.jupyter.widget-view+json": {
       "model_id": "a685bd0374344a1a86823aebaf74c1c7",
       "version_major": 2,
       "version_minor": 0
      },
      "text/plain": [
       "Simulating (mode: CT):   0%|          | 0/79 [03:33<?, ?it/s]"
      ]
     },
     "metadata": {},
     "output_type": "display_data"
    },
    {
     "data": {
      "application/vnd.jupyter.widget-view+json": {
       "model_id": "04a5b04178ac408aa5aa77dde617810b",
       "version_major": 2,
       "version_minor": 0
      },
      "text/plain": [
       "Simulating (mode: CT):   0%|          | 0/79 [03:36<?, ?it/s]"
      ]
     },
     "metadata": {},
     "output_type": "display_data"
    },
    {
     "data": {
      "application/vnd.jupyter.widget-view+json": {
       "model_id": "7587f552176647ae940f8d5727aafd9c",
       "version_major": 2,
       "version_minor": 0
      },
      "text/plain": [
       "Simulating (mode: CT):   0%|          | 0/79 [00:23<?, ?it/s]"
      ]
     },
     "metadata": {},
     "output_type": "display_data"
    },
    {
     "name": "stderr",
     "output_type": "stream",
     "text": [
      "C:\\Users\\Frank\\AppData\\Local\\Temp\\ipykernel_31324\\3500474817.py:3: DeprecationWarning: Sampling from a set deprecated\n",
      "since Python 3.9 and will be removed in a subsequent version.\n",
      "  sample = random.sample(G.nodes(), G.number_of_nodes())\n"
     ]
    },
    {
     "data": {
      "application/vnd.jupyter.widget-view+json": {
       "model_id": "4d3972457cdb4680a98ee666a907227e",
       "version_major": 2,
       "version_minor": 0
      },
      "text/plain": [
       "Generating Graphs:   0%|          | 0/80 [00:59<?, ?it/s]"
      ]
     },
     "metadata": {},
     "output_type": "display_data"
    },
    {
     "name": "stderr",
     "output_type": "stream",
     "text": [
      "C:\\Users\\Frank\\AppData\\Local\\Temp\\ipykernel_31324\\3500474817.py:3: DeprecationWarning: Sampling from a set deprecated\n",
      "since Python 3.9 and will be removed in a subsequent version.\n",
      "  sample = random.sample(G.nodes(), G.number_of_nodes())\n"
     ]
    },
    {
     "data": {
      "application/vnd.jupyter.widget-view+json": {
       "model_id": "b777c63a29e94491af5db484974b9ccd",
       "version_major": 2,
       "version_minor": 0
      },
      "text/plain": [
       "Generating Graphs:   0%|          | 0/80 [01:48<?, ?it/s]"
      ]
     },
     "metadata": {},
     "output_type": "display_data"
    },
    {
     "data": {
      "application/vnd.jupyter.widget-view+json": {
       "model_id": "bc9f66028c1140039be211d916fb54e5",
       "version_major": 2,
       "version_minor": 0
      },
      "text/plain": [
       "Generating Graphs:   0%|          | 0/80 [00:29<?, ?it/s]"
      ]
     },
     "metadata": {},
     "output_type": "display_data"
    },
    {
     "data": {
      "application/vnd.jupyter.widget-view+json": {
       "model_id": "68cdd38732dc4891b1cb3e4400603acd",
       "version_major": 2,
       "version_minor": 0
      },
      "text/plain": [
       "Generating Graphs:   0%|          | 0/80 [00:32<?, ?it/s]"
      ]
     },
     "metadata": {},
     "output_type": "display_data"
    },
    {
     "data": {
      "application/vnd.jupyter.widget-view+json": {
       "model_id": "d0b082688e3448ac91f71c7df6bdbc42",
       "version_major": 2,
       "version_minor": 0
      },
      "text/plain": [
       "Generating Graphs:   0%|          | 0/80 [00:30<?, ?it/s]"
      ]
     },
     "metadata": {},
     "output_type": "display_data"
    },
    {
     "data": {
      "application/vnd.jupyter.widget-view+json": {
       "model_id": "e8471bad7064476d946acc651eb58960",
       "version_major": 2,
       "version_minor": 0
      },
      "text/plain": [
       "Reducing thread Simulating (mode: CT):   0%|          | 0/19 [03:00<?, ?it/s]"
      ]
     },
     "metadata": {},
     "output_type": "display_data"
    },
    {
     "data": {
      "application/vnd.jupyter.widget-view+json": {
       "model_id": "5647ef9836da4de6b629a3c02cb7ea35",
       "version_major": 2,
       "version_minor": 0
      },
      "text/plain": [
       "Generating Graphs:   0%|          | 0/80 [00:35<?, ?it/s]"
      ]
     },
     "metadata": {},
     "output_type": "display_data"
    },
    {
     "data": {
      "application/vnd.jupyter.widget-view+json": {
       "model_id": "c45e019347a64ea581efe9712849aaed",
       "version_major": 2,
       "version_minor": 0
      },
      "text/plain": [
       "Generating Graphs:   0%|          | 0/80 [00:22<?, ?it/s]"
      ]
     },
     "metadata": {},
     "output_type": "display_data"
    },
    {
     "data": {
      "application/vnd.jupyter.widget-view+json": {
       "model_id": "572831fabdcc4eddab6a6a7b9c1f19ba",
       "version_major": 2,
       "version_minor": 0
      },
      "text/plain": [
       "Generating Graphs:   0%|          | 0/80 [01:38<?, ?it/s]"
      ]
     },
     "metadata": {},
     "output_type": "display_data"
    },
    {
     "data": {
      "application/vnd.jupyter.widget-view+json": {
       "model_id": "6d6e7514dc084d95be6d95f1920677eb",
       "version_major": 2,
       "version_minor": 0
      },
      "text/plain": [
       "Generating Graphs:   0%|          | 0/80 [00:33<?, ?it/s]"
      ]
     },
     "metadata": {},
     "output_type": "display_data"
    },
    {
     "data": {
      "application/vnd.jupyter.widget-view+json": {
       "model_id": "c7271ea45a474a01ad6cf614ac9c51f6",
       "version_major": 2,
       "version_minor": 0
      },
      "text/plain": [
       "Generating Graphs:   0%|          | 0/80 [00:28<?, ?it/s]"
      ]
     },
     "metadata": {},
     "output_type": "display_data"
    },
    {
     "data": {
      "application/vnd.jupyter.widget-view+json": {
       "model_id": "39dd2f996dd24881beb158cd5178469b",
       "version_major": 2,
       "version_minor": 0
      },
      "text/plain": [
       "Generating Graphs:   0%|          | 0/80 [00:54<?, ?it/s]"
      ]
     },
     "metadata": {},
     "output_type": "display_data"
    },
    {
     "data": {
      "application/vnd.jupyter.widget-view+json": {
       "model_id": "5b56a87730f24dc498e3d32e7d511947",
       "version_major": 2,
       "version_minor": 0
      },
      "text/plain": [
       "Generating Graphs:   0%|          | 0/80 [00:23<?, ?it/s]"
      ]
     },
     "metadata": {},
     "output_type": "display_data"
    },
    {
     "data": {
      "application/vnd.jupyter.widget-view+json": {
       "model_id": "8a99be7e8ade487b86d73a56982e93f2",
       "version_major": 2,
       "version_minor": 0
      },
      "text/plain": [
       "Generating Graphs:   0%|          | 0/80 [00:27<?, ?it/s]"
      ]
     },
     "metadata": {},
     "output_type": "display_data"
    },
    {
     "data": {
      "application/vnd.jupyter.widget-view+json": {
       "model_id": "69a668a6902d48c88dd1932b7123e00c",
       "version_major": 2,
       "version_minor": 0
      },
      "text/plain": [
       "Generating Graphs:   0%|          | 0/80 [01:40<?, ?it/s]"
      ]
     },
     "metadata": {},
     "output_type": "display_data"
    },
    {
     "data": {
      "application/vnd.jupyter.widget-view+json": {
       "model_id": "fd6ec50283174705915eeba6246e1927",
       "version_major": 2,
       "version_minor": 0
      },
      "text/plain": [
       "Generating Graphs:   0%|          | 0/80 [00:20<?, ?it/s]"
      ]
     },
     "metadata": {},
     "output_type": "display_data"
    },
    {
     "data": {
      "application/vnd.jupyter.widget-view+json": {
       "model_id": "bae93ffdadf2404c9c0273d625b24c09",
       "version_major": 2,
       "version_minor": 0
      },
      "text/plain": [
       "Simulating (mode: CT):   0%|          | 0/79 [00:00<?, ?it/s]"
      ]
     },
     "metadata": {},
     "output_type": "display_data"
    },
    {
     "data": {
      "application/vnd.jupyter.widget-view+json": {
       "model_id": "0af1ddab22f845df931ad229e6152848",
       "version_major": 2,
       "version_minor": 0
      },
      "text/plain": [
       "Simulating (mode: CT):   0%|          | 0/79 [00:23<?, ?it/s]"
      ]
     },
     "metadata": {},
     "output_type": "display_data"
    },
    {
     "data": {
      "application/vnd.jupyter.widget-view+json": {
       "model_id": "1fcbfe105d1441d09e7dd86afec331b9",
       "version_major": 2,
       "version_minor": 0
      },
      "text/plain": [
       "Simulating (mode: CT):   0%|          | 0/79 [00:23<?, ?it/s]"
      ]
     },
     "metadata": {},
     "output_type": "display_data"
    },
    {
     "data": {
      "application/vnd.jupyter.widget-view+json": {
       "model_id": "ed82d2d4b4cd4e5d9d3897e0a15fcfcf",
       "version_major": 2,
       "version_minor": 0
      },
      "text/plain": [
       "Simulating (mode: CT):   0%|          | 0/79 [00:44<?, ?it/s]"
      ]
     },
     "metadata": {},
     "output_type": "display_data"
    },
    {
     "data": {
      "application/vnd.jupyter.widget-view+json": {
       "model_id": "8dd3918d06bf4fd2a8ee6f7f0b3943e5",
       "version_major": 2,
       "version_minor": 0
      },
      "text/plain": [
       "Simulating (mode: CT):   0%|          | 0/79 [00:58<?, ?it/s]"
      ]
     },
     "metadata": {},
     "output_type": "display_data"
    },
    {
     "data": {
      "application/vnd.jupyter.widget-view+json": {
       "model_id": "61da770ca6a84a80bb84fdea8a9b6ed3",
       "version_major": 2,
       "version_minor": 0
      },
      "text/plain": [
       "Simulating (mode: CT):   0%|          | 0/79 [00:59<?, ?it/s]"
      ]
     },
     "metadata": {},
     "output_type": "display_data"
    },
    {
     "data": {
      "application/vnd.jupyter.widget-view+json": {
       "model_id": "f0cb506c534041a0bb4656a9e8eb0557",
       "version_major": 2,
       "version_minor": 0
      },
      "text/plain": [
       "Simulating (mode: CT):   0%|          | 0/79 [01:02<?, ?it/s]"
      ]
     },
     "metadata": {},
     "output_type": "display_data"
    },
    {
     "data": {
      "application/vnd.jupyter.widget-view+json": {
       "model_id": "4636a31e64264323a4122eac5fac8632",
       "version_major": 2,
       "version_minor": 0
      },
      "text/plain": [
       "Simulating (mode: CT):   0%|          | 0/79 [01:06<?, ?it/s]"
      ]
     },
     "metadata": {},
     "output_type": "display_data"
    },
    {
     "data": {
      "application/vnd.jupyter.widget-view+json": {
       "model_id": "b561a8d6038a48e8b60862666c680f68",
       "version_major": 2,
       "version_minor": 0
      },
      "text/plain": [
       "Simulating (mode: CT):   0%|          | 0/79 [01:15<?, ?it/s]"
      ]
     },
     "metadata": {},
     "output_type": "display_data"
    },
    {
     "data": {
      "application/vnd.jupyter.widget-view+json": {
       "model_id": "2d9c05d352924958a8bd27b8f4c5e9e0",
       "version_major": 2,
       "version_minor": 0
      },
      "text/plain": [
       "Simulating (mode: CT):   0%|          | 0/79 [01:17<?, ?it/s]"
      ]
     },
     "metadata": {},
     "output_type": "display_data"
    },
    {
     "data": {
      "application/vnd.jupyter.widget-view+json": {
       "model_id": "caafbd464c124e029ad6645615b3fea7",
       "version_major": 2,
       "version_minor": 0
      },
      "text/plain": [
       "Simulating (mode: CT):   0%|          | 0/79 [01:18<?, ?it/s]"
      ]
     },
     "metadata": {},
     "output_type": "display_data"
    },
    {
     "data": {
      "application/vnd.jupyter.widget-view+json": {
       "model_id": "2cf9ec2305e64f4f888aab5c4cfa1da3",
       "version_major": 2,
       "version_minor": 0
      },
      "text/plain": [
       "Simulating (mode: CT):   0%|          | 0/79 [01:20<?, ?it/s]"
      ]
     },
     "metadata": {},
     "output_type": "display_data"
    },
    {
     "data": {
      "application/vnd.jupyter.widget-view+json": {
       "model_id": "670c7765d1cb4a29be4354256c8bcd7c",
       "version_major": 2,
       "version_minor": 0
      },
      "text/plain": [
       "Simulating (mode: CT):   0%|          | 0/79 [01:21<?, ?it/s]"
      ]
     },
     "metadata": {},
     "output_type": "display_data"
    },
    {
     "data": {
      "application/vnd.jupyter.widget-view+json": {
       "model_id": "b0c0de0b62244b069187a57cac2940c0",
       "version_major": 2,
       "version_minor": 0
      },
      "text/plain": [
       "Simulating (mode: CT):   0%|          | 0/79 [01:24<?, ?it/s]"
      ]
     },
     "metadata": {},
     "output_type": "display_data"
    },
    {
     "data": {
      "application/vnd.jupyter.widget-view+json": {
       "model_id": "b92e7390dd814a1ea96b6ec5729e68b4",
       "version_major": 2,
       "version_minor": 0
      },
      "text/plain": [
       "Simulating (mode: CT):   0%|          | 0/79 [01:26<?, ?it/s]"
      ]
     },
     "metadata": {},
     "output_type": "display_data"
    },
    {
     "name": "stderr",
     "output_type": "stream",
     "text": [
      "C:\\Users\\Frank\\AppData\\Local\\Temp\\ipykernel_31324\\1105863710.py:20: FutureWarning: The frame.append method is deprecated and will be removed from pandas in a future version. Use pandas.concat instead.\n",
      "  Dataframe_final = Dataframe_final.append(Dataframe)\n",
      "C:\\Users\\Frank\\AppData\\Local\\Temp\\ipykernel_31324\\1105863710.py:20: FutureWarning: The frame.append method is deprecated and will be removed from pandas in a future version. Use pandas.concat instead.\n",
      "  Dataframe_final = Dataframe_final.append(Dataframe)\n",
      "C:\\Users\\Frank\\AppData\\Local\\Temp\\ipykernel_31324\\1105863710.py:20: FutureWarning: The frame.append method is deprecated and will be removed from pandas in a future version. Use pandas.concat instead.\n",
      "  Dataframe_final = Dataframe_final.append(Dataframe)\n",
      "C:\\Users\\Frank\\AppData\\Local\\Temp\\ipykernel_31324\\1105863710.py:20: FutureWarning: The frame.append method is deprecated and will be removed from pandas in a future version. Use pandas.concat instead.\n",
      "  Dataframe_final = Dataframe_final.append(Dataframe)\n",
      "C:\\Users\\Frank\\AppData\\Local\\Temp\\ipykernel_31324\\1105863710.py:20: FutureWarning: The frame.append method is deprecated and will be removed from pandas in a future version. Use pandas.concat instead.\n",
      "  Dataframe_final = Dataframe_final.append(Dataframe)\n",
      "C:\\Users\\Frank\\AppData\\Local\\Temp\\ipykernel_31324\\1105863710.py:20: FutureWarning: The frame.append method is deprecated and will be removed from pandas in a future version. Use pandas.concat instead.\n",
      "  Dataframe_final = Dataframe_final.append(Dataframe)\n",
      "C:\\Users\\Frank\\AppData\\Local\\Temp\\ipykernel_31324\\1105863710.py:20: FutureWarning: The frame.append method is deprecated and will be removed from pandas in a future version. Use pandas.concat instead.\n",
      "  Dataframe_final = Dataframe_final.append(Dataframe)\n",
      "C:\\Users\\Frank\\AppData\\Local\\Temp\\ipykernel_31324\\1105863710.py:20: FutureWarning: The frame.append method is deprecated and will be removed from pandas in a future version. Use pandas.concat instead.\n",
      "  Dataframe_final = Dataframe_final.append(Dataframe)\n",
      "C:\\Users\\Frank\\AppData\\Local\\Temp\\ipykernel_31324\\1105863710.py:20: FutureWarning: The frame.append method is deprecated and will be removed from pandas in a future version. Use pandas.concat instead.\n",
      "  Dataframe_final = Dataframe_final.append(Dataframe)\n",
      "C:\\Users\\Frank\\AppData\\Local\\Temp\\ipykernel_31324\\1105863710.py:20: FutureWarning: The frame.append method is deprecated and will be removed from pandas in a future version. Use pandas.concat instead.\n",
      "  Dataframe_final = Dataframe_final.append(Dataframe)\n",
      "C:\\Users\\Frank\\AppData\\Local\\Temp\\ipykernel_31324\\1105863710.py:20: FutureWarning: The frame.append method is deprecated and will be removed from pandas in a future version. Use pandas.concat instead.\n",
      "  Dataframe_final = Dataframe_final.append(Dataframe)\n",
      "C:\\Users\\Frank\\AppData\\Local\\Temp\\ipykernel_31324\\1105863710.py:20: FutureWarning: The frame.append method is deprecated and will be removed from pandas in a future version. Use pandas.concat instead.\n",
      "  Dataframe_final = Dataframe_final.append(Dataframe)\n",
      "C:\\Users\\Frank\\AppData\\Local\\Temp\\ipykernel_31324\\1105863710.py:20: FutureWarning: The frame.append method is deprecated and will be removed from pandas in a future version. Use pandas.concat instead.\n",
      "  Dataframe_final = Dataframe_final.append(Dataframe)\n",
      "C:\\Users\\Frank\\AppData\\Local\\Temp\\ipykernel_31324\\1105863710.py:20: FutureWarning: The frame.append method is deprecated and will be removed from pandas in a future version. Use pandas.concat instead.\n",
      "  Dataframe_final = Dataframe_final.append(Dataframe)\n",
      "C:\\Users\\Frank\\AppData\\Local\\Temp\\ipykernel_31324\\1105863710.py:20: FutureWarning: The frame.append method is deprecated and will be removed from pandas in a future version. Use pandas.concat instead.\n",
      "  Dataframe_final = Dataframe_final.append(Dataframe)\n",
      "C:\\Users\\Frank\\AppData\\Local\\Temp\\ipykernel_31324\\1105863710.py:20: FutureWarning: The frame.append method is deprecated and will be removed from pandas in a future version. Use pandas.concat instead.\n",
      "  Dataframe_final = Dataframe_final.append(Dataframe)\n",
      "C:\\Users\\Frank\\AppData\\Local\\Temp\\ipykernel_31324\\1105863710.py:20: FutureWarning: The frame.append method is deprecated and will be removed from pandas in a future version. Use pandas.concat instead.\n",
      "  Dataframe_final = Dataframe_final.append(Dataframe)\n",
      "C:\\Users\\Frank\\AppData\\Local\\Temp\\ipykernel_31324\\1105863710.py:20: FutureWarning: The frame.append method is deprecated and will be removed from pandas in a future version. Use pandas.concat instead.\n",
      "  Dataframe_final = Dataframe_final.append(Dataframe)\n",
      "C:\\Users\\Frank\\AppData\\Local\\Temp\\ipykernel_31324\\1105863710.py:20: FutureWarning: The frame.append method is deprecated and will be removed from pandas in a future version. Use pandas.concat instead.\n",
      "  Dataframe_final = Dataframe_final.append(Dataframe)\n",
      "C:\\Users\\Frank\\AppData\\Local\\Temp\\ipykernel_31324\\1105863710.py:20: FutureWarning: The frame.append method is deprecated and will be removed from pandas in a future version. Use pandas.concat instead.\n",
      "  Dataframe_final = Dataframe_final.append(Dataframe)\n",
      "C:\\Users\\Frank\\AppData\\Local\\Temp\\ipykernel_31324\\1105863710.py:20: FutureWarning: The frame.append method is deprecated and will be removed from pandas in a future version. Use pandas.concat instead.\n",
      "  Dataframe_final = Dataframe_final.append(Dataframe)\n",
      "C:\\Users\\Frank\\AppData\\Local\\Temp\\ipykernel_31324\\1105863710.py:20: FutureWarning: The frame.append method is deprecated and will be removed from pandas in a future version. Use pandas.concat instead.\n",
      "  Dataframe_final = Dataframe_final.append(Dataframe)\n",
      "C:\\Users\\Frank\\AppData\\Local\\Temp\\ipykernel_31324\\1105863710.py:20: FutureWarning: The frame.append method is deprecated and will be removed from pandas in a future version. Use pandas.concat instead.\n",
      "  Dataframe_final = Dataframe_final.append(Dataframe)\n",
      "C:\\Users\\Frank\\AppData\\Local\\Temp\\ipykernel_31324\\1105863710.py:20: FutureWarning: The frame.append method is deprecated and will be removed from pandas in a future version. Use pandas.concat instead.\n",
      "  Dataframe_final = Dataframe_final.append(Dataframe)\n",
      "C:\\Users\\Frank\\AppData\\Local\\Temp\\ipykernel_31324\\1105863710.py:20: FutureWarning: The frame.append method is deprecated and will be removed from pandas in a future version. Use pandas.concat instead.\n",
      "  Dataframe_final = Dataframe_final.append(Dataframe)\n",
      "C:\\Users\\Frank\\AppData\\Local\\Temp\\ipykernel_31324\\1105863710.py:20: FutureWarning: The frame.append method is deprecated and will be removed from pandas in a future version. Use pandas.concat instead.\n",
      "  Dataframe_final = Dataframe_final.append(Dataframe)\n",
      "C:\\Users\\Frank\\AppData\\Local\\Temp\\ipykernel_31324\\1105863710.py:20: FutureWarning: The frame.append method is deprecated and will be removed from pandas in a future version. Use pandas.concat instead.\n",
      "  Dataframe_final = Dataframe_final.append(Dataframe)\n",
      "C:\\Users\\Frank\\AppData\\Local\\Temp\\ipykernel_31324\\1105863710.py:20: FutureWarning: The frame.append method is deprecated and will be removed from pandas in a future version. Use pandas.concat instead.\n",
      "  Dataframe_final = Dataframe_final.append(Dataframe)\n",
      "C:\\Users\\Frank\\AppData\\Local\\Temp\\ipykernel_31324\\1105863710.py:20: FutureWarning: The frame.append method is deprecated and will be removed from pandas in a future version. Use pandas.concat instead.\n",
      "  Dataframe_final = Dataframe_final.append(Dataframe)\n",
      "C:\\Users\\Frank\\AppData\\Local\\Temp\\ipykernel_31324\\1105863710.py:20: FutureWarning: The frame.append method is deprecated and will be removed from pandas in a future version. Use pandas.concat instead.\n",
      "  Dataframe_final = Dataframe_final.append(Dataframe)\n",
      "C:\\Users\\Frank\\AppData\\Local\\Temp\\ipykernel_31324\\1105863710.py:20: FutureWarning: The frame.append method is deprecated and will be removed from pandas in a future version. Use pandas.concat instead.\n",
      "  Dataframe_final = Dataframe_final.append(Dataframe)\n",
      "C:\\Users\\Frank\\AppData\\Local\\Temp\\ipykernel_31324\\1105863710.py:20: FutureWarning: The frame.append method is deprecated and will be removed from pandas in a future version. Use pandas.concat instead.\n",
      "  Dataframe_final = Dataframe_final.append(Dataframe)\n",
      "C:\\Users\\Frank\\AppData\\Local\\Temp\\ipykernel_31324\\1105863710.py:20: FutureWarning: The frame.append method is deprecated and will be removed from pandas in a future version. Use pandas.concat instead.\n",
      "  Dataframe_final = Dataframe_final.append(Dataframe)\n",
      "C:\\Users\\Frank\\AppData\\Local\\Temp\\ipykernel_31324\\1105863710.py:20: FutureWarning: The frame.append method is deprecated and will be removed from pandas in a future version. Use pandas.concat instead.\n",
      "  Dataframe_final = Dataframe_final.append(Dataframe)\n",
      "C:\\Users\\Frank\\AppData\\Local\\Temp\\ipykernel_31324\\1105863710.py:20: FutureWarning: The frame.append method is deprecated and will be removed from pandas in a future version. Use pandas.concat instead.\n",
      "  Dataframe_final = Dataframe_final.append(Dataframe)\n",
      "C:\\Users\\Frank\\AppData\\Local\\Temp\\ipykernel_31324\\1105863710.py:20: FutureWarning: The frame.append method is deprecated and will be removed from pandas in a future version. Use pandas.concat instead.\n",
      "  Dataframe_final = Dataframe_final.append(Dataframe)\n",
      "C:\\Users\\Frank\\AppData\\Local\\Temp\\ipykernel_31324\\1105863710.py:20: FutureWarning: The frame.append method is deprecated and will be removed from pandas in a future version. Use pandas.concat instead.\n",
      "  Dataframe_final = Dataframe_final.append(Dataframe)\n",
      "C:\\Users\\Frank\\AppData\\Local\\Temp\\ipykernel_31324\\1105863710.py:20: FutureWarning: The frame.append method is deprecated and will be removed from pandas in a future version. Use pandas.concat instead.\n",
      "  Dataframe_final = Dataframe_final.append(Dataframe)\n",
      "C:\\Users\\Frank\\AppData\\Local\\Temp\\ipykernel_31324\\1105863710.py:20: FutureWarning: The frame.append method is deprecated and will be removed from pandas in a future version. Use pandas.concat instead.\n",
      "  Dataframe_final = Dataframe_final.append(Dataframe)\n",
      "C:\\Users\\Frank\\AppData\\Local\\Temp\\ipykernel_31324\\1105863710.py:20: FutureWarning: The frame.append method is deprecated and will be removed from pandas in a future version. Use pandas.concat instead.\n",
      "  Dataframe_final = Dataframe_final.append(Dataframe)\n",
      "C:\\Users\\Frank\\AppData\\Local\\Temp\\ipykernel_31324\\1105863710.py:20: FutureWarning: The frame.append method is deprecated and will be removed from pandas in a future version. Use pandas.concat instead.\n",
      "  Dataframe_final = Dataframe_final.append(Dataframe)\n",
      "C:\\Users\\Frank\\AppData\\Local\\Temp\\ipykernel_31324\\1105863710.py:20: FutureWarning: The frame.append method is deprecated and will be removed from pandas in a future version. Use pandas.concat instead.\n",
      "  Dataframe_final = Dataframe_final.append(Dataframe)\n",
      "C:\\Users\\Frank\\AppData\\Local\\Temp\\ipykernel_31324\\1105863710.py:20: FutureWarning: The frame.append method is deprecated and will be removed from pandas in a future version. Use pandas.concat instead.\n",
      "  Dataframe_final = Dataframe_final.append(Dataframe)\n",
      "C:\\Users\\Frank\\AppData\\Local\\Temp\\ipykernel_31324\\1105863710.py:20: FutureWarning: The frame.append method is deprecated and will be removed from pandas in a future version. Use pandas.concat instead.\n",
      "  Dataframe_final = Dataframe_final.append(Dataframe)\n",
      "C:\\Users\\Frank\\AppData\\Local\\Temp\\ipykernel_31324\\1105863710.py:20: FutureWarning: The frame.append method is deprecated and will be removed from pandas in a future version. Use pandas.concat instead.\n",
      "  Dataframe_final = Dataframe_final.append(Dataframe)\n",
      "C:\\Users\\Frank\\AppData\\Local\\Temp\\ipykernel_31324\\1105863710.py:20: FutureWarning: The frame.append method is deprecated and will be removed from pandas in a future version. Use pandas.concat instead.\n",
      "  Dataframe_final = Dataframe_final.append(Dataframe)\n",
      "C:\\Users\\Frank\\AppData\\Local\\Temp\\ipykernel_31324\\1105863710.py:20: FutureWarning: The frame.append method is deprecated and will be removed from pandas in a future version. Use pandas.concat instead.\n",
      "  Dataframe_final = Dataframe_final.append(Dataframe)\n",
      "C:\\Users\\Frank\\AppData\\Local\\Temp\\ipykernel_31324\\1105863710.py:20: FutureWarning: The frame.append method is deprecated and will be removed from pandas in a future version. Use pandas.concat instead.\n",
      "  Dataframe_final = Dataframe_final.append(Dataframe)\n",
      "C:\\Users\\Frank\\AppData\\Local\\Temp\\ipykernel_31324\\1105863710.py:20: FutureWarning: The frame.append method is deprecated and will be removed from pandas in a future version. Use pandas.concat instead.\n",
      "  Dataframe_final = Dataframe_final.append(Dataframe)\n",
      "C:\\Users\\Frank\\AppData\\Local\\Temp\\ipykernel_31324\\1105863710.py:20: FutureWarning: The frame.append method is deprecated and will be removed from pandas in a future version. Use pandas.concat instead.\n",
      "  Dataframe_final = Dataframe_final.append(Dataframe)\n",
      "C:\\Users\\Frank\\AppData\\Local\\Temp\\ipykernel_31324\\1105863710.py:20: FutureWarning: The frame.append method is deprecated and will be removed from pandas in a future version. Use pandas.concat instead.\n",
      "  Dataframe_final = Dataframe_final.append(Dataframe)\n",
      "C:\\Users\\Frank\\AppData\\Local\\Temp\\ipykernel_31324\\1105863710.py:20: FutureWarning: The frame.append method is deprecated and will be removed from pandas in a future version. Use pandas.concat instead.\n",
      "  Dataframe_final = Dataframe_final.append(Dataframe)\n",
      "C:\\Users\\Frank\\AppData\\Local\\Temp\\ipykernel_31324\\1105863710.py:20: FutureWarning: The frame.append method is deprecated and will be removed from pandas in a future version. Use pandas.concat instead.\n",
      "  Dataframe_final = Dataframe_final.append(Dataframe)\n",
      "C:\\Users\\Frank\\AppData\\Local\\Temp\\ipykernel_31324\\1105863710.py:20: FutureWarning: The frame.append method is deprecated and will be removed from pandas in a future version. Use pandas.concat instead.\n",
      "  Dataframe_final = Dataframe_final.append(Dataframe)\n",
      "C:\\Users\\Frank\\AppData\\Local\\Temp\\ipykernel_31324\\1105863710.py:20: FutureWarning: The frame.append method is deprecated and will be removed from pandas in a future version. Use pandas.concat instead.\n",
      "  Dataframe_final = Dataframe_final.append(Dataframe)\n",
      "C:\\Users\\Frank\\AppData\\Local\\Temp\\ipykernel_31324\\1105863710.py:20: FutureWarning: The frame.append method is deprecated and will be removed from pandas in a future version. Use pandas.concat instead.\n",
      "  Dataframe_final = Dataframe_final.append(Dataframe)\n",
      "C:\\Users\\Frank\\AppData\\Local\\Temp\\ipykernel_31324\\1105863710.py:20: FutureWarning: The frame.append method is deprecated and will be removed from pandas in a future version. Use pandas.concat instead.\n",
      "  Dataframe_final = Dataframe_final.append(Dataframe)\n",
      "C:\\Users\\Frank\\AppData\\Local\\Temp\\ipykernel_31324\\1105863710.py:20: FutureWarning: The frame.append method is deprecated and will be removed from pandas in a future version. Use pandas.concat instead.\n",
      "  Dataframe_final = Dataframe_final.append(Dataframe)\n",
      "C:\\Users\\Frank\\AppData\\Local\\Temp\\ipykernel_31324\\1105863710.py:20: FutureWarning: The frame.append method is deprecated and will be removed from pandas in a future version. Use pandas.concat instead.\n",
      "  Dataframe_final = Dataframe_final.append(Dataframe)\n",
      "C:\\Users\\Frank\\AppData\\Local\\Temp\\ipykernel_31324\\1105863710.py:20: FutureWarning: The frame.append method is deprecated and will be removed from pandas in a future version. Use pandas.concat instead.\n",
      "  Dataframe_final = Dataframe_final.append(Dataframe)\n",
      "C:\\Users\\Frank\\AppData\\Local\\Temp\\ipykernel_31324\\1105863710.py:20: FutureWarning: The frame.append method is deprecated and will be removed from pandas in a future version. Use pandas.concat instead.\n",
      "  Dataframe_final = Dataframe_final.append(Dataframe)\n",
      "C:\\Users\\Frank\\AppData\\Local\\Temp\\ipykernel_31324\\1105863710.py:20: FutureWarning: The frame.append method is deprecated and will be removed from pandas in a future version. Use pandas.concat instead.\n",
      "  Dataframe_final = Dataframe_final.append(Dataframe)\n",
      "C:\\Users\\Frank\\AppData\\Local\\Temp\\ipykernel_31324\\1105863710.py:20: FutureWarning: The frame.append method is deprecated and will be removed from pandas in a future version. Use pandas.concat instead.\n",
      "  Dataframe_final = Dataframe_final.append(Dataframe)\n",
      "C:\\Users\\Frank\\AppData\\Local\\Temp\\ipykernel_31324\\1105863710.py:20: FutureWarning: The frame.append method is deprecated and will be removed from pandas in a future version. Use pandas.concat instead.\n",
      "  Dataframe_final = Dataframe_final.append(Dataframe)\n",
      "C:\\Users\\Frank\\AppData\\Local\\Temp\\ipykernel_31324\\1105863710.py:20: FutureWarning: The frame.append method is deprecated and will be removed from pandas in a future version. Use pandas.concat instead.\n",
      "  Dataframe_final = Dataframe_final.append(Dataframe)\n",
      "C:\\Users\\Frank\\AppData\\Local\\Temp\\ipykernel_31324\\1105863710.py:20: FutureWarning: The frame.append method is deprecated and will be removed from pandas in a future version. Use pandas.concat instead.\n",
      "  Dataframe_final = Dataframe_final.append(Dataframe)\n",
      "C:\\Users\\Frank\\AppData\\Local\\Temp\\ipykernel_31324\\1105863710.py:20: FutureWarning: The frame.append method is deprecated and will be removed from pandas in a future version. Use pandas.concat instead.\n",
      "  Dataframe_final = Dataframe_final.append(Dataframe)\n",
      "C:\\Users\\Frank\\AppData\\Local\\Temp\\ipykernel_31324\\1105863710.py:20: FutureWarning: The frame.append method is deprecated and will be removed from pandas in a future version. Use pandas.concat instead.\n",
      "  Dataframe_final = Dataframe_final.append(Dataframe)\n",
      "C:\\Users\\Frank\\AppData\\Local\\Temp\\ipykernel_31324\\1105863710.py:20: FutureWarning: The frame.append method is deprecated and will be removed from pandas in a future version. Use pandas.concat instead.\n",
      "  Dataframe_final = Dataframe_final.append(Dataframe)\n",
      "C:\\Users\\Frank\\AppData\\Local\\Temp\\ipykernel_31324\\1105863710.py:20: FutureWarning: The frame.append method is deprecated and will be removed from pandas in a future version. Use pandas.concat instead.\n",
      "  Dataframe_final = Dataframe_final.append(Dataframe)\n",
      "C:\\Users\\Frank\\AppData\\Local\\Temp\\ipykernel_31324\\1105863710.py:20: FutureWarning: The frame.append method is deprecated and will be removed from pandas in a future version. Use pandas.concat instead.\n",
      "  Dataframe_final = Dataframe_final.append(Dataframe)\n",
      "C:\\Users\\Frank\\AppData\\Local\\Temp\\ipykernel_31324\\1105863710.py:20: FutureWarning: The frame.append method is deprecated and will be removed from pandas in a future version. Use pandas.concat instead.\n",
      "  Dataframe_final = Dataframe_final.append(Dataframe)\n",
      "C:\\Users\\Frank\\AppData\\Local\\Temp\\ipykernel_31324\\1105863710.py:20: FutureWarning: The frame.append method is deprecated and will be removed from pandas in a future version. Use pandas.concat instead.\n",
      "  Dataframe_final = Dataframe_final.append(Dataframe)\n",
      "C:\\Users\\Frank\\AppData\\Local\\Temp\\ipykernel_31324\\1105863710.py:20: FutureWarning: The frame.append method is deprecated and will be removed from pandas in a future version. Use pandas.concat instead.\n",
      "  Dataframe_final = Dataframe_final.append(Dataframe)\n",
      "C:\\Users\\Frank\\AppData\\Local\\Temp\\ipykernel_31324\\1105863710.py:20: FutureWarning: The frame.append method is deprecated and will be removed from pandas in a future version. Use pandas.concat instead.\n",
      "  Dataframe_final = Dataframe_final.append(Dataframe)\n",
      "C:\\Users\\Frank\\AppData\\Local\\Temp\\ipykernel_31324\\1105863710.py:20: FutureWarning: The frame.append method is deprecated and will be removed from pandas in a future version. Use pandas.concat instead.\n",
      "  Dataframe_final = Dataframe_final.append(Dataframe)\n",
      "C:\\Users\\Frank\\AppData\\Local\\Temp\\ipykernel_31324\\1105863710.py:20: FutureWarning: The frame.append method is deprecated and will be removed from pandas in a future version. Use pandas.concat instead.\n",
      "  Dataframe_final = Dataframe_final.append(Dataframe)\n",
      "C:\\Users\\Frank\\AppData\\Local\\Temp\\ipykernel_31324\\1105863710.py:20: FutureWarning: The frame.append method is deprecated and will be removed from pandas in a future version. Use pandas.concat instead.\n",
      "  Dataframe_final = Dataframe_final.append(Dataframe)\n",
      "C:\\Users\\Frank\\AppData\\Local\\Temp\\ipykernel_31324\\1105863710.py:20: FutureWarning: The frame.append method is deprecated and will be removed from pandas in a future version. Use pandas.concat instead.\n",
      "  Dataframe_final = Dataframe_final.append(Dataframe)\n",
      "C:\\Users\\Frank\\AppData\\Local\\Temp\\ipykernel_31324\\1105863710.py:20: FutureWarning: The frame.append method is deprecated and will be removed from pandas in a future version. Use pandas.concat instead.\n",
      "  Dataframe_final = Dataframe_final.append(Dataframe)\n",
      "C:\\Users\\Frank\\AppData\\Local\\Temp\\ipykernel_31324\\1105863710.py:20: FutureWarning: The frame.append method is deprecated and will be removed from pandas in a future version. Use pandas.concat instead.\n",
      "  Dataframe_final = Dataframe_final.append(Dataframe)\n",
      "C:\\Users\\Frank\\AppData\\Local\\Temp\\ipykernel_31324\\1105863710.py:20: FutureWarning: The frame.append method is deprecated and will be removed from pandas in a future version. Use pandas.concat instead.\n",
      "  Dataframe_final = Dataframe_final.append(Dataframe)\n",
      "C:\\Users\\Frank\\AppData\\Local\\Temp\\ipykernel_31324\\1105863710.py:20: FutureWarning: The frame.append method is deprecated and will be removed from pandas in a future version. Use pandas.concat instead.\n",
      "  Dataframe_final = Dataframe_final.append(Dataframe)\n",
      "C:\\Users\\Frank\\AppData\\Local\\Temp\\ipykernel_31324\\1105863710.py:20: FutureWarning: The frame.append method is deprecated and will be removed from pandas in a future version. Use pandas.concat instead.\n",
      "  Dataframe_final = Dataframe_final.append(Dataframe)\n",
      "C:\\Users\\Frank\\AppData\\Local\\Temp\\ipykernel_31324\\1105863710.py:20: FutureWarning: The frame.append method is deprecated and will be removed from pandas in a future version. Use pandas.concat instead.\n",
      "  Dataframe_final = Dataframe_final.append(Dataframe)\n",
      "C:\\Users\\Frank\\AppData\\Local\\Temp\\ipykernel_31324\\1105863710.py:20: FutureWarning: The frame.append method is deprecated and will be removed from pandas in a future version. Use pandas.concat instead.\n",
      "  Dataframe_final = Dataframe_final.append(Dataframe)\n",
      "C:\\Users\\Frank\\AppData\\Local\\Temp\\ipykernel_31324\\1105863710.py:20: FutureWarning: The frame.append method is deprecated and will be removed from pandas in a future version. Use pandas.concat instead.\n",
      "  Dataframe_final = Dataframe_final.append(Dataframe)\n",
      "C:\\Users\\Frank\\AppData\\Local\\Temp\\ipykernel_31324\\1105863710.py:20: FutureWarning: The frame.append method is deprecated and will be removed from pandas in a future version. Use pandas.concat instead.\n",
      "  Dataframe_final = Dataframe_final.append(Dataframe)\n",
      "C:\\Users\\Frank\\AppData\\Local\\Temp\\ipykernel_31324\\1105863710.py:20: FutureWarning: The frame.append method is deprecated and will be removed from pandas in a future version. Use pandas.concat instead.\n",
      "  Dataframe_final = Dataframe_final.append(Dataframe)\n",
      "C:\\Users\\Frank\\AppData\\Local\\Temp\\ipykernel_31324\\1105863710.py:20: FutureWarning: The frame.append method is deprecated and will be removed from pandas in a future version. Use pandas.concat instead.\n",
      "  Dataframe_final = Dataframe_final.append(Dataframe)\n",
      "C:\\Users\\Frank\\AppData\\Local\\Temp\\ipykernel_31324\\1105863710.py:20: FutureWarning: The frame.append method is deprecated and will be removed from pandas in a future version. Use pandas.concat instead.\n",
      "  Dataframe_final = Dataframe_final.append(Dataframe)\n",
      "C:\\Users\\Frank\\AppData\\Local\\Temp\\ipykernel_31324\\1105863710.py:20: FutureWarning: The frame.append method is deprecated and will be removed from pandas in a future version. Use pandas.concat instead.\n",
      "  Dataframe_final = Dataframe_final.append(Dataframe)\n",
      "C:\\Users\\Frank\\AppData\\Local\\Temp\\ipykernel_31324\\1105863710.py:20: FutureWarning: The frame.append method is deprecated and will be removed from pandas in a future version. Use pandas.concat instead.\n",
      "  Dataframe_final = Dataframe_final.append(Dataframe)\n",
      "C:\\Users\\Frank\\AppData\\Local\\Temp\\ipykernel_31324\\1105863710.py:20: FutureWarning: The frame.append method is deprecated and will be removed from pandas in a future version. Use pandas.concat instead.\n",
      "  Dataframe_final = Dataframe_final.append(Dataframe)\n",
      "C:\\Users\\Frank\\AppData\\Local\\Temp\\ipykernel_31324\\1105863710.py:20: FutureWarning: The frame.append method is deprecated and will be removed from pandas in a future version. Use pandas.concat instead.\n",
      "  Dataframe_final = Dataframe_final.append(Dataframe)\n",
      "C:\\Users\\Frank\\AppData\\Local\\Temp\\ipykernel_31324\\1105863710.py:20: FutureWarning: The frame.append method is deprecated and will be removed from pandas in a future version. Use pandas.concat instead.\n",
      "  Dataframe_final = Dataframe_final.append(Dataframe)\n",
      "C:\\Users\\Frank\\AppData\\Local\\Temp\\ipykernel_31324\\1105863710.py:20: FutureWarning: The frame.append method is deprecated and will be removed from pandas in a future version. Use pandas.concat instead.\n",
      "  Dataframe_final = Dataframe_final.append(Dataframe)\n",
      "C:\\Users\\Frank\\AppData\\Local\\Temp\\ipykernel_31324\\1105863710.py:20: FutureWarning: The frame.append method is deprecated and will be removed from pandas in a future version. Use pandas.concat instead.\n",
      "  Dataframe_final = Dataframe_final.append(Dataframe)\n",
      "C:\\Users\\Frank\\AppData\\Local\\Temp\\ipykernel_31324\\1105863710.py:20: FutureWarning: The frame.append method is deprecated and will be removed from pandas in a future version. Use pandas.concat instead.\n",
      "  Dataframe_final = Dataframe_final.append(Dataframe)\n",
      "C:\\Users\\Frank\\AppData\\Local\\Temp\\ipykernel_31324\\1105863710.py:20: FutureWarning: The frame.append method is deprecated and will be removed from pandas in a future version. Use pandas.concat instead.\n",
      "  Dataframe_final = Dataframe_final.append(Dataframe)\n"
     ]
    }
   ],
   "source": [
    "#parrallelize simulation per 20 threads\n",
    "number_of_sim = 100\n",
    "thread_sim = 20\n",
    "thread_list = []\n",
    "Dataframe_final = pd.DataFrame(columns=['id', 'time', 'S', 'I', 'R'])\n",
    "Queu_sim = queue.Queue()\n",
    "for x in tqdm(range(number_of_sim), desc='Simulating Main (mode: '+mode +')'):\n",
    "    Dataframe = pd.DataFrame(columns=['id', 'time', 'S', 'I', 'R'])\n",
    "    thread = threading.Thread(target=sim, args=(Dataframe, x, mode, Queu_sim), name='thread' + str(x))\n",
    "    thread.start()\n",
    "    thread_list.append(thread)\n",
    "    if len(thread_list) >= thread_sim:\n",
    "        #reduce thread list\n",
    "        thread = thread_list.pop(0)\n",
    "        thread.join()\n",
    "for thread in tqdm(thread_list, desc='Reducing thread Simulating (mode: '+mode +')'):\n",
    "    thread.join()\n",
    "while not Queu_sim.empty():\n",
    "    Dataframe = Queu_sim.get()\n",
    "    Dataframe_final = Dataframe_final.append(Dataframe)"
   ]
  },
  {
   "cell_type": "code",
   "execution_count": null,
   "metadata": {},
   "outputs": [],
   "source": [
    "csv_desc = \"Data\" + mode + \"_\" + str(node_count) + \"_\" + str(infection_rate) + \"_\" + str(recovery_rate) + \"_\" + str(contact_radius) + \"_\" + str(time_steps) + \"_\" + str(observe_per_day) + \"_\" + str(delay) + \"geo.csv\"\n",
    "target_dir = \"./data/geoTMF15/\"\n",
    "Dataframe_final.to_csv(target_dir + csv_desc, index=False)"
   ]
  },
  {
   "cell_type": "code",
   "execution_count": null,
   "metadata": {},
   "outputs": [],
   "source": []
  }
 ],
 "metadata": {
  "kernelspec": {
   "display_name": "datalysis",
   "language": "python",
   "name": "python3"
  },
  "language_info": {
   "codemirror_mode": {
    "name": "ipython",
    "version": 3
   },
   "file_extension": ".py",
   "mimetype": "text/x-python",
   "name": "python",
   "nbconvert_exporter": "python",
   "pygments_lexer": "ipython3",
   "version": "3.10.9"
  },
  "orig_nbformat": 4
 },
 "nbformat": 4,
 "nbformat_minor": 2
}
