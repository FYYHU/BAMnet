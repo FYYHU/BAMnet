{
 "cells": [
  {
   "cell_type": "code",
   "execution_count": 9,
   "metadata": {},
   "outputs": [],
   "source": [
    "import networkx as nx\n",
    "from matplotlib import pyplot as plt\n",
    "import random\n",
    "import math\n",
    "from matplotlib import pyplot as plt\n",
    "from matplotlib.animation import FuncAnimation\n",
    "import numpy as np\n",
    "import pandas as pd\n",
    "from tqdm.notebook import tqdm\n",
    "import threading\n",
    "import queue"
   ]
  },
  {
   "cell_type": "code",
   "execution_count": 11,
   "metadata": {},
   "outputs": [],
   "source": [
    "def initialize_graph(node_count, contact_radius = 1, queue = None, time = 0, edge_dist='geometric'):\n",
    "    square_size = math.sqrt(node_count) #size of square\n",
    "    custom_pos = {} #custom position for plotting\n",
    "    G = nx.Graph(time = time) #initialize graph\n",
    "    for i in range(node_count):\n",
    "        G.add_node(i)\n",
    "        G.nodes[i]['state'] = 'S'  \n",
    "        x,y = random.uniform(0, square_size), random.uniform(0, square_size)\n",
    "        G.nodes[i]['pos'] = (x,y)\n",
    "        G.nodes[i]['observed'] = False\n",
    "        G.nodes[i]['SIR_prob'] = [1,0,0]\n",
    "        custom_pos[i] = (x,y)\n",
    "    #initialize node state, color, and position\n",
    "    #set the colors\n",
    "    #S = susceptible (green)\n",
    "    #I = infected (red)\n",
    "    #R = recovered (blue)\n",
    "    #set the edges\n",
    "    edges = []\n",
    "    if edge_dist == 'geometric':\n",
    "        edges = nx.geometric_edges(G, radius = contact_radius)\n",
    "    elif edge_dist == 'exp':\n",
    "        p_dist = lambda distance: math.exp(-distance/contact_radius)\n",
    "        edges = nx.soft_random_geometric_graph(node_count, radius = contact_radius, pos=custom_pos, p = 2, p_dist=p_dist).edges\n",
    "    G.add_edges_from(edges)\n",
    "    if queue is not None:\n",
    "        queue.put((G, custom_pos))"
   ]
  },
  {
   "cell_type": "code",
   "execution_count": 12,
   "metadata": {},
   "outputs": [],
   "source": [
    "initialize_graph(10000, edge_dist='exp')"
   ]
  },
  {
   "cell_type": "code",
   "execution_count": null,
   "metadata": {},
   "outputs": [],
   "source": [
    "def infectRandomNode(G, node_count):\n",
    "    #infect a random node that is susceptible\n",
    "    sample = random.sample(G.nodes(), G.number_of_nodes())\n",
    "    count = 0\n",
    "    for i in sample:\n",
    "        if (count >= node_count):\n",
    "            break\n",
    "        if G.nodes[i]['state'] == 'S':\n",
    "            G.nodes[i]['state'] = 'I'\n",
    "        count += 1"
   ]
  },
  {
   "cell_type": "code",
   "execution_count": null,
   "metadata": {},
   "outputs": [],
   "source": [
    "def update(G_t1, G_t2, infection_rate, recovery_rate):\n",
    "    #update Gt2 based on G_t1 assuming they are similar node size\n",
    "    for node in G_t1.nodes():\n",
    "        #check if node is observed\n",
    "        G_t1.nodes[node]['observed'] = G_t2.nodes[node]['observed']\n",
    "        \n",
    "        #check node state\n",
    "        if G_t1.nodes[node]['state'] == 'S':\n",
    "            for neighbor in G_t1.neighbors(node):\n",
    "                if G_t1.nodes[neighbor]['state'] == 'I':\n",
    "                    if random.uniform(0, 1) < infection_rate:\n",
    "                        G_t2.nodes[node]['state'] = 'I'\n",
    "                        break\n",
    "        elif G_t1.nodes[node]['state'] == 'I':\n",
    "            if random.uniform(0, 1) < recovery_rate:\n",
    "                G_t2.nodes[node]['state'] = 'R'\n",
    "            else:\n",
    "                G_t2.nodes[node]['state'] = 'I'\n",
    "        else:\n",
    "            G_t2.nodes[node]['state'] = 'R'\n",
    "        \n",
    "        #update SIR probabilities\n",
    "        G_t2.nodes[node]['SIR_prob'] = G_t1.nodes[node]['SIR_prob']\n",
    "    return G_t2"
   ]
  },
  {
   "cell_type": "code",
   "execution_count": null,
   "metadata": {},
   "outputs": [],
   "source": [
    "def SurroundInfectionRate(graph, node, infection_rate):\n",
    "    #total infection rate of a node based on the infection rate of its neighbors\n",
    "    neighbors = list(graph.neighbors(node))\n",
    "    result = 0\n",
    "    for neighbor in neighbors:\n",
    "        result += infection_rate * graph.nodes[neighbor]['SIR_prob'][1]\n",
    "    return result"
   ]
  },
  {
   "cell_type": "code",
   "execution_count": null,
   "metadata": {},
   "outputs": [],
   "source": [
    "def MeanFieldInference(graph_t, graph_t1, infection_rate, recovery_rate):\n",
    "    predicted_state_t1 = {}\n",
    "    for node in graph_t.nodes():\n",
    "        if graph_t.nodes[node]['observed'] == True:\n",
    "            predicted_state_t1[node] = graph_t.nodes[node]['SIR_prob']\n",
    "            continue\n",
    "        factor = SurroundInfectionRate(graph_t, node, infection_rate)\n",
    "        Ps = graph_t.nodes[node]['SIR_prob'][0]*(1-factor)\n",
    "        Pi = (1-recovery_rate)*graph_t.nodes[node]['SIR_prob'][1] + graph_t.nodes[node]['SIR_prob'][0]*factor\n",
    "        Pr = graph_t.nodes[node]['SIR_prob'][2] + recovery_rate*graph_t.nodes[node]['SIR_prob'][1]\n",
    "        predicted_state_t1[node] = [Ps, Pi, Pr]\n",
    "        graph_t1.nodes[node]['SIR_prob'] = [Ps, Pi, Pr]\n",
    "    return predicted_state_t1"
   ]
  },
  {
   "cell_type": "code",
   "execution_count": null,
   "metadata": {},
   "outputs": [],
   "source": [
    "def BackloopUpdate(temporal_graphs,t ,delta, node, state):\n",
    "    mapper = {'S':[1,0,0], 'I':[0,1,0], 'R':[0,0,1]}\n",
    "    for i in range(t, t-delta-1, -1):\n",
    "        temporal_graphs[i][0].nodes[node]['SIR_prob'] = mapper[state]\n",
    "        temporal_graphs[i][0].nodes[node]['observed'] = True"
   ]
  },
  {
   "cell_type": "code",
   "execution_count": null,
   "metadata": {},
   "outputs": [],
   "source": [
    "#@param: given a list of nodes that are observed\n",
    "def DetectObserve(obs, temporal_graphs, observe_per_day, t, delta):\n",
    "    list_of_nodes = []\n",
    "    count = 0\n",
    "    for entry in obs:\n",
    "        state = temporal_graphs[t][0].nodes[entry]['state']\n",
    "        obs_state = temporal_graphs[t][0].nodes[entry]['observed']\n",
    "        if obs_state == True:\n",
    "            continue\n",
    "        BackloopUpdate(temporal_graphs, t, delta, entry, state)\n",
    "        if count == observe_per_day:\n",
    "            break\n",
    "        count += 1\n",
    "        list_of_nodes.append(entry)\n",
    "    return list_of_nodes\n",
    "        \n",
    "        "
   ]
  },
  {
   "cell_type": "code",
   "execution_count": null,
   "metadata": {},
   "outputs": [],
   "source": [
    "def SetRemove(graph, list):\n",
    "    for entry in list:\n",
    "        graph.nodes[entry]['observed'] = True\n",
    "        graph.nodes[entry]['SIR_prob'] = [0,0,1]\n",
    "        graph.nodes[entry]['state'] = 'R'"
   ]
  },
  {
   "cell_type": "code",
   "execution_count": null,
   "metadata": {},
   "outputs": [],
   "source": [
    "def SIR_count(graph):\n",
    "    S_count = 0\n",
    "    I_count = 0\n",
    "    R_count = 0\n",
    "    for node in graph.nodes():\n",
    "        if graph.nodes[node]['state'] == 'S':\n",
    "            S_count += 1\n",
    "        elif graph.nodes[node]['state'] == 'I':\n",
    "            I_count += 1\n",
    "        elif graph.nodes[node]['state'] == 'R':\n",
    "            R_count += 1\n",
    "    return S_count, I_count, R_count"
   ]
  },
  {
   "cell_type": "code",
   "execution_count": null,
   "metadata": {},
   "outputs": [],
   "source": [
    "def Sampler(graph, s_count):\n",
    "    nodes = list(graph.nodes())\n",
    "    random.shuffle(nodes)\n",
    "    result = []\n",
    "    count = 0\n",
    "    for i in range(len(nodes)):\n",
    "        if graph.nodes[nodes[i]]['observed']:\n",
    "            result.append(nodes[i])\n",
    "            count += 1\n",
    "        if count == s_count:\n",
    "            break\n",
    "    return result"
   ]
  },
  {
   "cell_type": "code",
   "execution_count": null,
   "metadata": {},
   "outputs": [],
   "source": [
    "def generate_graphs(node_count, contact_radius, nr_graphs):\n",
    "    que_graphs = queue.Queue()\n",
    "    thread_list = []\n",
    "    for t in range(0, nr_graphs):\n",
    "        thread = threading.Thread(target=initialize_graph, args=(node_count, contact_radius, que_graphs, t, 'geometric'), name='thread'+str(t))\n",
    "        thread.start()\n",
    "        #print('thread'+str(t)+' started')\n",
    "        thread_list.append(thread)\n",
    "    for thread in tqdm(thread_list,desc='Generating Graphs Done'):\n",
    "        #print('thread'+thread.name +' joined')\n",
    "        thread.join()\n",
    "    thread_list = []\n",
    "    temporal_graph_dict = {}\n",
    "    while not que_graphs.empty():\n",
    "        G,custom_pos = que_graphs.get()\n",
    "        temporal_graph_dict[G.graph['time']] = (G, custom_pos)\n",
    "    return temporal_graph_dict"
   ]
  },
  {
   "cell_type": "code",
   "execution_count": null,
   "metadata": {},
   "outputs": [],
   "source": [
    "#mode = 'MF', 'R', 'None'\n",
    "node_count = 10000\n",
    "infection_rate = 0.05\n",
    "recovery_rate = 0.01\n",
    "contact_radius = 1\n",
    "time_steps = 80\n",
    "temporal_graph_dict = {}\n",
    "observe_per_day = 5\n",
    "t_mf = 5\n",
    "delay = 10\n",
    "mode = 'R'\n",
    "color_map = {'S': 'green', 'I': 'red', 'R': 'blue'}\n",
    "def sim(DataFrame, id, mode, queue = None):\n",
    "    temporal_graph_dict = generate_graphs(node_count, contact_radius, time_steps)\n",
    "    infectRandomNode(temporal_graph_dict[0][0], 1)\n",
    "    graph = temporal_graph_dict[0][0]\n",
    "    S, I, R = SIR_count(graph)\n",
    "    DataFrame.loc[len(DataFrame)] = [id, 0, S, I, R]\n",
    "    #string for description of loop:\n",
    "    desc = 'Simulating (mode: '+mode +')'\n",
    "    for i in tqdm(range(1, time_steps), desc=desc):\n",
    "        graph = update(temporal_graph_dict[i-1][0], temporal_graph_dict[i][0], infection_rate, recovery_rate)\n",
    "        if (mode == 'MF' and i > delay):\n",
    "            pred = MeanFieldInference(temporal_graph_dict[i-1][0], graph, infection_rate, recovery_rate)\n",
    "            sort_pred = sorted(pred.items(), key=lambda x: x[1])\n",
    "            node_list = [node[0] for node in sort_pred]\n",
    "            #print(\"day\", i)\n",
    "            #print(pred)\n",
    "            #print(node_list)\n",
    "            list_remove = DetectObserve(node_list, temporal_graph_dict,observe_per_day,i, t_mf)\n",
    "            SetRemove(temporal_graph_dict[i][0], list_remove)\n",
    "            for time in range(i-t_mf, i):\n",
    "                pred = MeanFieldInference(temporal_graph_dict[time][0], temporal_graph_dict[time+1][0], infection_rate, recovery_rate)\n",
    "        elif (mode == 'R' and i > delay):\n",
    "            sample = Sampler(graph, observe_per_day)\n",
    "            #DetectObserve(sample, temporal_graph_dict, i, t_mf)\n",
    "            SetRemove(temporal_graph_dict[i], sample)\n",
    "        S, I, R = SIR_count(graph)\n",
    "        DataFrame.loc[len(DataFrame)] = [id, i, S, I, R]\n",
    "    if queue != None:\n",
    "        queue.put(DataFrame)\n",
    "    return temporal_graph_dict"
   ]
  },
  {
   "cell_type": "code",
   "execution_count": null,
   "metadata": {},
   "outputs": [],
   "source": [
    "#Dataframe = pd.DataFrame(columns=['id', 'time', 'S', 'I', 'R'])\n",
    "#tempograph = sim(Dataframe, 1, 'MF')\n",
    "#for x in range(100):\n",
    "    #sim(Dataframe, x, mode)"
   ]
  },
  {
   "cell_type": "code",
   "execution_count": null,
   "metadata": {},
   "outputs": [],
   "source": [
    "#parrallelize simulation per 20 threads\n",
    "number_of_sim = 100\n",
    "thread_sim = 20\n",
    "thread_list = []\n",
    "Dataframe_final = pd.DataFrame(columns=['id', 'time', 'S', 'I', 'R'])\n",
    "Queu_sim = queue.Queue()\n",
    "for x in tqdm(range(number_of_sim), desc='Simulating Main (mode: '+mode +')'):\n",
    "    Dataframe = pd.DataFrame(columns=['id', 'time', 'S', 'I', 'R'])\n",
    "    thread = threading.Thread(target=sim, args=(Dataframe, x, mode, Queu_sim), name='thread' + str(x))\n",
    "    thread.start()\n",
    "    thread_list.append(thread)\n",
    "    if len(thread_list) >= thread_sim:\n",
    "        #reduce thread list\n",
    "        thread = thread_list.pop(0)\n",
    "        thread.join()\n",
    "for thread in tqdm(thread_list, desc='Reducing thread Simulating (mode: '+mode +')'):\n",
    "    thread.join()\n",
    "while not Queu_sim.empty():\n",
    "    Dataframe = Queu_sim.get()\n",
    "    Dataframe_final = Dataframe_final.append(Dataframe)"
   ]
  },
  {
   "cell_type": "code",
   "execution_count": null,
   "metadata": {},
   "outputs": [],
   "source": [
    "string_df = 'Dataframe'+str(node_count)+'_'+str(infection_rate)+'_'+str(recovery_rate)+'_'+str(contact_radius)+'_'+str(time_steps)+'_'+str(observe_per_day)+'_'+str(t_mf)+ str(mode)+'geo.csv'\n",
    "Dataframe_final.to_csv(string_df, index=False)"
   ]
  },
  {
   "cell_type": "code",
   "execution_count": null,
   "metadata": {},
   "outputs": [],
   "source": [
    "def drawgraph(tempograph, t):\n",
    "    graph = tempograph[t][0]\n",
    "    custom_pos = tempograph[t][1]\n",
    "    colors = [color_map[graph.nodes[node]['state']] for node in graph.nodes()]\n",
    "    nx.draw(graph, pos = custom_pos, node_color = colors, with_labels = True)"
   ]
  },
  {
   "cell_type": "code",
   "execution_count": null,
   "metadata": {},
   "outputs": [],
   "source": [
    "from ipywidgets import *\n",
    "interact(drawgraph, tempograph = fixed(tempograph), t = widgets.IntSlider(min=0, max=time_steps-1, step=1, value=0))"
   ]
  },
  {
   "cell_type": "code",
   "execution_count": null,
   "metadata": {},
   "outputs": [],
   "source": [
    "Dataframe.groupby('time').mean().plot()"
   ]
  },
  {
   "cell_type": "code",
   "execution_count": null,
   "metadata": {},
   "outputs": [],
   "source": [
    "fig, ax = plt.subplots()\n",
    "plt.plot(DataframeMf.groupby('time').mean()['I'], label='MF')\n",
    "plt.plot(Dataframe.groupby('time').mean()['I'], label='R')\n",
    "plt.legend()"
   ]
  }
 ],
 "metadata": {
  "kernelspec": {
   "display_name": "datalysis",
   "language": "python",
   "name": "python3"
  },
  "language_info": {
   "codemirror_mode": {
    "name": "ipython",
    "version": 3
   },
   "file_extension": ".py",
   "mimetype": "text/x-python",
   "name": "python",
   "nbconvert_exporter": "python",
   "pygments_lexer": "ipython3",
   "version": "3.9.16"
  },
  "orig_nbformat": 4
 },
 "nbformat": 4,
 "nbformat_minor": 2
}
