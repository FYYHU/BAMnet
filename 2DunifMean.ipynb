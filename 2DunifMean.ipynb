{
 "cells": [
  {
   "cell_type": "code",
   "execution_count": 1,
   "metadata": {},
   "outputs": [],
   "source": [
    "import networkx as nx\n",
    "from matplotlib import pyplot as plt\n",
    "import random\n",
    "import math\n",
    "from matplotlib import pyplot as plt\n",
    "from matplotlib.animation import FuncAnimation\n",
    "import numpy as np\n",
    "import pandas as pd\n",
    "from tqdm import tqdm\n",
    "import threading\n",
    "import queue"
   ]
  },
  {
   "cell_type": "code",
   "execution_count": 2,
   "metadata": {},
   "outputs": [],
   "source": [
    "def distance(x1, y1, x2, y2):\n",
    "    return ((x1 - x2)**2 + (y1 - y2)**2)**0.5\n",
    "def contact_prob(distance, contact_density,x1, y1, x2, y2):\n",
    "    d = distance(x1, y1, x2, y2)\n",
    "    return math.exp(-d/contact_density)"
   ]
  },
  {
   "cell_type": "code",
   "execution_count": 3,
   "metadata": {},
   "outputs": [],
   "source": [
    "def initialize_graph(node_count, distance = distance, contact_density = 1, queue = None, time = 0):\n",
    "    square_size = math.sqrt(node_count) #size of square\n",
    "    custom_pos = {} #custom position for plotting\n",
    "    G = nx.Graph(time = time) #initialize graph\n",
    "    for i in range(node_count):\n",
    "        G.add_node(i)\n",
    "        G.nodes[i]['state'] = 'S'  \n",
    "        x,y = random.uniform(0, square_size), random.uniform(0, square_size)\n",
    "        G.nodes[i]['pos'] = (x,y)\n",
    "        G.nodes[i]['observed'] = False\n",
    "        G.nodes[i]['SIR_prob'] = [1,0,0]\n",
    "        custom_pos[i] = (x,y)\n",
    "    #initialize node state, color, and position\n",
    "    #set the colors\n",
    "    #S = susceptible (green)\n",
    "    #I = infected (red)\n",
    "    #R = recovered (blue)\n",
    "    #set the edges\n",
    "    edges = nx.geometric_edges(G, radius = contact_density)\n",
    "    G.add_edges_from(edges)\n",
    "    queue.put((G, custom_pos))"
   ]
  },
  {
   "cell_type": "code",
   "execution_count": 4,
   "metadata": {},
   "outputs": [],
   "source": [
    "def infectRandomNode(G, node_count):\n",
    "    #infect a random node that is susceptible\n",
    "    sample = random.sample(range(node_count), node_count)\n",
    "    for i in sample:\n",
    "        if G.nodes[i]['state'] == 'S':\n",
    "            G.nodes[i]['state'] = 'I'\n",
    "            break"
   ]
  },
  {
   "cell_type": "code",
   "execution_count": 5,
   "metadata": {},
   "outputs": [],
   "source": [
    "def update(G, infection_rate, recovery_rate):\n",
    "    #infect susceptible nodes that are in contact with infected nodes\n",
    "    new_G = G.copy()\n",
    "    for node in G.nodes():\n",
    "        if G.nodes[node]['state'] == 'S':\n",
    "            for neighbor in G.neighbors(node):\n",
    "                if G.nodes[neighbor]['state'] == 'I':\n",
    "                    if random.uniform(0, 1) < infection_rate:\n",
    "                        new_G.nodes[node]['state'] = 'I'\n",
    "                        break\n",
    "        elif G.nodes[node]['state'] == 'I':\n",
    "            if random.uniform(0, 1) < recovery_rate:\n",
    "                new_G.nodes[node]['state'] = 'R'\n",
    "    return new_G\n",
    "        \n"
   ]
  },
  {
   "cell_type": "code",
   "execution_count": 6,
   "metadata": {},
   "outputs": [],
   "source": [
    "def SurroundInfectionRate(graph, node, infection_rate):\n",
    "    neighbors = list(graph.neighbors(node))\n",
    "    result = 0\n",
    "    for neighbor in neighbors:\n",
    "        result += infection_rate * graph.nodes[neighbor]['SIR_prob'][1]\n",
    "    return result"
   ]
  },
  {
   "cell_type": "code",
   "execution_count": 7,
   "metadata": {},
   "outputs": [],
   "source": [
    "def MeanFieldInference(graph_t, infection_rate, recovery_rate):\n",
    "    predicted_state_t1 = {}\n",
    "    for node in graph_t.nodes():\n",
    "        factor = SurroundInfectionRate(graph_t, node, infection_rate)\n",
    "        Ps = graph_t.nodes[node]['SIR_prob'][0]*(1-factor)\n",
    "        Pi = (1-recovery_rate)*graph_t.nodes[node]['SIR_prob'][1] + graph_t.nodes[node]['SIR_prob'][0]*factor\n",
    "        Pr = graph_t.nodes[node]['SIR_prob'][2] + recovery_rate*graph_t.nodes[node]['SIR_prob'][1]\n",
    "        predicted_state_t1[node] = [Ps, Pi, Pr]\n",
    "    return predicted_state_t1\n"
   ]
  },
  {
   "cell_type": "code",
   "execution_count": 8,
   "metadata": {},
   "outputs": [],
   "source": [
    "def BackloopUpdate(temporal_graphs,t ,delta, node, state):\n",
    "    mapper = {'S':[1,0,0], 'I':[0,1,0], 'R':[0,0,1]}\n",
    "    for i in range(t, t-delta-1, -1):\n",
    "        temporal_graphs[i].nodes[node]['SIR_prob'] = mapper[state]\n",
    "        temporal_graphs[i].nodes[node]['observed'] = True"
   ]
  },
  {
   "cell_type": "code",
   "execution_count": 9,
   "metadata": {},
   "outputs": [],
   "source": [
    "#@param: give a list of nodes that are observed\n",
    "def DetectObserve(obs, temporal_graphs, t, delta):\n",
    "    for entry in obs:\n",
    "        state = temporal_graphs[t].nodes[entry[0]]['state']\n",
    "        if state == 'S':\n",
    "            BackloopUpdate(temporal_graphs, t, delta, entry[0], 'S')\n",
    "        elif state == 'I':\n",
    "            BackloopUpdate(temporal_graphs, t, delta, entry[0], 'I')\n",
    "        elif state == 'R':\n",
    "            BackloopUpdate(temporal_graphs, t, delta, entry[0], 'R')"
   ]
  },
  {
   "cell_type": "code",
   "execution_count": 10,
   "metadata": {},
   "outputs": [],
   "source": [
    "def SetRemove(graph, nodes):\n",
    "    for entry in nodes:\n",
    "        graph.nodes[entry]['observed'] = True\n",
    "        graph.nodes[entry]['SIR_prob'] = [0,0,1]\n",
    "        graph.nodes[entry]['state'] = 'R'"
   ]
  },
  {
   "cell_type": "code",
   "execution_count": 11,
   "metadata": {},
   "outputs": [],
   "source": [
    "def SIR_count(graph):\n",
    "    S_count = 0\n",
    "    I_count = 0\n",
    "    R_count = 0\n",
    "    for node in graph.nodes():\n",
    "        if graph.nodes[node]['state'] == 'S':\n",
    "            S_count += 1\n",
    "        elif graph.nodes[node]['state'] == 'I':\n",
    "            I_count += 1\n",
    "        elif graph.nodes[node]['state'] == 'R':\n",
    "            R_count += 1\n",
    "    return S_count, I_count, R_count"
   ]
  },
  {
   "cell_type": "code",
   "execution_count": 12,
   "metadata": {},
   "outputs": [],
   "source": [
    "def Sampler(graph, s_count):\n",
    "    nodes = list(graph.nodes())\n",
    "    random.shuffle(nodes)\n",
    "    result = []\n",
    "    count = 0\n",
    "    for i in range(len(nodes)):\n",
    "        if graph.nodes[nodes[i]]['observed']:\n",
    "            result.append(nodes[i])\n",
    "            count += 1\n",
    "        if count == s_count:\n",
    "            break\n",
    "    return result"
   ]
  },
  {
   "cell_type": "code",
   "execution_count": 13,
   "metadata": {},
   "outputs": [
    {
     "name": "stdout",
     "output_type": "stream",
     "text": [
      "thread1 started\n",
      "thread2 started\n",
      "thread3 started\n",
      "thread4 started\n",
      "thread5 started\n",
      "thread6 started\n",
      "thread7 started\n",
      "thread8 started\n",
      "thread9 started\n",
      "thread10 started\n",
      "thread11 started\n",
      "thread12 started\n",
      "thread13 started\n",
      "thread14 started\n",
      "thread15 started\n",
      "thread16 started\n",
      "thread17 started\n",
      "thread18 started\n",
      "thread19 started\n",
      "thread20 started\n",
      "thread21 started\n",
      "thread22 started\n",
      "thread23 started\n",
      "thread24 started\n",
      "thread25 started\n",
      "thread26 started\n",
      "thread27 started\n",
      "thread28 started\n",
      "thread29 started\n",
      "thread30 started\n",
      "thread31 started\n",
      "thread32 started\n",
      "thread33 started\n",
      "thread34 started\n",
      "thread35 started\n",
      "thread36 started\n",
      "thread37 started\n",
      "thread38 started\n",
      "thread39 started\n",
      "thread40 started\n",
      "thread41 started\n",
      "thread42 started\n",
      "thread43 started\n",
      "thread44 started\n",
      "thread45 started\n",
      "thread46 started\n",
      "thread47 started\n",
      "thread48 started\n",
      "thread49 started\n",
      "thread50 started\n",
      "thread51 started\n",
      "thread52 started\n",
      "thread53 started\n",
      "thread54 started\n",
      "thread55 started\n",
      "thread56 started\n",
      "thread57 started\n",
      "thread58 started\n",
      "thread59 started\n",
      "thread60 started\n",
      "thread61 started\n",
      "thread62 started\n",
      "thread63 started\n",
      "thread64 started\n",
      "thread65 started\n",
      "thread66 started\n",
      "thread67 started\n",
      "thread68 started\n",
      "thread69 started\n",
      "thread70 started\n",
      "thread71 started\n",
      "thread72 started\n",
      "thread73 started\n",
      "thread74 started\n",
      "thread75 started\n",
      "thread76 started\n",
      "thread77 started\n",
      "thread78 started\n",
      "thread79 started\n",
      "threadthread1 joined\n",
      "threadthread2 joined\n",
      "threadthread3 joined\n",
      "threadthread4 joined\n",
      "threadthread5 joined\n",
      "threadthread6 joined\n",
      "threadthread7 joined\n",
      "threadthread8 joined\n",
      "threadthread9 joined\n",
      "threadthread10 joined\n",
      "threadthread11 joined\n",
      "threadthread12 joined\n",
      "threadthread13 joined\n",
      "threadthread14 joined\n",
      "threadthread15 joined\n",
      "threadthread16 joined\n",
      "threadthread17 joined\n",
      "threadthread18 joined\n",
      "threadthread19 joined\n",
      "threadthread20 joined\n",
      "threadthread21 joined\n",
      "threadthread22 joined\n",
      "threadthread23 joined\n",
      "threadthread24 joined\n",
      "threadthread25 joined\n",
      "threadthread26 joined\n",
      "threadthread27 joined\n",
      "threadthread28 joined\n",
      "threadthread29 joined\n",
      "threadthread30 joined\n",
      "threadthread31 joined\n",
      "threadthread32 joined\n",
      "threadthread33 joined\n",
      "threadthread34 joined\n",
      "threadthread35 joined\n",
      "threadthread36 joined\n",
      "threadthread37 joined\n",
      "threadthread38 joined\n",
      "threadthread39 joined\n",
      "threadthread40 joined\n",
      "threadthread41 joined\n",
      "threadthread42 joined\n",
      "threadthread43 joined\n",
      "threadthread44 joined\n",
      "threadthread45 joined\n",
      "threadthread46 joined\n",
      "threadthread47 joined\n",
      "threadthread48 joined\n",
      "threadthread49 joined\n",
      "threadthread50 joined\n",
      "threadthread51 joined\n",
      "threadthread52 joined\n",
      "threadthread53 joined\n",
      "threadthread54 joined\n",
      "threadthread55 joined\n",
      "threadthread56 joined\n",
      "threadthread57 joined\n",
      "threadthread58 joined\n",
      "threadthread59 joined\n",
      "threadthread60 joined\n",
      "threadthread61 joined\n",
      "threadthread62 joined\n",
      "threadthread63 joined\n",
      "threadthread64 joined\n",
      "threadthread65 joined\n",
      "threadthread66 joined\n",
      "threadthread67 joined\n",
      "threadthread68 joined\n",
      "threadthread69 joined\n",
      "threadthread70 joined\n",
      "threadthread71 joined\n",
      "threadthread72 joined\n",
      "threadthread73 joined\n",
      "threadthread74 joined\n",
      "threadthread75 joined\n",
      "threadthread76 joined\n",
      "threadthread77 joined\n",
      "threadthread78 joined\n",
      "threadthread79 joined\n"
     ]
    }
   ],
   "source": [
    "\n",
    "que_graphs = queue.Queue()\n",
    "thread_list = []\n",
    "for t in range(1, 80):\n",
    "    thread = threading.Thread(target=initialize_graph, args=(10000, distance, 6, que_graphs, t), name='thread'+str(t))\n",
    "    thread.start()\n",
    "    print('thread'+str(t)+' started')\n",
    "    thread_list.append(thread)\n",
    "\n",
    "for thread in thread_list:\n",
    "    print('thread'+thread.name +' joined')\n",
    "    thread.join()\n",
    "temporal_graph_dict = {}\n",
    "while not que_graphs.empty():\n",
    "    G,custom_pos = que_graphs.get()\n",
    "    temporal_graph_dict[G.graph['time']] = (G, custom_pos)"
   ]
  },
  {
   "cell_type": "code",
   "execution_count": 14,
   "metadata": {},
   "outputs": [],
   "source": [
    "#mode = 'MF', 'R', 'None'\n",
    "node_count = 500000\n",
    "infection_rate = 0.05\n",
    "recovery_rate = 0.02\n",
    "contact_density = 6\n",
    "time_steps = 80\n",
    "temporal_graph_dict = {}\n",
    "observe_per_day = 1500\n",
    "t_mf = 5\n",
    "color_map = {'S': 'green', 'I': 'red', 'R': 'blue'}\n",
    "def sim(DataFrame, id, mode):\n",
    "    graph, custom_pos = initialize_graph(node_count, distance, contact_density)\n",
    "    infectRandomNode(graph, node_count)\n",
    "    temporal_graph_dict[0] = graph.copy()\n",
    "    S, I, R = SIR_count(graph)\n",
    "    DataFrame.loc[len(DataFrame)] = [id, 0, S, I, R]\n",
    "    for i in tqdm(range(1, time_steps)):\n",
    "        graph = update(temporal_graph_dict[i-1], infection_rate, recovery_rate)\n",
    "        temporal_graph_dict[i] = graph.copy()\n",
    "        if (mode == 'MF' and i > 10):\n",
    "            pred = MeanFieldInference(graph, infection_rate, recovery_rate)\n",
    "            sort_pred = sorted(pred.items(), key=lambda x: x[1])\n",
    "            node_list = [node[0] for node in sort_pred]\n",
    "            DetectObserve(sort_pred[:observe_per_day], temporal_graph_dict, i, t_mf)\n",
    "            SetRemove(temporal_graph_dict[i], node_list[:observe_per_day])\n",
    "        elif (mode == 'R' and i > 10):\n",
    "            sample = Sampler(graph, observe_per_day)\n",
    "            #DetectObserve(sample, temporal_graph_dict, i, t_mf)\n",
    "            SetRemove(temporal_graph_dict[i], sample)\n",
    "        S, I, R = SIR_count(graph)\n",
    "        DataFrame.loc[len(DataFrame)] = [id, i, S, I, R]\n",
    "    return temporal_graph_dict, custom_pos\n",
    "    "
   ]
  },
  {
   "cell_type": "code",
   "execution_count": 16,
   "metadata": {},
   "outputs": [],
   "source": [
    "experiment_R_df = pd.DataFrame(columns=['id', 'time', 'S', 'I', 'R'])\n",
    "experiment_MF_df = pd.DataFrame(columns=['id', 'time', 'S', 'I', 'R'])"
   ]
  },
  {
   "cell_type": "code",
   "execution_count": 19,
   "metadata": {},
   "outputs": [],
   "source": [
    "a,b = initialize_graph(node_count, distance, contact_density)"
   ]
  },
  {
   "cell_type": "code",
   "execution_count": 20,
   "metadata": {},
   "outputs": [],
   "source": [
    "infectRandomNode(a, node_count)"
   ]
  },
  {
   "cell_type": "code",
   "execution_count": 21,
   "metadata": {},
   "outputs": [],
   "source": [
    "graph = update(a, infection_rate, recovery_rate)"
   ]
  },
  {
   "cell_type": "code",
   "execution_count": 22,
   "metadata": {},
   "outputs": [],
   "source": [
    "pred = MeanFieldInference(graph, infection_rate, recovery_rate)"
   ]
  },
  {
   "cell_type": "code",
   "execution_count": 17,
   "metadata": {},
   "outputs": [
    {
     "ename": "KeyboardInterrupt",
     "evalue": "",
     "output_type": "error",
     "traceback": [
      "\u001b[1;31m---------------------------------------------------------------------------\u001b[0m",
      "\u001b[1;31mModuleNotFoundError\u001b[0m                       Traceback (most recent call last)",
      "File \u001b[1;32mc:\\Users\\Frank\\Anaconda3\\envs\\datalysis\\lib\\site-packages\\networkx\\generators\\geometric.py:90\u001b[0m, in \u001b[0;36m_geometric_edges\u001b[1;34m(G, radius, p)\u001b[0m\n\u001b[0;32m     89\u001b[0m \u001b[39mtry\u001b[39;00m:\n\u001b[1;32m---> 90\u001b[0m     \u001b[39mimport\u001b[39;00m \u001b[39mscipy\u001b[39;00m \u001b[39mas\u001b[39;00m \u001b[39msp\u001b[39;00m\n\u001b[0;32m     91\u001b[0m     \u001b[39mimport\u001b[39;00m \u001b[39mscipy\u001b[39;00m\u001b[39m.\u001b[39;00m\u001b[39mspatial\u001b[39;00m  \u001b[39m# call as sp.spatial\u001b[39;00m\n",
      "\u001b[1;31mModuleNotFoundError\u001b[0m: No module named 'scipy'",
      "\nDuring handling of the above exception, another exception occurred:\n",
      "\u001b[1;31mKeyboardInterrupt\u001b[0m                         Traceback (most recent call last)",
      "Cell \u001b[1;32mIn[17], line 1\u001b[0m\n\u001b[1;32m----> 1\u001b[0m temporal_graph_R, custom_pos \u001b[39m=\u001b[39m sim(experiment_R_df, \u001b[39m0\u001b[39;49m, \u001b[39m'\u001b[39;49m\u001b[39mR\u001b[39;49m\u001b[39m'\u001b[39;49m)\n\u001b[0;32m      2\u001b[0m temporal_graph_MF, custom_pos \u001b[39m=\u001b[39m sim(experiment_MF_df, \u001b[39m0\u001b[39m, \u001b[39m'\u001b[39m\u001b[39mMF\u001b[39m\u001b[39m'\u001b[39m)\n",
      "Cell \u001b[1;32mIn[15], line 12\u001b[0m, in \u001b[0;36msim\u001b[1;34m(DataFrame, id, mode)\u001b[0m\n\u001b[0;32m     11\u001b[0m \u001b[39mdef\u001b[39;00m \u001b[39msim\u001b[39m(DataFrame, \u001b[39mid\u001b[39m, mode):\n\u001b[1;32m---> 12\u001b[0m     graph, custom_pos \u001b[39m=\u001b[39m initialize_graph(node_count, distance, contact_density)\n\u001b[0;32m     13\u001b[0m     infectRandomNode(graph, node_count)\n\u001b[0;32m     14\u001b[0m     temporal_graph_dict[\u001b[39m0\u001b[39m] \u001b[39m=\u001b[39m graph\u001b[39m.\u001b[39mcopy()\n",
      "Cell \u001b[1;32mIn[5], line 19\u001b[0m, in \u001b[0;36minitialize_graph\u001b[1;34m(node_count, distance, contact_density)\u001b[0m\n\u001b[0;32m     12\u001b[0m     custom_pos[i] \u001b[39m=\u001b[39m (x,y)\n\u001b[0;32m     13\u001b[0m \u001b[39m#initialize node state, color, and position\u001b[39;00m\n\u001b[0;32m     14\u001b[0m \u001b[39m#set the colors\u001b[39;00m\n\u001b[0;32m     15\u001b[0m \u001b[39m#S = susceptible (green)\u001b[39;00m\n\u001b[0;32m     16\u001b[0m \u001b[39m#I = infected (red)\u001b[39;00m\n\u001b[0;32m     17\u001b[0m \u001b[39m#R = recovered (blue)\u001b[39;00m\n\u001b[0;32m     18\u001b[0m \u001b[39m#set the edges\u001b[39;00m\n\u001b[1;32m---> 19\u001b[0m edges \u001b[39m=\u001b[39m nx\u001b[39m.\u001b[39;49mgeometric_edges(G, radius \u001b[39m=\u001b[39;49m contact_density)\n\u001b[0;32m     20\u001b[0m G\u001b[39m.\u001b[39madd_edges_from(edges)\n\u001b[0;32m     21\u001b[0m \u001b[39mreturn\u001b[39;00m G, custom_pos\n",
      "File \u001b[1;32mc:\\Users\\Frank\\Anaconda3\\envs\\datalysis\\lib\\site-packages\\networkx\\generators\\geometric.py:80\u001b[0m, in \u001b[0;36mgeometric_edges\u001b[1;34m(G, radius, p)\u001b[0m\n\u001b[0;32m     72\u001b[0m         \u001b[39mraise\u001b[39;00m nx\u001b[39m.\u001b[39mNetworkXError(\n\u001b[0;32m     73\u001b[0m             \u001b[39mf\u001b[39m\u001b[39m\"\u001b[39m\u001b[39mAll nodes in `G` must have a \u001b[39m\u001b[39m'\u001b[39m\u001b[39mpos\u001b[39m\u001b[39m'\u001b[39m\u001b[39m attribute. Check node \u001b[39m\u001b[39m{\u001b[39;00mn\u001b[39m}\u001b[39;00m\u001b[39m\"\u001b[39m\n\u001b[0;32m     74\u001b[0m         )\n\u001b[0;32m     76\u001b[0m \u001b[39m# NOTE: See _geometric_edges for the actual implementation. The reason this\u001b[39;00m\n\u001b[0;32m     77\u001b[0m \u001b[39m# is split into two functions is to avoid the overhead of input validation\u001b[39;00m\n\u001b[0;32m     78\u001b[0m \u001b[39m# every time the function is called internally in one of the other\u001b[39;00m\n\u001b[0;32m     79\u001b[0m \u001b[39m# geometric generators\u001b[39;00m\n\u001b[1;32m---> 80\u001b[0m \u001b[39mreturn\u001b[39;00m _geometric_edges(G, radius, p)\n",
      "File \u001b[1;32mc:\\Users\\Frank\\Anaconda3\\envs\\datalysis\\lib\\site-packages\\networkx\\generators\\geometric.py:95\u001b[0m, in \u001b[0;36m_geometric_edges\u001b[1;34m(G, radius, p)\u001b[0m\n\u001b[0;32m     92\u001b[0m \u001b[39mexcept\u001b[39;00m \u001b[39mImportError\u001b[39;00m:\n\u001b[0;32m     93\u001b[0m     \u001b[39m# no scipy KDTree so compute by for-loop\u001b[39;00m\n\u001b[0;32m     94\u001b[0m     radius_p \u001b[39m=\u001b[39m radius\u001b[39m*\u001b[39m\u001b[39m*\u001b[39mp\n\u001b[1;32m---> 95\u001b[0m     edges \u001b[39m=\u001b[39m [\n\u001b[0;32m     96\u001b[0m         (u, v)\n\u001b[0;32m     97\u001b[0m         \u001b[39mfor\u001b[39;00m (u, pu), (v, pv) \u001b[39min\u001b[39;00m combinations(nodes_pos, \u001b[39m2\u001b[39m)\n\u001b[0;32m     98\u001b[0m         \u001b[39mif\u001b[39;00m \u001b[39msum\u001b[39m(\u001b[39mabs\u001b[39m(a \u001b[39m-\u001b[39m b) \u001b[39m*\u001b[39m\u001b[39m*\u001b[39m p \u001b[39mfor\u001b[39;00m a, b \u001b[39min\u001b[39;00m \u001b[39mzip\u001b[39m(pu, pv)) \u001b[39m<\u001b[39m\u001b[39m=\u001b[39m radius_p\n\u001b[0;32m     99\u001b[0m     ]\n\u001b[0;32m    100\u001b[0m     \u001b[39mreturn\u001b[39;00m edges\n\u001b[0;32m    101\u001b[0m \u001b[39m# scipy KDTree is available\u001b[39;00m\n",
      "File \u001b[1;32mc:\\Users\\Frank\\Anaconda3\\envs\\datalysis\\lib\\site-packages\\networkx\\generators\\geometric.py:98\u001b[0m, in \u001b[0;36m<listcomp>\u001b[1;34m(.0)\u001b[0m\n\u001b[0;32m     92\u001b[0m \u001b[39mexcept\u001b[39;00m \u001b[39mImportError\u001b[39;00m:\n\u001b[0;32m     93\u001b[0m     \u001b[39m# no scipy KDTree so compute by for-loop\u001b[39;00m\n\u001b[0;32m     94\u001b[0m     radius_p \u001b[39m=\u001b[39m radius\u001b[39m*\u001b[39m\u001b[39m*\u001b[39mp\n\u001b[0;32m     95\u001b[0m     edges \u001b[39m=\u001b[39m [\n\u001b[0;32m     96\u001b[0m         (u, v)\n\u001b[0;32m     97\u001b[0m         \u001b[39mfor\u001b[39;00m (u, pu), (v, pv) \u001b[39min\u001b[39;00m combinations(nodes_pos, \u001b[39m2\u001b[39m)\n\u001b[1;32m---> 98\u001b[0m         \u001b[39mif\u001b[39;00m \u001b[39msum\u001b[39;49m(\u001b[39mabs\u001b[39;49m(a \u001b[39m-\u001b[39;49m b) \u001b[39m*\u001b[39;49m\u001b[39m*\u001b[39;49m p \u001b[39mfor\u001b[39;49;00m a, b \u001b[39min\u001b[39;49;00m \u001b[39mzip\u001b[39;49m(pu, pv)) \u001b[39m<\u001b[39m\u001b[39m=\u001b[39m radius_p\n\u001b[0;32m     99\u001b[0m     ]\n\u001b[0;32m    100\u001b[0m     \u001b[39mreturn\u001b[39;00m edges\n\u001b[0;32m    101\u001b[0m \u001b[39m# scipy KDTree is available\u001b[39;00m\n",
      "File \u001b[1;32mc:\\Users\\Frank\\Anaconda3\\envs\\datalysis\\lib\\site-packages\\networkx\\generators\\geometric.py:98\u001b[0m, in \u001b[0;36m<genexpr>\u001b[1;34m(.0)\u001b[0m\n\u001b[0;32m     92\u001b[0m \u001b[39mexcept\u001b[39;00m \u001b[39mImportError\u001b[39;00m:\n\u001b[0;32m     93\u001b[0m     \u001b[39m# no scipy KDTree so compute by for-loop\u001b[39;00m\n\u001b[0;32m     94\u001b[0m     radius_p \u001b[39m=\u001b[39m radius\u001b[39m*\u001b[39m\u001b[39m*\u001b[39mp\n\u001b[0;32m     95\u001b[0m     edges \u001b[39m=\u001b[39m [\n\u001b[0;32m     96\u001b[0m         (u, v)\n\u001b[0;32m     97\u001b[0m         \u001b[39mfor\u001b[39;00m (u, pu), (v, pv) \u001b[39min\u001b[39;00m combinations(nodes_pos, \u001b[39m2\u001b[39m)\n\u001b[1;32m---> 98\u001b[0m         \u001b[39mif\u001b[39;00m \u001b[39msum\u001b[39m(\u001b[39mabs\u001b[39m(a \u001b[39m-\u001b[39m b) \u001b[39m*\u001b[39m\u001b[39m*\u001b[39m p \u001b[39mfor\u001b[39;00m a, b \u001b[39min\u001b[39;00m \u001b[39mzip\u001b[39m(pu, pv)) \u001b[39m<\u001b[39m\u001b[39m=\u001b[39m radius_p\n\u001b[0;32m     99\u001b[0m     ]\n\u001b[0;32m    100\u001b[0m     \u001b[39mreturn\u001b[39;00m edges\n\u001b[0;32m    101\u001b[0m \u001b[39m# scipy KDTree is available\u001b[39;00m\n",
      "\u001b[1;31mKeyboardInterrupt\u001b[0m: "
     ]
    }
   ],
   "source": [
    "temporal_graph_R, custom_pos = sim(experiment_R_df, 0, 'R')\n",
    "temporal_graph_MF, custom_pos = sim(experiment_MF_df, 0, 'MF')"
   ]
  },
  {
   "cell_type": "code",
   "execution_count": null,
   "metadata": {},
   "outputs": [],
   "source": [
    "def drawgraph(graph, custom_pos, t):\n",
    "    graph = temporal_graph_dict[t]\n",
    "    colors = [color_map[graph.nodes[node]['state']] for node in graph.nodes()]\n",
    "    nx.draw(graph, pos = custom_pos, node_color = colors, with_labels = True)"
   ]
  },
  {
   "cell_type": "code",
   "execution_count": null,
   "metadata": {},
   "outputs": [
    {
     "data": {
      "application/vnd.jupyter.widget-view+json": {
       "model_id": "fe541fb5f4ab4e528d3568d07212ce8c",
       "version_major": 2,
       "version_minor": 0
      },
      "text/plain": [
       "interactive(children=(IntSlider(value=0, description='t', max=79), Output()), _dom_classes=('widget-interact',…"
      ]
     },
     "metadata": {},
     "output_type": "display_data"
    },
    {
     "data": {
      "text/plain": [
       "<function __main__.drawgraph(graph, custom_pos, t)>"
      ]
     },
     "execution_count": 18,
     "metadata": {},
     "output_type": "execute_result"
    }
   ],
   "source": [
    "#from ipywidgets import *\n",
    "#interact(drawgraph, graph = fixed(temporal_graph_dict), custom_pos = fixed(custom_pos), t = widgets.IntSlider(min=0, max=time_steps-1, step=1, value=0))\n"
   ]
  },
  {
   "cell_type": "code",
   "execution_count": null,
   "metadata": {},
   "outputs": [],
   "source": [
    "#store the graphs\n",
    "import pickle\n",
    "with open('temporal_graph_R.pkl', 'wb') as f:\n",
    "    pickle.dump(temporal_graph_R, f)\n",
    "with open('temporal_graph_MF.pkl', 'wb') as f:\n",
    "    pickle.dump(temporal_graph_MF, f)\n",
    "with open('custom_pos.pkl', 'wb') as f:\n",
    "    pickle.dump(custom_pos, f)"
   ]
  },
  {
   "cell_type": "code",
   "execution_count": null,
   "metadata": {},
   "outputs": [],
   "source": [
    "experiment_R_df['I'] = experiment_R_df['I'].apply(lambda x: x/node_count)\n",
    "experiment_MF_df['I'] = experiment_MF_df['I'].apply(lambda x: x/node_count)"
   ]
  },
  {
   "cell_type": "code",
   "execution_count": null,
   "metadata": {},
   "outputs": [],
   "source": [
    "result_R = experiment_R_df.groupby('time').mean()\n",
    "result_MF = experiment_MF_df.groupby('time').mean()"
   ]
  },
  {
   "cell_type": "code",
   "execution_count": null,
   "metadata": {},
   "outputs": [
    {
     "data": {
      "text/plain": [
       "<matplotlib.legend.Legend at 0x1206f1f3e80>"
      ]
     },
     "execution_count": 21,
     "metadata": {},
     "output_type": "execute_result"
    },
    {
     "data": {
      "image/png": "[encoded data removed]",
      "text/plain": [
       "<Figure size 640x480 with 1 Axes>"
      ]
     },
     "metadata": {},
     "output_type": "display_data"
    }
   ],
   "source": [
    "plt.plot(result_R['I'], label = 'I_R')\n",
    "plt.plot(result_MF['I'], label = 'I_MF')\n",
    "plt.legend()"
   ]
  }
 ],
 "metadata": {
  "kernelspec": {
   "display_name": "datalysis",
   "language": "python",
   "name": "python3"
  },
  "language_info": {
   "codemirror_mode": {
    "name": "ipython",
    "version": 3
   },
   "file_extension": ".py",
   "mimetype": "text/x-python",
   "name": "python",
   "nbconvert_exporter": "python",
   "pygments_lexer": "ipython3",
   "version": "3.9.16"
  },
  "orig_nbformat": 4
 },
 "nbformat": 4,
 "nbformat_minor": 2
}
