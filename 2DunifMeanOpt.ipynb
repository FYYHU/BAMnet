{
 "cells": [
  {
   "cell_type": "code",
   "execution_count": 227,
   "metadata": {},
   "outputs": [],
   "source": [
    "import networkx as nx\n",
    "from matplotlib import pyplot as plt\n",
    "import random\n",
    "import math\n",
    "from matplotlib import pyplot as plt\n",
    "from matplotlib.animation import FuncAnimation\n",
    "import numpy as np\n",
    "import pandas as pd\n",
    "from tqdm import tqdm\n",
    "import threading\n",
    "import queue"
   ]
  },
  {
   "cell_type": "code",
   "execution_count": 228,
   "metadata": {},
   "outputs": [],
   "source": [
    "#mode = 'MF', 'R', 'None'\n",
    "node_count = 50000\n",
    "infection_rate = 0.05\n",
    "recovery_rate = 0.01\n",
    "contact_radius = 1\n",
    "time_steps = 80\n",
    "temporal_graph_dict = {}\n",
    "observe_per_day = 100\n",
    "t_mf = 5\n",
    "delay = 10\n",
    "mode = 'R'\n",
    "color_map = {'S': 'green', 'I': 'red', 'R': 'blue'}"
   ]
  },
  {
   "cell_type": "code",
   "execution_count": 229,
   "metadata": {},
   "outputs": [],
   "source": [
    "SIR_prob_node = {'S':np.ones(node_count), 'I':np.zeros(node_count), 'R':np.zeros(node_count)}\n",
    "SIR_prob_node['I'][1] = 1\n",
    "SIR_prob_node['S'][1] = 0"
   ]
  },
  {
   "cell_type": "code",
   "execution_count": 230,
   "metadata": {},
   "outputs": [],
   "source": [
    "def distance(a, b):\n",
    "    return math.sqrt((a[0] - b[0])**2 + (a[1] - b[1])**2)\n",
    "\n",
    "def exp_dist(x, y, density, pos_dic):\n",
    "    a = pos_dic[x]\n",
    "    b = pos_dic[y]\n",
    "    return math.exp(-distance(a, b)/density)"
   ]
  },
  {
   "cell_type": "code",
   "execution_count": 231,
   "metadata": {},
   "outputs": [],
   "source": [
    "def MeanFieldInferenceVector(SIR_prob_nodes_t, State_matrix_t, Adj_matrix_t, infection_rate, recovery_rate):\n",
    "    #convert to column vector\n",
    "    P_S_t = np.transpose([SIR_prob_nodes_t['S']])\n",
    "    P_I_t = np.transpose([SIR_prob_nodes_t['I']])\n",
    "    P_R_t = np.transpose([SIR_prob_nodes_t['R']])\n",
    "    #sum of product of neighbors' state and infection rate\n",
    "    factor = np.dot(State_matrix_t[1], np.dot(Adj_matrix_t,P_I_t))*infection_rate\n",
    "    P_S_t1 = np.multiply(P_S_t, 1-factor)\n",
    "    P_R_t1 = P_R_t+ recovery_rate*P_I_t\n",
    "    P_I_t1 = np.ones((node_count,1)) - P_S_t1 - P_R_t1\n",
    "    return P_S_t1, P_I_t1, P_R_t1"
   ]
  },
  {
   "cell_type": "code",
   "execution_count": 232,
   "metadata": {},
   "outputs": [],
   "source": [
    "def initialize_graph(node_count, contact_radius = 1, queue = None, time = 0, edge_dist='geometric'):\n",
    "    square_size = math.sqrt(node_count) #size of square\n",
    "    Adj_matrix = np.zeros((node_count, node_count))\n",
    "    State_matrix = np.zeros((3, node_count))\n",
    "    #put all nodes in S state\n",
    "    State_matrix[0] = 1\n",
    "    position = {}\n",
    "    for i in range(node_count):\n",
    "        x,y = random.uniform(0, square_size), random.uniform(0, square_size)\n",
    "        position[i] = (x,y)\n",
    "    #edges \n",
    "    #check each unique pair of nodes\n",
    "    if edge_dist == 'exp':\n",
    "        pairs = np.array(np.triu_indices(3, k=1)).T\n",
    "        for pair in pairs:\n",
    "            if random.random() < exp_dist(pair[0], pair[1], contact_radius, position):\n",
    "                Adj_matrix[pair[0]][pair[1]] = 1\n",
    "                Adj_matrix[pair[1]][pair[0]] = 1\n",
    "    elif edge_dist == 'geometric':\n",
    "        pairs = np.array(np.triu_indices(node_count, k=1)).T\n",
    "        for pair in pairs:\n",
    "            if random.random() < math.exp(-distance(position[pair[0]], position[pair[1]])/contact_radius):\n",
    "                Adj_matrix[pair[0]][pair[1]] = 1\n",
    "                Adj_matrix[pair[1]][pair[0]] = 1\n",
    "    return Adj_matrix, State_matrix, position "
   ]
  },
  {
   "cell_type": "code",
   "execution_count": 235,
   "metadata": {},
   "outputs": [],
   "source": [
    "Adj_mat, State_matrix, position = initialize_graph(node_count, contact_radius = 1, queue = None, time = 0, edge_dist='exp')"
   ]
  },
  {
   "cell_type": "code",
   "execution_count": null,
   "metadata": {},
   "outputs": [],
   "source": []
  }
 ],
 "metadata": {
  "kernelspec": {
   "display_name": "datalysis",
   "language": "python",
   "name": "python3"
  },
  "language_info": {
   "codemirror_mode": {
    "name": "ipython",
    "version": 3
   },
   "file_extension": ".py",
   "mimetype": "text/x-python",
   "name": "python",
   "nbconvert_exporter": "python",
   "pygments_lexer": "ipython3",
   "version": "3.10.9"
  },
  "orig_nbformat": 4
 },
 "nbformat": 4,
 "nbformat_minor": 2
}
